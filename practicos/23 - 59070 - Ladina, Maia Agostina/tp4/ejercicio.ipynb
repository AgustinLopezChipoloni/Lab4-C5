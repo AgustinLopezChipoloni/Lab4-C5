{
 "cells": [
  {
   "cell_type": "markdown",
   "metadata": {},
   "source": [
    "# Simulación del Truco"
   ]
  },
  {
   "cell_type": "markdown",
   "metadata": {},
   "source": [
    "Las **cartas** deben registra el numero, palo y valor de la carta. \n",
    "El valor debe reflejar la jerarquía de las cartas en el juego del truco."
   ]
  },
  {
   "cell_type": "code",
   "execution_count": 67,
   "metadata": {},
   "outputs": [
    {
     "name": "stdout",
     "output_type": "stream",
     "text": [
      "1 de oro (valor: 8)\n"
     ]
    }
   ],
   "source": [
    "def calcular_valor(numero, palo):\n",
    "\n",
    "    valores_carta = {\n",
    "        (1, 'espada'): 14, (1, 'basto'): 13, (7, 'espada'): 12, (7, 'oro'): 11,\n",
    "        (3, 'cualquiera'): 10, (2, 'cualquiera'): 9, (1, 'copa'): 8, (1, 'oro'): 8,\n",
    "        (12, 'cualquiera'): 7, (11, 'cualquiera'): 6, (10, 'cualquiera'): 5,\n",
    "        (7, 'copa'): 4, (7, 'basto'): 4, (6, 'cualquiera'): 3, (5, 'cualquiera'): 2, (4, 'cualquiera'): 1\n",
    "    }\n",
    "\n",
    "    return valores_carta.get((numero, palo), valores_carta.get((numero, 'cualquiera'), 0))\n",
    "\n",
    "class Carta:\n",
    "    def __init__(self, numero, palo):\n",
    "        self.numero = numero\n",
    "        self.palo = palo\n",
    "        self.valor = calcular_valor(numero, palo)\n",
    "    def __repr__(self):\n",
    "        return f\"{self.numero} de {self.palo} (valor: {self.valor})\"\n",
    "\n",
    "c = Carta(1, \"oro\")\n",
    "print(c)\n"
   ]
  },
  {
   "cell_type": "markdown",
   "metadata": {},
   "source": [
    "**Mazo**: Representan las cartas españolas de 1 al 12, en los palos de oro, copa, espada y basto.\n",
    "\n",
    "Debe existir una función que permita barajar las cartas.\n",
    "y otra función que permita repartir las cartas a los jugadores."
   ]
  },
  {
   "cell_type": "code",
   "execution_count": 92,
   "metadata": {},
   "outputs": [
    {
     "name": "stdout",
     "output_type": "stream",
     "text": [
      "[11 de espada (valor: 6), 12 de oro (valor: 7), 1 de basto (valor: 13)]\n"
     ]
    }
   ],
   "source": [
    "import random\n",
    "\n",
    "class Mazo:\n",
    "    def __init__(self):\n",
    "        palos = ['oro', 'copa', 'espada', 'basto']\n",
    "        numeros = list(range(1, 13))\n",
    "        self.cartas = [Carta(numero, palo) for palo in palos for numero in numeros]\n",
    "\n",
    "    def mezclar(self):\n",
    "        random.shuffle(self.cartas)\n",
    "\n",
    "    def repartir(self, cantidad):\n",
    "        if len(self.cartas) < cantidad:\n",
    "            raise ValueError(\"No quedan suficientes cartas en el mazo.\")\n",
    "        return [self.cartas.pop() for _ in range(cantidad)]\n",
    "\n",
    "m = Mazo()\n",
    "m.mezclar()\n",
    "print(m.repartir(3))\n"
   ]
  },
  {
   "cell_type": "markdown",
   "metadata": {},
   "source": [
    "**Jugador**: Deben tener un nombre y las cartas que tiene en la mano. Debe acumular los puntos ganados.\n",
    "\n",
    "Nota: Para simplificar el problema, el jugador elige la carta a jugar de forma aleatoria."
   ]
  },
  {
   "cell_type": "code",
   "execution_count": 83,
   "metadata": {},
   "outputs": [
    {
     "name": "stdout",
     "output_type": "stream",
     "text": [
      "Juan juega con la carta\n",
      "6 de espada (valor: 3)\n"
     ]
    }
   ],
   "source": [
    "class Jugador:\n",
    "    \n",
    "    def __init__(self, nombre):\n",
    "        self.nombre = nombre\n",
    "        self.cartas = []\n",
    "        self.puntaje = 0\n",
    "\n",
    "    def recibir_cartas(self, cartas):\n",
    "        self.cartas = cartas\n",
    "    \n",
    "    def jugar_carta(self):\n",
    "        carta_escogida = random.choice(self.cartas)\n",
    "        self.cartas.remove(carta_escogida)\n",
    "        print(f\"{self.nombre} juega con la carta\")\n",
    "        return carta_escogida\n",
    "    \n",
    "    def __repr__(self):\n",
    "        return f\"Jugador: {self.nombre}, Puntos: {self.puntaje}\"\n",
    "    \n",
    "j = Jugador(\"Juan\")\n",
    "j.recibir_cartas(m.repartir(3))\n",
    "print(j.jugar_carta())"
   ]
  },
  {
   "cell_type": "markdown",
   "metadata": {},
   "source": [
    "**Partida**: Debe tener dos jugadores, un mazo de cartas y un puntaje. Debe permitir jugar una carta por ronda y definir el ganador de la ronda. Debe permitir jugar hasta que se terminen las cartas del mazo."
   ]
  },
  {
   "cell_type": "code",
   "execution_count": 93,
   "metadata": {},
   "outputs": [
    {
     "name": "stdout",
     "output_type": "stream",
     "text": [
      "Juan juega con la carta\n",
      "Pedro juega con la carta\n",
      "Ronda: Juan juega 3 de copa (valor: 10), Pedro juega 7 de oro (valor: 11)\n",
      "Juan juega con la carta\n",
      "Pedro juega con la carta\n",
      "Ronda: Juan juega 6 de basto (valor: 3), Pedro juega 10 de oro (valor: 5)\n",
      "Juan juega con la carta\n",
      "Pedro juega con la carta\n",
      "Ronda: Juan juega 5 de oro (valor: 2), Pedro juega 9 de basto (valor: 0)\n",
      "Puntajes: Juan 1, Pedro 2\n",
      "Juan juega con la carta\n",
      "Pedro juega con la carta\n",
      "Ronda: Juan juega 2 de copa (valor: 9), Pedro juega 6 de espada (valor: 3)\n",
      "Juan juega con la carta\n",
      "Pedro juega con la carta\n",
      "Ronda: Juan juega 4 de oro (valor: 1), Pedro juega 9 de oro (valor: 0)\n",
      "Juan juega con la carta\n",
      "Pedro juega con la carta\n",
      "Ronda: Juan juega 12 de oro (valor: 7), Pedro juega 3 de oro (valor: 10)\n",
      "Puntajes: Juan 3, Pedro 3\n",
      "Juan juega con la carta\n",
      "Pedro juega con la carta\n",
      "Ronda: Juan juega 8 de oro (valor: 0), Pedro juega 10 de basto (valor: 5)\n",
      "Juan juega con la carta\n",
      "Pedro juega con la carta\n",
      "Ronda: Juan juega 2 de basto (valor: 9), Pedro juega 8 de espada (valor: 0)\n",
      "Juan juega con la carta\n",
      "Pedro juega con la carta\n",
      "Ronda: Juan juega 3 de espada (valor: 10), Pedro juega 12 de copa (valor: 7)\n",
      "Puntajes: Juan 5, Pedro 4\n",
      "Juan juega con la carta\n",
      "Pedro juega con la carta\n",
      "Ronda: Juan juega 4 de basto (valor: 1), Pedro juega 8 de basto (valor: 0)\n",
      "Juan juega con la carta\n",
      "Pedro juega con la carta\n",
      "Ronda: Juan juega 8 de copa (valor: 0), Pedro juega 6 de copa (valor: 3)\n",
      "Juan juega con la carta\n",
      "Pedro juega con la carta\n",
      "Ronda: Juan juega 11 de oro (valor: 6), Pedro juega 5 de espada (valor: 2)\n",
      "Puntajes: Juan 7, Pedro 5\n",
      "Juan juega con la carta\n",
      "Pedro juega con la carta\n",
      "Ronda: Juan juega 10 de espada (valor: 5), Pedro juega 1 de basto (valor: 13)\n",
      "Juan juega con la carta\n",
      "Pedro juega con la carta\n",
      "Ronda: Juan juega 10 de copa (valor: 5), Pedro juega 5 de copa (valor: 2)\n",
      "Juan juega con la carta\n",
      "Pedro juega con la carta\n",
      "Ronda: Juan juega 11 de espada (valor: 6), Pedro juega 7 de copa (valor: 4)\n",
      "Puntajes: Juan 9, Pedro 6\n",
      "Juan juega con la carta\n",
      "Pedro juega con la carta\n",
      "Ronda: Juan juega 1 de copa (valor: 8), Pedro juega 11 de copa (valor: 6)\n",
      "Juan juega con la carta\n",
      "Pedro juega con la carta\n",
      "Ronda: Juan juega 11 de basto (valor: 6), Pedro juega 5 de basto (valor: 2)\n",
      "Juan juega con la carta\n",
      "Pedro juega con la carta\n",
      "Ronda: Juan juega 7 de espada (valor: 12), Pedro juega 4 de espada (valor: 1)\n",
      "Puntajes: Juan 12, Pedro 6\n",
      "Juan juega con la carta\n",
      "Pedro juega con la carta\n",
      "Ronda: Juan juega 6 de oro (valor: 3), Pedro juega 9 de copa (valor: 0)\n",
      "Juan juega con la carta\n",
      "Pedro juega con la carta\n",
      "Ronda: Juan juega 3 de basto (valor: 10), Pedro juega 12 de basto (valor: 7)\n",
      "Juan juega con la carta\n",
      "Pedro juega con la carta\n",
      "Ronda: Juan juega 7 de basto (valor: 4), Pedro juega 4 de copa (valor: 1)\n",
      "Puntajes: Juan 15, Pedro 6\n",
      "¡Juan gana la partida!\n"
     ]
    }
   ],
   "source": [
    "\n",
    "class Mazo:\n",
    "    def __init__(self):\n",
    "        palos = ['oro', 'copa', 'espada', 'basto']\n",
    "        numeros = list(range(1, 13))\n",
    "        self.cartas = [Carta(numero, palo) for palo in palos for numero in numeros]\n",
    "\n",
    "    def mezclar(self):\n",
    "        random.shuffle(self.cartas)\n",
    "\n",
    "    def repartir(self, cantidad):\n",
    "        if len(self.cartas) < cantidad:\n",
    "            raise ValueError(\"No quedan suficientes cartas en el mazo.\")\n",
    "        return [self.cartas.pop() for _ in range(cantidad)]\n",
    "\n",
    "class Partida:\n",
    "    def __init__(self, jugador1, jugador2):\n",
    "        self.jugador1 = jugador1\n",
    "        self.jugador2 = jugador2\n",
    "        self.mazo = Mazo()\n",
    "\n",
    "    def jugar_ronda(self):\n",
    "        carta_j1 = self.jugador1.jugar_carta()\n",
    "        carta_j2 = self.jugador2.jugar_carta()\n",
    "        print(f\"Ronda: {self.jugador1.nombre} juega {carta_j1}, {self.jugador2.nombre} juega {carta_j2}\")\n",
    "        \n",
    "        if carta_j1.valor > carta_j2.valor:\n",
    "            self.jugador1.puntaje += 1\n",
    "        elif carta_j2.valor > carta_j1.valor:\n",
    "            self.jugador2.puntaje += 1\n",
    "\n",
    "    def jugar(self):\n",
    "        self.mazo.mezclar()\n",
    "        while self.jugador1.puntaje < 15 and self.jugador2.puntaje < 15:\n",
    "            try:\n",
    "                self.jugador1.recibir_cartas(self.mazo.repartir(3))\n",
    "                self.jugador2.recibir_cartas(self.mazo.repartir(3))\n",
    "            except ValueError:\n",
    "                print(\"El mazo se ha quedado sin cartas. El juego termina en empate.\")\n",
    "                return\n",
    "\n",
    "            for _ in range(3):\n",
    "                self.jugar_ronda()\n",
    "            print(f\"Puntajes: {self.jugador1.nombre} {self.jugador1.puntaje}, {self.jugador2.nombre} {self.jugador2.puntaje}\")\n",
    "        \n",
    "        ganador = self.jugador1.nombre if self.jugador1.puntaje >= 15 else self.jugador2.nombre\n",
    "        print(f\"¡{ganador} gana la partida!\")\n",
    "\n",
    "\n",
    "p = Partida(Jugador(\"Juan\"), Jugador(\"Pedro\"))\n",
    "p.jugar()"
   ]
  }
 ],
 "metadata": {
  "kernelspec": {
   "display_name": "Python 3",
   "language": "python",
   "name": "python3"
  },
  "language_info": {
   "codemirror_mode": {
    "name": "ipython",
    "version": 3
   },
   "file_extension": ".py",
   "mimetype": "text/x-python",
   "name": "python",
   "nbconvert_exporter": "python",
   "pygments_lexer": "ipython3",
   "version": "3.12.2"
  }
 },
 "nbformat": 4,
 "nbformat_minor": 2
}
