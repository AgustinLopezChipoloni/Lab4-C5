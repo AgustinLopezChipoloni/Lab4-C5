{
 "cells": [
  {
   "cell_type": "markdown",
   "metadata": {},
   "source": [
    "# TP6\n",
    "\n",
    "### `Resolver usando Pandas`\n",
    "\n",
    "Resolver los ejercicios del TP3 utilizando la librería Pandas."
   ]
  },
  {
   "cell_type": "markdown",
   "metadata": {},
   "source": [
    "### Ejercicio 1: Cargar Datos de ventas.\n",
    "\n",
    "El archivo datos.dat contiene el registro de las ventas realizadas.\n",
    "\n",
    "Tiene un formato de ancho fijo:\n",
    "- `fecha`:    10 lugares\n",
    "- `producto`: 30 lugares\n",
    "- `precio`:   10 lugares\n",
    "- `cantidad`:  5 lugares\n",
    "\n",
    "Hacer una funcion que cargue los datos en un DataFrame de Pandas."
   ]
  },
  {
   "cell_type": "code",
   "execution_count": 50,
   "metadata": {},
   "outputs": [
    {
     "name": "stdout",
     "output_type": "stream",
     "text": [
      "         fecha    producto  precio  cantidad\n",
      "0   2024-08-27     Mirinda    1510        14\n",
      "1   2024-08-27     Mirinda    1560        12\n",
      "2   2024-08-28     Torasso     940         8\n",
      "3   2024-08-29  Pepsi Cola    1210        10\n",
      "4   2024-08-30     Mirinda    1520         1\n",
      "5   2024-09-01     Mirinda    1550        15\n",
      "6   2024-09-01      Sprite     810         4\n",
      "7   2024-09-02   Coca Cola    1100         4\n",
      "8   2024-09-02  Pepsi Cola    1220        13\n",
      "9   2024-09-02     Torasso     910         5\n",
      "10  2024-09-02     Torasso     920         3\n",
      "11  2024-09-03   Coca Cola    1020         8\n",
      "12  2024-09-03     Mirinda    1570         7\n",
      "13  2024-09-03     Mirinda    1590         2\n",
      "14  2024-09-04  Pepsi Cola    1220        13\n",
      "15  2024-09-05     Mirinda    1500         3\n",
      "16  2024-09-05  Pepsi Cola    1300         5\n",
      "17  2024-09-06   Coca Cola    1080         1\n",
      "18  2024-09-06      Sprite     860        12\n",
      "19  2024-09-06     Torasso     930         3\n",
      "20  2024-09-07   Coca Cola    1080        14\n",
      "21  2024-09-07      Sprite     870        13\n",
      "22  2024-09-08   Coca Cola    1040        10\n",
      "23  2024-09-08     Mirinda    1580         2\n",
      "24  2024-09-08  Pepsi Cola    1240         9\n",
      "25  2024-09-09     Mirinda    1500         3\n",
      "26  2024-09-09      Sprite     850         9\n",
      "27  2024-09-10     Mirinda    1590         8\n",
      "28  2024-09-10  Pepsi Cola    1250        12\n",
      "29  2024-09-11      Sprite     810         6\n",
      "30  2024-09-11      Sprite     820        14\n",
      "31  2024-09-12   Coca Cola    1080         4\n",
      "32  2024-09-13     Mirinda    1580         5\n",
      "33  2024-09-13  Pepsi Cola    1250        13\n",
      "34  2024-09-14   Coca Cola    1080        15\n",
      "35  2024-09-14  Pepsi Cola    1270        14\n",
      "36  2024-09-15   Coca Cola    1100         1\n",
      "37  2024-09-15     Mirinda    1500        13\n",
      "38  2024-09-15      Sprite     870        14\n",
      "39  2024-09-15     Torasso     900        13\n"
     ]
    }
   ],
   "source": [
    "import pandas as pd\n",
    "\n",
    "def cargar_datos():\n",
    "    \n",
    "    colspecs = [(0, 10), (10, 40), (40, 50), (50, 55)]\n",
    "    \n",
    "    \n",
    "    df = pd.read_fwf('datos.dat', colspecs=colspecs, names=['fecha', 'producto', 'precio', 'cantidad'])\n",
    "    \n",
    "    \n",
    "    df['precio'] = pd.to_numeric(df['precio'], errors='coerce')\n",
    "    df['cantidad'] = pd.to_numeric(df['cantidad'], errors='coerce')\n",
    "    \n",
    "    return df\n",
    "\n",
    "\n",
    "datos = cargar_datos()\n",
    "\n",
    "\n",
    "print(datos)\n"
   ]
  },
  {
   "cell_type": "markdown",
   "metadata": {},
   "source": [
    "### Ejercicio 2: Calcular el total de ventas.\n",
    "Hacer una función que sume los importes vendidos (precio * cantidad) y las cantidades.\n"
   ]
  },
  {
   "cell_type": "code",
   "execution_count": 51,
   "metadata": {},
   "outputs": [
    {
     "name": "stdout",
     "output_type": "stream",
     "text": [
      "Las ventas fueron de $392730.00 en 335 unidades\n"
     ]
    }
   ],
   "source": [
    "def calcular_totales(datos):\n",
    "    importe_total = (datos['precio'] * datos['cantidad']).sum()\n",
    "    cantidad_total = datos['cantidad'].sum()\n",
    "    \n",
    "    return importe_total, cantidad_total\n",
    "\n",
    "importe, cantidad = calcular_totales(datos)\n",
    "\n",
    "print(f\"Las ventas fueron de ${importe:.2f} en {cantidad} unidades\")\n"
   ]
  },
  {
   "cell_type": "markdown",
   "metadata": {},
   "source": [
    "### Ejercicio 3: Listar las unidades vendidas.\n",
    "Listar cuántas unidades se vendieron en total para cada producto\n"
   ]
  },
  {
   "cell_type": "code",
   "execution_count": 52,
   "metadata": {},
   "outputs": [
    {
     "name": "stdout",
     "output_type": "stream",
     "text": [
      "Producto: Coca Cola, Unidades vendidas: 57\n",
      "Producto: Mirinda, Unidades vendidas: 85\n",
      "Producto: Pepsi Cola, Unidades vendidas: 89\n",
      "Producto: Sprite, Unidades vendidas: 72\n",
      "Producto: Torasso, Unidades vendidas: 32\n"
     ]
    }
   ],
   "source": [
    "def unidades_vendidas(datos):\n",
    "    ventas_por_producto = datos.groupby('producto')['cantidad'].sum()\n",
    " \n",
    "    for producto, cantidad in ventas_por_producto.items():\n",
    "        print(f\"Producto: {producto}, Unidades vendidas: {cantidad}\")\n",
    "\n",
    "unidades_vendidas(datos)\n"
   ]
  },
  {
   "cell_type": "markdown",
   "metadata": {},
   "source": [
    "###  Ejercicio 4: Listar el precio promedio por producto.\n",
    "Hacer un listado del precio promedio por producto.\n"
   ]
  },
  {
   "cell_type": "code",
   "execution_count": 53,
   "metadata": {},
   "outputs": [
    {
     "name": "stdout",
     "output_type": "stream",
     "text": [
      "Producto: Coca Cola, Precio promedio: $1072.50\n",
      "Producto: Mirinda, Precio promedio: $1545.83\n",
      "Producto: Pepsi Cola, Precio promedio: $1245.00\n",
      "Producto: Sprite, Precio promedio: $841.43\n",
      "Producto: Torasso, Precio promedio: $920.00\n"
     ]
    }
   ],
   "source": [
    "def precio_promedio(datos):\n",
    "    # Agrupar los datos por el nombre del producto y calcular el precio promedio\n",
    "    promedio_por_producto = datos.groupby('producto')['precio'].mean()\n",
    "    \n",
    "    # Mostrar el resultado\n",
    "    for producto, promedio in promedio_por_producto.items():\n",
    "        print(f\"Producto: {producto}, Precio promedio: ${promedio:.2f}\")\n",
    "\n",
    "# Llamar a la función para listar el precio promedio por producto\n",
    "precio_promedio(datos)\n"
   ]
  },
  {
   "cell_type": "markdown",
   "metadata": {},
   "source": [
    "### Ejercicio 5: Ranking de productos\n",
    "Realizar un listado de los 3 productos más vendidos ordenados por la cantidad de unidades vendidas (ordenadas de mayor a menor)\n"
   ]
  },
  {
   "cell_type": "code",
   "execution_count": 54,
   "metadata": {},
   "outputs": [
    {
     "name": "stdout",
     "output_type": "stream",
     "text": [
      "Producto: Pepsi Cola, Unidades vendidas: 89\n",
      "Producto: Mirinda, Unidades vendidas: 85\n",
      "Producto: Sprite, Unidades vendidas: 72\n"
     ]
    }
   ],
   "source": [
    "def ranking_productos(datos, top=3):\n",
    "    ventas_por_producto = datos.groupby('producto')['cantidad'].sum()\n",
    "    ranking = ventas_por_producto.sort_values(ascending=False).head(top)   \n",
    "    for producto, cantidad in ranking.items():\n",
    "        print(f\"Producto: {producto}, Unidades vendidas: {cantidad}\")\n",
    "\n",
    "ranking_productos(datos)\n"
   ]
  },
  {
   "cell_type": "markdown",
   "metadata": {},
   "source": [
    "### Ejercicio 6: Listar las ventas por mes\n",
    "Realizar un listado del total de unidades vendidas por producto separado por mes.\n"
   ]
  },
  {
   "cell_type": "code",
   "execution_count": 55,
   "metadata": {},
   "outputs": [
    {
     "name": "stdout",
     "output_type": "stream",
     "text": [
      "Mes: 8, Producto: Mirinda, Unidades vendidas: 27\n",
      "Mes: 8, Producto: Pepsi Cola, Unidades vendidas: 10\n",
      "Mes: 8, Producto: Torasso, Unidades vendidas: 8\n",
      "Mes: 9, Producto: Coca Cola, Unidades vendidas: 57\n",
      "Mes: 9, Producto: Mirinda, Unidades vendidas: 58\n",
      "Mes: 9, Producto: Pepsi Cola, Unidades vendidas: 79\n",
      "Mes: 9, Producto: Sprite, Unidades vendidas: 72\n",
      "Mes: 9, Producto: Torasso, Unidades vendidas: 24\n"
     ]
    }
   ],
   "source": [
    "import pandas as pd\n",
    "\n",
    "def ventas_por_mes(datos):\n",
    "    datos['fecha'] = pd.to_datetime(datos['fecha'], format='%Y-%m-%d', errors='coerce')\n",
    "    datos['mes'] = datos['fecha'].dt.month\n",
    "    ventas_mensuales = datos.groupby(['mes', 'producto'])['cantidad'].sum()\n",
    "    \n",
    "    for (mes, producto), cantidad in ventas_mensuales.items():\n",
    "        print(f\"Mes: {mes}, Producto: {producto}, Unidades vendidas: {cantidad}\")\n",
    "\n",
    "ventas_por_mes(datos)\n"
   ]
  },
  {
   "cell_type": "markdown",
   "metadata": {},
   "source": [
    "### Ejercicio 7: Informe general\n",
    "\n",
    "Mostrar un listado de productos ordenados alfabeticamente que contengan el precio promedio, la cantidad de unidades vendidas y el importe total vendido para cada producto"
   ]
  },
  {
   "cell_type": "code",
   "execution_count": 56,
   "metadata": {},
   "outputs": [
    {
     "name": "stdout",
     "output_type": "stream",
     "text": [
      "Producto: Coca Cola\n",
      "  Precio promedio: $1072.50\n",
      "  Unidades vendidas: 57.0\n",
      "  Importe total vendido: $60780.00\n",
      "\n",
      "Producto: Mirinda\n",
      "  Precio promedio: $1545.83\n",
      "  Unidades vendidas: 85.0\n",
      "  Importe total vendido: $131080.00\n",
      "\n",
      "Producto: Pepsi Cola\n",
      "  Precio promedio: $1245.00\n",
      "  Unidades vendidas: 89.0\n",
      "  Importe total vendido: $110510.00\n",
      "\n",
      "Producto: Sprite\n",
      "  Precio promedio: $841.43\n",
      "  Unidades vendidas: 72.0\n",
      "  Importe total vendido: $61040.00\n",
      "\n",
      "Producto: Torasso\n",
      "  Precio promedio: $920.00\n",
      "  Unidades vendidas: 32.0\n",
      "  Importe total vendido: $29320.00\n",
      "\n"
     ]
    }
   ],
   "source": [
    "def resumen_ventas(datos):\n",
    "    resumen = datos.groupby('producto').agg(\n",
    "        precio_promedio=('precio', 'mean'),\n",
    "        cantidad_vendida=('cantidad', 'sum'),\n",
    "        importe_total=('precio', lambda x: (x * datos.loc[x.index, 'cantidad']).sum())\n",
    "    )\n",
    "    resumen = resumen.sort_index()\n",
    "      \n",
    "    for producto, fila in resumen.iterrows():\n",
    "        print(f\"Producto: {producto}\")\n",
    "        print(f\"  Precio promedio: ${fila['precio_promedio']:.2f}\")\n",
    "        print(f\"  Unidades vendidas: {fila['cantidad_vendida']}\")\n",
    "        print(f\"  Importe total vendido: ${fila['importe_total']:.2f}\")\n",
    "        print()\n",
    "resumen_ventas(datos)\n"
   ]
  },
  {
   "cell_type": "markdown",
   "metadata": {},
   "source": [
    "## `Resolver usando NumPy`\n",
    "## Resolver el ejercicio 2 del tp1 usando NumPy"
   ]
  },
  {
   "cell_type": "markdown",
   "metadata": {},
   "source": [
    "### Ejercicio 8\n",
    "\n",
    "Escribe una función en Python que encuentre los valores de `a`, `b`, y `c` para que la función cuadrática `f(x) = a x^2 + b x + c` pase exactamente por los siguientes puntos:\n",
    "\n",
    "| x  | y  |\n",
    "|---:|---:|\n",
    "|  0 |  0 |\n",
    "|  1 |  8 |\n",
    "|  2 | 12 |\n",
    "|  3 | 12 |\n",
    "|  5 |  0 |\n",
    "\n",
    "### Requisitos:\n",
    "- La función debe explorar posibles valores de `a`, `b`, y `c` utilizando un método de prueba y error.\n",
    "- Debe devolver los valores que hagan que la diferencia entre la función `f(x)` y los valores medidos `y` sea exactamente cero para cada punto.\n",
    "\n",
    "> **Pista**: Los valores de `a`, `b`, y `c` son números pequeños.\n",
    "\n",
    "La idea es implementar el mismo algoritmo que se uso en el TP1 pero usando NumPy en lugar de Python puro."
   ]
  },
  {
   "cell_type": "code",
   "execution_count": 57,
   "metadata": {},
   "outputs": [
    {
     "name": "stdout",
     "output_type": "stream",
     "text": [
      "Coeficientes encontrados: a=-2.00, b=10.00, c=-0.00\n"
     ]
    }
   ],
   "source": [
    "import numpy as np\n",
    "def f(x, coeficientes):\n",
    "    a, b, c = coeficientes\n",
    "    return a * x**2 + b * x + c\n",
    "\n",
    "X = np.array([0, 1, 2, 3, 5])\n",
    "Y = np.array([0, 8, 12, 12, 0])\n",
    "\n",
    "def buscar_coeficientes():\n",
    "    A = np.vstack([X**2, X, np.ones(len(X))]).T\n",
    "    coeficientes, _, _, _ = np.linalg.lstsq(A, Y, rcond=None)\n",
    "    \n",
    "    return coeficientes\n",
    "\n",
    "coeficientes = buscar_coeficientes()\n",
    "print(f\"Coeficientes encontrados: a={coeficientes[0]:.2f}, b={coeficientes[1]:.2f}, c={coeficientes[2]:.2f}\")\n",
    "\n"
   ]
  },
  {
   "cell_type": "markdown",
   "metadata": {},
   "source": [
    "### Ejercicio 9: Resolver el ejercicio 3 del TP1 usando NumPy\n",
    "Buscar los coeficientes de la función que minimice la suma de los cuadrados de las diferencias entre los valores medidos y los valores de la función.\n",
    "\n",
    "1. Crear un array con los coeficientes elegidos al azar (usar `randint(-10,10,3)`).\n",
    "2. Calcular el valor de la función y el error correspondiente.\n",
    "3. Mientras que el error sea mayor a 1:\n",
    "    1. Definir nuevos coeficientes agregándoles un pequeño valor al azar a los coeficientes actuales (aprendizaje = 0.001).\n",
    "    2. Si el error para los nuevos coeficientes es menor que el anterior, reemplazar los coeficientes actuales por los nuevos.\n"
   ]
  },
  {
   "cell_type": "code",
   "execution_count": 58,
   "metadata": {},
   "outputs": [
    {
     "name": "stdout",
     "output_type": "stream",
     "text": [
      "Coeficientes encontrados: a=8.1220, b=14.5590, c=-5.5320\n"
     ]
    }
   ],
   "source": [
    "import numpy as np\n",
    "from numpy.random import randint\n",
    "def f(x, coeficientes):\n",
    "    a, b, c = coeficientes\n",
    "    return a * x**2 + b * x + c\n",
    "\n",
    "def error(y, y_pred):\n",
    "    return np.sum((y - y_pred)**2)\n",
    "X = np.array([0, 1, 2, 3, 5])\n",
    "Y = np.array([0, 8, 12, 12, 0])\n",
    "\n",
    "def buscar_coeficientes():\n",
    "    coeficientes = randint(-10, 10, 3).astype(float)  \n",
    "    aprendizaje = 0.001  \n",
    "    iteraciones = 10000  \n",
    "    mejor_error = np.inf  \n",
    "    \n",
    "    for _ in range(iteraciones):\n",
    "        Y_pred = f(X, coeficientes)\n",
    "        \n",
    "        error_actual = error(Y, Y_pred)\n",
    "        \n",
    "        if error_actual < mejor_error:\n",
    "            mejor_error = error_actual  \n",
    "        else:\n",
    "            coeficientes -= aprendizaje * randint(-10, 10, 3).astype(float)\n",
    "        \n",
    "        nuevos_coeficientes = coeficientes + aprendizaje * randint(-10, 10, 3).astype(float)\n",
    "        \n",
    "        Y_pred_nuevos = f(X, nuevos_coeficientes)\n",
    "        error_nuevo = error(Y, Y_pred_nuevos)\n",
    "        \n",
    "        if error_nuevo < mejor_error:\n",
    "            coeficientes = nuevos_coeficientes\n",
    "            mejor_error = error_nuevo\n",
    "        \n",
    "        if mejor_error < 1:\n",
    "            break\n",
    "    \n",
    "    return coeficientes\n",
    "\n",
    "coeficientes = buscar_coeficientes()\n",
    "print(f\"Coeficientes encontrados: a={coeficientes[0]:.4f}, b={coeficientes[1]:.4f}, c={coeficientes[2]:.4f}\")\n",
    "\n"
   ]
  }
 ],
 "metadata": {
  "kernelspec": {
   "display_name": "Python 3",
   "language": "python",
   "name": "python3"
  },
  "language_info": {
   "codemirror_mode": {
    "name": "ipython",
    "version": 3
   },
   "file_extension": ".py",
   "mimetype": "text/x-python",
   "name": "python",
   "nbconvert_exporter": "python",
   "pygments_lexer": "ipython3",
   "version": "3.13.0"
  }
 },
 "nbformat": 4,
 "nbformat_minor": 2
}
