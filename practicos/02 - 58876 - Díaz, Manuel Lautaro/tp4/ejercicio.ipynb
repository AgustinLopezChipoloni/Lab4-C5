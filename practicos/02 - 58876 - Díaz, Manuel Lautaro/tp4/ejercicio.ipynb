{
 "cells": [
  {
   "cell_type": "markdown",
   "metadata": {},
   "source": [
    "# Simulación del Truco"
   ]
  },
  {
   "cell_type": "markdown",
   "metadata": {},
   "source": [
    "Las **cartas** deben registra el numero, palo y valor de la carta. \n",
    "El valor debe reflejar la jerarquía de las cartas en el juego del truco."
   ]
  },
  {
   "cell_type": "code",
   "execution_count": 1,
   "metadata": {},
   "outputs": [
    {
     "name": "stdout",
     "output_type": "stream",
     "text": [
      "1 de oro (Valor: 8)\n"
     ]
    }
   ],
   "source": [
    "def calcular_valor(numero, palo):\n",
    "    jerarquia = {\n",
    "        (1, \"espada\"): 14, (1, \"basto\"): 13, (7, \"espada\"): 12, (7, \"oro\"): 11,\n",
    "        (3, ): 10, (2, ): 9, (1, ): 8, (4, ): 7, (5, ): 6, (6, ): 5, (7, ): 4,\n",
    "        (12, ): 3, (11, ): 2, (10, ): 1\n",
    "    }\n",
    "\n",
    "    return jerarquia.get((numero, palo), jerarquia.get((numero,), 0)) \n",
    "\n",
    "class Carta:\n",
    "    def __init__(self, numero, palo):\n",
    "        self.numero = numero\n",
    "        self.palo = palo\n",
    "        self.valor = calcular_valor(numero, palo)\n",
    "        \n",
    "    def __repr__(self):\n",
    "        return f\"{self.numero} de {self.palo} (Valor: {self.valor})\"\n",
    "\n",
    "c = Carta(1, \"oro\")\n",
    "print(c)"
   ]
  },
  {
   "cell_type": "markdown",
   "metadata": {},
   "source": [
    "**Mazo**: Representan las cartas españolas de 1 al 12, en los palos de oro, copa, espada y basto.\n",
    "\n",
    "Debe existir una función que permita barajar las cartas.\n",
    "y otra función que permita repartir las cartas a los jugadores."
   ]
  },
  {
   "cell_type": "code",
   "execution_count": 2,
   "metadata": {},
   "outputs": [
    {
     "name": "stdout",
     "output_type": "stream",
     "text": [
      "[2 de copa (Valor: 9), 12 de basto (Valor: 3), 10 de espada (Valor: 1)]\n"
     ]
    }
   ],
   "source": [
    "import random\n",
    "\n",
    "class Mazo:\n",
    "    def __init__(self):\n",
    "        self.cartas = [Carta(numero, palo) \n",
    "                       for numero in range(1, 13)\n",
    "                       for palo in [\"oro\", \"copa\", \"espada\", \"basto\"] if numero != 8 and numero != 9]\n",
    "        \n",
    "    def mezclar(self):\n",
    "        random.shuffle(self.cartas)\n",
    "        \n",
    "    def repartir(self, cantidad):\n",
    "        return [self.cartas.pop() for _ in range(cantidad)]\n",
    "\n",
    "m = Mazo()\n",
    "m.mezclar()\n",
    "print(m.repartir(3))"
   ]
  },
  {
   "cell_type": "markdown",
   "metadata": {},
   "source": [
    "**Jugador**: Deben tener un nombre y las cartas que tiene en la mano. Debe acumular los puntos ganados.\n",
    "\n",
    "Nota: Para simplificar el problema, el jugador elige la carta a jugar de forma aleatoria."
   ]
  },
  {
   "cell_type": "code",
   "execution_count": 4,
   "metadata": {},
   "outputs": [
    {
     "name": "stdout",
     "output_type": "stream",
     "text": [
      "Carta jugada por Juan: 1 de oro (Valor: 8)\n"
     ]
    }
   ],
   "source": [
    "class Jugador:\n",
    "    pass\n",
    "    def __init__(self, nombre):\n",
    "        self.nombre = nombre\n",
    "        self.mano = []\n",
    "        self.puntos = 0\n",
    "    \n",
    "    def recibir_cartas(self, cartas):\n",
    "        self.mano = cartas\n",
    "    \n",
    "    def jugar_carta(self):\n",
    "        if self.mano:\n",
    "            return self.mano.pop(random.randint(0, len(self.mano) - 1))\n",
    "\n",
    "j = Jugador(\"Juan\")\n",
    "j.recibir_cartas(m.repartir(3))\n",
    "print(f\"Carta jugada por {j.nombre}: {j.jugar_carta()}\")"
   ]
  },
  {
   "cell_type": "markdown",
   "metadata": {},
   "source": [
    "**Partida**: Debe tener dos jugadores, un mazo de cartas y un puntaje. Debe permitir jugar una carta por ronda y definir el ganador de la ronda. Debe permitir jugar hasta que se terminen las cartas del mazo."
   ]
  },
  {
   "cell_type": "code",
   "execution_count": 5,
   "metadata": {},
   "outputs": [
    {
     "name": "stdout",
     "output_type": "stream",
     "text": [
      "Juan juega 3 de basto (Valor: 10)\n",
      "Pedro juega 5 de espada (Valor: 6)\n",
      "Gana la ronda Juan\n",
      "Puntaje: Juan 1 - Pedro 0\n",
      "\n",
      "Juan juega 4 de espada (Valor: 7)\n",
      "Pedro juega 6 de oro (Valor: 5)\n",
      "Gana la ronda Juan\n",
      "Puntaje: Juan 2 - Pedro 0\n",
      "\n",
      "Juan juega 2 de oro (Valor: 9)\n",
      "Pedro juega 11 de oro (Valor: 2)\n",
      "Gana la ronda Juan\n",
      "Puntaje: Juan 3 - Pedro 0\n",
      "\n",
      "Juan juega 11 de copa (Valor: 2)\n",
      "Pedro juega 10 de oro (Valor: 1)\n",
      "Gana la ronda Juan\n",
      "Puntaje: Juan 4 - Pedro 0\n",
      "\n",
      "Juan juega 7 de copa (Valor: 4)\n",
      "Pedro juega 6 de espada (Valor: 5)\n",
      "Gana la ronda Pedro\n",
      "Puntaje: Juan 4 - Pedro 1\n",
      "\n",
      "Juan juega 4 de oro (Valor: 7)\n",
      "Pedro juega 12 de espada (Valor: 3)\n",
      "Gana la ronda Juan\n",
      "Puntaje: Juan 5 - Pedro 1\n",
      "\n",
      "Juan juega 10 de espada (Valor: 1)\n",
      "Pedro juega 10 de copa (Valor: 1)\n",
      "Empate\n",
      "Puntaje: Juan 5 - Pedro 1\n",
      "\n",
      "Juan juega 1 de espada (Valor: 14)\n",
      "Pedro juega 7 de basto (Valor: 4)\n",
      "Gana la ronda Juan\n",
      "Puntaje: Juan 6 - Pedro 1\n",
      "\n",
      "Juan juega 12 de basto (Valor: 3)\n",
      "Pedro juega 7 de espada (Valor: 12)\n",
      "Gana la ronda Pedro\n",
      "Puntaje: Juan 6 - Pedro 2\n",
      "\n",
      "Juan juega 3 de espada (Valor: 10)\n",
      "Pedro juega 5 de copa (Valor: 6)\n",
      "Gana la ronda Juan\n",
      "Puntaje: Juan 7 - Pedro 2\n",
      "\n",
      "Juan juega 5 de basto (Valor: 6)\n",
      "Pedro juega 7 de oro (Valor: 11)\n",
      "Gana la ronda Pedro\n",
      "Puntaje: Juan 7 - Pedro 3\n",
      "\n",
      "Juan juega 3 de copa (Valor: 10)\n",
      "Pedro juega 4 de copa (Valor: 7)\n",
      "Gana la ronda Juan\n",
      "Puntaje: Juan 8 - Pedro 3\n",
      "\n",
      "Juan juega 6 de copa (Valor: 5)\n",
      "Pedro juega 6 de basto (Valor: 5)\n",
      "Empate\n",
      "Puntaje: Juan 8 - Pedro 3\n",
      "\n",
      "Juan juega 1 de copa (Valor: 8)\n",
      "Pedro juega 2 de espada (Valor: 9)\n",
      "Gana la ronda Pedro\n",
      "Puntaje: Juan 8 - Pedro 4\n",
      "\n",
      "Juan juega 1 de oro (Valor: 8)\n",
      "Pedro juega 4 de basto (Valor: 7)\n",
      "Gana la ronda Juan\n",
      "Puntaje: Juan 9 - Pedro 4\n",
      "\n",
      "Juan juega 2 de copa (Valor: 9)\n",
      "Pedro juega 5 de oro (Valor: 6)\n",
      "Gana la ronda Juan\n",
      "Puntaje: Juan 10 - Pedro 4\n",
      "\n",
      "Juan juega 12 de oro (Valor: 3)\n",
      "Pedro juega 3 de oro (Valor: 10)\n",
      "Gana la ronda Pedro\n",
      "Puntaje: Juan 10 - Pedro 5\n",
      "\n",
      "Juan juega 11 de espada (Valor: 2)\n",
      "Pedro juega 12 de copa (Valor: 3)\n",
      "Gana la ronda Pedro\n",
      "Puntaje: Juan 10 - Pedro 6\n",
      "\n"
     ]
    }
   ],
   "source": [
    "class Partida:\n",
    "    def __init__(self, jugador1, jugador2):\n",
    "        self.jugador1 = jugador1\n",
    "        self.jugador2 = jugador2\n",
    "        self.mazo = Mazo()\n",
    "\n",
    "    def jugar_ronda(self):\n",
    "        carta_j1 = self.jugador1.jugar_carta()\n",
    "        carta_j2 = self.jugador2.jugar_carta()\n",
    "        print(f\"{self.jugador1.nombre} juega {carta_j1}\")\n",
    "        print(f\"{self.jugador2.nombre} juega {carta_j2}\")\n",
    "        \n",
    "        if carta_j1.valor > carta_j2.valor:\n",
    "            print(f\"Gana la ronda {self.jugador1.nombre}\")\n",
    "            return self.jugador1\n",
    "        elif carta_j1.valor < carta_j2.valor:\n",
    "            print(f\"Gana la ronda {self.jugador2.nombre}\")\n",
    "            return self.jugador2\n",
    "        else:\n",
    "            print(\"Empate\")\n",
    "            return None\n",
    "         \n",
    "\n",
    "    def jugar(self):\n",
    "        self.mazo.mezclar()\n",
    "        while len(self.mazo.cartas) >= 6 and self.jugador1.puntos < 15 and self.jugador2.puntos < 15:\n",
    "            self.jugador1.recibir_cartas(self.mazo.repartir(3))\n",
    "            self.jugador2.recibir_cartas(self.mazo.repartir(3))\n",
    "            \n",
    "            for _ in range(3):\n",
    "                ganador = self.jugar_ronda()\n",
    "                if ganador:\n",
    "                    ganador.puntos += 1\n",
    "            \n",
    "                print(f\"Puntaje: {self.jugador1.nombre} {self.jugador1.puntos} - {self.jugador2.nombre} {self.jugador2.puntos}\")\n",
    "                print()\n",
    "        \n",
    "        if self.jugador1.puntos >= 15:\n",
    "            print(f\"¡{self.jugador1.nombre} gana la partida!\")\n",
    "        elif self.jugador2.puntos >= 15:\n",
    "            print(f\"¡{self.jugador2.nombre} gana la partida!\")\n",
    "\n",
    "p = Partida(Jugador(\"Juan\"), Jugador(\"Pedro\"))\n",
    "p.jugar()"
   ]
  }
 ],
 "metadata": {
  "kernelspec": {
   "display_name": "Python 3",
   "language": "python",
   "name": "python3"
  },
  "language_info": {
   "codemirror_mode": {
    "name": "ipython",
    "version": 3
   },
   "file_extension": ".py",
   "mimetype": "text/x-python",
   "name": "python",
   "nbconvert_exporter": "python",
   "pygments_lexer": "ipython3",
   "version": "3.12.5"
  }
 },
 "nbformat": 4,
 "nbformat_minor": 2
}
