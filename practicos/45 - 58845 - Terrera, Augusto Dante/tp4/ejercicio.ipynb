{
 "cells": [
  {
   "cell_type": "markdown",
   "metadata": {},
   "source": [
    "# Simulación del Truco"
   ]
  },
  {
   "cell_type": "markdown",
   "metadata": {},
   "source": [
    "Las **cartas** deben registra el numero, palo y valor de la carta. \n",
    "El valor debe reflejar la jerarquía de las cartas en el juego del truco."
   ]
  },
  {
   "cell_type": "code",
   "execution_count": 1,
   "metadata": {},
   "outputs": [
    {
     "name": "stdout",
     "output_type": "stream",
     "text": [
      "Carta(1 de oro, valor: 8)\n"
     ]
    }
   ],
   "source": [
    "def calcular_valor(numero, palo):\n",
    "    jerarquia_truco = {\n",
    "        (1, 'espada'): 14,  \n",
    "        (1, 'basto'): 13,  \n",
    "        (7, 'espada'): 12, \n",
    "        (7, 'oro'): 11\n",
    "    }\n",
    "    \n",
    "    if (numero, palo) in jerarquia_truco:\n",
    "        return jerarquia_truco[(numero, palo)]\n",
    "    \n",
    "    if numero == 3:\n",
    "        return 10\n",
    "    elif numero == 2:\n",
    "        return 9\n",
    "    elif numero == 1:\n",
    "        return 8\n",
    "    elif numero == 12:\n",
    "        return 7\n",
    "    elif numero == 11:\n",
    "        return 6\n",
    "    elif numero == 10:\n",
    "        return 5\n",
    "    elif numero == 7:\n",
    "        return 4\n",
    "    elif numero == 6:\n",
    "        return 3\n",
    "    elif numero == 5:\n",
    "        return 2\n",
    "    elif numero == 4:\n",
    "        return 1\n",
    "    return 0\n",
    "\n",
    "class Carta:\n",
    "    def __init__(self, numero, palo):\n",
    "        self.numero = numero\n",
    "        self.palo = palo\n",
    "        self.valor = calcular_valor(numero, palo)\n",
    "    \n",
    "    def __repr__(self):\n",
    "        return f\"Carta({self.numero} de {self.palo}, valor: {self.valor})\"\n",
    "\n",
    "c = Carta(1, \"oro\")\n",
    "print(c)\n"
   ]
  },
  {
   "cell_type": "markdown",
   "metadata": {},
   "source": [
    "**Mazo**: Representan las cartas españolas de 1 al 12, en los palos de oro, copa, espada y basto.\n",
    "\n",
    "Debe existir una función que permita barajar las cartas.\n",
    "y otra función que permita repartir las cartas a los jugadores."
   ]
  },
  {
   "cell_type": "code",
   "execution_count": 5,
   "metadata": {},
   "outputs": [
    {
     "name": "stdout",
     "output_type": "stream",
     "text": [
      "[Carta(1 de copa, valor: 8), Carta(5 de espada, valor: 2), Carta(2 de basto, valor: 9)]\n"
     ]
    }
   ],
   "source": [
    "import random\n",
    "\n",
    "class Mazo:\n",
    "    def __init__(self):\n",
    "        palos = ['oro', 'copa', 'espada', 'basto']\n",
    "        self.cartas = [Carta(numero, palo) for numero in range(1, 13) if numero != 8 and numero != 9 for palo in palos]\n",
    "\n",
    "    def mezclar(self):\n",
    "        random.shuffle(self.cartas)\n",
    "    \n",
    "    def repartir(self, cantidad):\n",
    "        return [self.cartas.pop() for _ in range(cantidad)] if cantidad <= len(self.cartas) else []\n",
    "\n",
    "m = Mazo()\n",
    "m.mezclar()\n",
    "mano = m.repartir(3)\n",
    "print(mano)\n"
   ]
  },
  {
   "cell_type": "markdown",
   "metadata": {},
   "source": [
    "**Jugador**: Deben tener un nombre y las cartas que tiene en la mano. Debe acumular los puntos ganados.\n",
    "\n",
    "Nota: Para simplificar el problema, el jugador elige la carta a jugar de forma aleatoria."
   ]
  },
  {
   "cell_type": "code",
   "execution_count": 8,
   "metadata": {},
   "outputs": [
    {
     "name": "stdout",
     "output_type": "stream",
     "text": [
      "Carta(10 de espada, valor: 5)\n"
     ]
    }
   ],
   "source": [
    "\n",
    "import random\n",
    "\n",
    "class Jugador:\n",
    "    def __init__(self, nombre):\n",
    "        self.nombre = nombre\n",
    "        self.mano = []\n",
    "        self.puntos = 0\n",
    "\n",
    "    def recibir_cartas(self, cartas):\n",
    "        self.mano.extend(cartas)\n",
    "\n",
    "    def jugar_carta(self):\n",
    "        if self.mano:\n",
    "            carta = random.choice(self.mano)\n",
    "            self.mano.remove(carta)\n",
    "            return carta\n",
    "        return None\n",
    "\n",
    "    def __repr__(self):\n",
    "        return f\"Jugador({self.nombre}, puntos: {self.puntos}, cartas en mano: {len(self.mano)})\"\n",
    "\n",
    "j = Jugador(\"Juan\")\n",
    "m = Mazo()\n",
    "m.mezclar()\n",
    "j.recibir_cartas(m.repartir(3))\n",
    "print(j.jugar_carta())\n"
   ]
  },
  {
   "cell_type": "markdown",
   "metadata": {},
   "source": [
    "**Partida**: Debe tener dos jugadores, un mazo de cartas y un puntaje. Debe permitir jugar una carta por ronda y definir el ganador de la ronda. Debe permitir jugar hasta que se terminen las cartas del mazo."
   ]
  },
  {
   "cell_type": "code",
   "execution_count": 10,
   "metadata": {},
   "outputs": [
    {
     "name": "stdout",
     "output_type": "stream",
     "text": [
      "Puntos: Juan 0, Pedro 0\n",
      "Juan juega Carta(1 de espada, valor: 14), Pedro juega Carta(7 de copa, valor: 4)\n",
      "Ronda ganada por Juan\n",
      "Puntos: Juan 1, Pedro 0\n",
      "Juan juega Carta(6 de basto, valor: 3), Pedro juega Carta(2 de espada, valor: 9)\n",
      "Ronda ganada por Pedro\n",
      "Puntos: Juan 1, Pedro 1\n",
      "Juan juega Carta(5 de copa, valor: 2), Pedro juega Carta(7 de oro, valor: 11)\n",
      "Ronda ganada por Pedro\n",
      "Puntos: Juan 1, Pedro 2\n",
      "Repartiendo más cartas...\n",
      "Puntos: Juan 1, Pedro 2\n",
      "Juan juega Carta(11 de oro, valor: 6), Pedro juega Carta(11 de copa, valor: 6)\n",
      "Empate en la ronda\n",
      "Puntos: Juan 1, Pedro 2\n",
      "Juan juega Carta(3 de basto, valor: 10), Pedro juega Carta(5 de basto, valor: 2)\n",
      "Ronda ganada por Juan\n",
      "Puntos: Juan 2, Pedro 2\n",
      "Juan juega Carta(1 de copa, valor: 8), Pedro juega Carta(2 de basto, valor: 9)\n",
      "Ronda ganada por Pedro\n",
      "Puntos: Juan 2, Pedro 3\n",
      "Repartiendo más cartas...\n",
      "Puntos: Juan 2, Pedro 3\n",
      "Juan juega Carta(12 de espada, valor: 7), Pedro juega Carta(7 de basto, valor: 4)\n",
      "Ronda ganada por Juan\n",
      "Puntos: Juan 3, Pedro 3\n",
      "Juan juega Carta(10 de basto, valor: 5), Pedro juega Carta(3 de espada, valor: 10)\n",
      "Ronda ganada por Pedro\n",
      "Puntos: Juan 3, Pedro 4\n",
      "Juan juega Carta(1 de basto, valor: 13), Pedro juega Carta(10 de espada, valor: 5)\n",
      "Ronda ganada por Juan\n",
      "Puntos: Juan 4, Pedro 4\n",
      "Repartiendo más cartas...\n",
      "Puntos: Juan 4, Pedro 4\n",
      "Juan juega Carta(4 de copa, valor: 1), Pedro juega Carta(4 de espada, valor: 1)\n",
      "Empate en la ronda\n",
      "Puntos: Juan 4, Pedro 4\n",
      "Juan juega Carta(5 de espada, valor: 2), Pedro juega Carta(12 de copa, valor: 7)\n",
      "Ronda ganada por Pedro\n",
      "Puntos: Juan 4, Pedro 5\n",
      "Juan juega Carta(4 de basto, valor: 1), Pedro juega Carta(2 de oro, valor: 9)\n",
      "Ronda ganada por Pedro\n",
      "Puntos: Juan 4, Pedro 6\n",
      "Repartiendo más cartas...\n",
      "Puntos: Juan 4, Pedro 6\n",
      "Juan juega Carta(3 de oro, valor: 10), Pedro juega Carta(3 de copa, valor: 10)\n",
      "Empate en la ronda\n",
      "Puntos: Juan 4, Pedro 6\n",
      "Juan juega Carta(1 de oro, valor: 8), Pedro juega Carta(2 de copa, valor: 9)\n",
      "Ronda ganada por Pedro\n",
      "Puntos: Juan 4, Pedro 7\n",
      "Juan juega Carta(11 de espada, valor: 6), Pedro juega Carta(7 de espada, valor: 12)\n",
      "Ronda ganada por Pedro\n",
      "Puntos: Juan 4, Pedro 8\n",
      "Repartiendo más cartas...\n",
      "Puntos: Juan 4, Pedro 8\n",
      "Juan juega Carta(12 de basto, valor: 7), Pedro juega Carta(6 de oro, valor: 3)\n",
      "Ronda ganada por Juan\n",
      "Puntos: Juan 5, Pedro 8\n",
      "Juan juega Carta(10 de oro, valor: 5), Pedro juega Carta(6 de copa, valor: 3)\n",
      "Ronda ganada por Juan\n",
      "Puntos: Juan 6, Pedro 8\n",
      "Juan juega Carta(6 de espada, valor: 3), Pedro juega Carta(12 de oro, valor: 7)\n",
      "Ronda ganada por Pedro\n",
      "Puntos: Juan 6, Pedro 9\n",
      "Repartiendo más cartas...\n",
      "Puntos: Juan 6, Pedro 9\n",
      "Uno o ambos jugadores no tienen cartas.\n",
      "Puntos: Juan 6, Pedro 9\n",
      "Uno o ambos jugadores no tienen cartas.\n",
      "Puntos: Juan 6, Pedro 9\n",
      "Uno o ambos jugadores no tienen cartas.\n",
      "Puntos: Juan 6, Pedro 9\n",
      "Repartiendo más cartas...\n",
      "No hay suficientes cartas para repartir, la partida termina.\n",
      "Pedro gana la partida con 9 puntos!\n"
     ]
    }
   ],
   "source": [
    "class Partida:\n",
    "    def __init__(self, jugador1, jugador2):\n",
    "        self.jugador1 = jugador1\n",
    "        self.jugador2 = jugador2\n",
    "        self.mazo = Mazo()\n",
    "        self.mazo.mezclar()\n",
    "\n",
    "    def jugar_ronda(self):\n",
    "        carta1 = self.jugador1.jugar_carta()\n",
    "        carta2 = self.jugador2.jugar_carta()\n",
    "\n",
    "        if carta1 and carta2:\n",
    "            print(f\"{self.jugador1.nombre} juega {carta1}, {self.jugador2.nombre} juega {carta2}\")\n",
    "\n",
    "            if carta1.valor > carta2.valor:\n",
    "                print(f\"Ronda ganada por {self.jugador1.nombre}\")\n",
    "                self.jugador1.puntos += 1\n",
    "            elif carta2.valor > carta1.valor:\n",
    "                print(f\"Ronda ganada por {self.jugador2.nombre}\")\n",
    "                self.jugador2.puntos += 1\n",
    "            else:\n",
    "                print(\"Empate en la ronda\")\n",
    "        else:\n",
    "            print(\"Uno o ambos jugadores no tienen cartas.\")\n",
    "\n",
    "    def jugar(self):\n",
    "        self.jugador1.recibir_cartas(self.mazo.repartir(3))\n",
    "        self.jugador2.recibir_cartas(self.mazo.repartir(3))\n",
    "\n",
    "        while self.jugador1.puntos < 15 and self.jugador2.puntos < 15:\n",
    "            print(f\"Puntos: {self.jugador1.nombre} {self.jugador1.puntos}, {self.jugador2.nombre} {self.jugador2.puntos}\")\n",
    "            \n",
    "            if not self.jugador1.mano and not self.jugador2.mano:\n",
    "                if not self.mazo.cartas:\n",
    "                    print(\"No hay más cartas en el mazo ni en las manos de los jugadores. La partida termina.\")\n",
    "                    break\n",
    "                else:\n",
    "                    print(\"Repartiendo más cartas...\")\n",
    "                    cartas_j1 = self.mazo.repartir(3)\n",
    "                    cartas_j2 = self.mazo.repartir(3)\n",
    "                    \n",
    "                    if not cartas_j1 and not cartas_j2:\n",
    "                        print(\"No hay suficientes cartas para repartir, la partida termina.\")\n",
    "                        break\n",
    "                    \n",
    "                    self.jugador1.recibir_cartas(cartas_j1)\n",
    "                    self.jugador2.recibir_cartas(cartas_j2)\n",
    "            else:\n",
    "                self.jugar_ronda()\n",
    "\n",
    "        if self.jugador1.puntos > self.jugador2.puntos:\n",
    "            print(f\"{self.jugador1.nombre} gana la partida con {self.jugador1.puntos} puntos!\")\n",
    "        elif self.jugador2.puntos > self.jugador1.puntos:\n",
    "            print(f\"{self.jugador2.nombre} gana la partida con {self.jugador2.puntos} puntos!\")\n",
    "        else:\n",
    "            print(\"La partida terminó en empate.\")\n",
    "\n",
    "p = Partida(Jugador(\"Juan\"), Jugador(\"Pedro\"))\n",
    "p.jugar()\n"
   ]
  }
 ],
 "metadata": {
  "kernelspec": {
   "display_name": "Python 3",
   "language": "python",
   "name": "python3"
  },
  "language_info": {
   "codemirror_mode": {
    "name": "ipython",
    "version": 3
   },
   "file_extension": ".py",
   "mimetype": "text/x-python",
   "name": "python",
   "nbconvert_exporter": "python",
   "pygments_lexer": "ipython3",
   "version": "3.12.5"
  }
 },
 "nbformat": 4,
 "nbformat_minor": 2
}
