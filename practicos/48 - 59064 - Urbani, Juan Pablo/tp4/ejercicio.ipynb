{
 "cells": [
  {
   "cell_type": "markdown",
   "metadata": {},
   "source": [
    "# Simulación del Truco"
   ]
  },
  {
   "cell_type": "markdown",
   "metadata": {},
   "source": [
    "Las **cartas** deben registra el numero, palo y valor de la carta. \n",
    "El valor debe reflejar la jerarquía de las cartas en el juego del truco."
   ]
  },
  {
   "cell_type": "code",
   "execution_count": 4,
   "metadata": {},
   "outputs": [],
   "source": [
    "class Carta:\n",
    "    def __init__(self, numero, palo):\n",
    "        self.numero = numero\n",
    "        self.palo = palo\n",
    "        self.valor = self.calcular_valor()\n",
    "\n",
    "    def calcular_valor(self):\n",
    "        jerarquia = {\n",
    "            (1, \"espada\"): 14, (1, \"basto\"): 13, (7, \"espada\"): 12, (7, \"oro\"): 11,\n",
    "            (3, \"oro\"): 10, (3, \"copa\"): 10, (3, \"espada\"): 10, (3, \"basto\"): 10,\n",
    "            (2, \"oro\"): 9, (2, \"copa\"): 9, (2, \"espada\"): 9, (2, \"basto\"): 9,\n",
    "            (1, \"oro\"): 8, (1, \"copa\"): 8, (12, \"oro\"): 7, (12, \"copa\"): 7, (12, \"espada\"): 7, (12, \"basto\"): 7,\n",
    "            (11, \"oro\"): 6, (11, \"copa\"): 6, (11, \"espada\"): 6, (11, \"basto\"): 6,\n",
    "            (10, \"oro\"): 5, (10, \"copa\"): 5, (10, \"espada\"): 5, (10, \"basto\"): 5,\n",
    "            (7, \"copa\"): 4, (7, \"basto\"): 4, (6, \"oro\"): 3, (6, \"copa\"): 3, (6, \"espada\"): 3, (6, \"basto\"): 3,\n",
    "            (5, \"oro\"): 2, (5, \"copa\"): 2, (5, \"espada\"): 2, (5, \"basto\"): 2,\n",
    "            (4, \"oro\"): 1, (4, \"copa\"): 1, (4, \"espada\"): 1, (4, \"basto\"): 1\n",
    "        }\n",
    "        return jerarquia.get((self.numero, self.palo), 0)\n",
    "\n",
    "    def __repr__(self):\n",
    "        return f\"{self.numero} de {self.palo} (Valor: {self.valor})\"\n"
   ]
  },
  {
   "cell_type": "markdown",
   "metadata": {},
   "source": [
    "**Mazo**: Representan las cartas españolas de 1 al 12, en los palos de oro, copa, espada y basto.\n",
    "\n",
    "Debe existir una función que permita barajar las cartas.\n",
    "y otra función que permita repartir las cartas a los jugadores."
   ]
  },
  {
   "cell_type": "code",
   "execution_count": 5,
   "metadata": {},
   "outputs": [
    {
     "name": "stdout",
     "output_type": "stream",
     "text": [
      "None\n"
     ]
    }
   ],
   "source": [
    "import random\n",
    "\n",
    "class Mazo:\n",
    "    palos = [\"oro\", \"copa\", \"espada\", \"basto\"]\n",
    "    numeros = list(range(1, 13))\n",
    "\n",
    "    def __init__(self):\n",
    "        self.cartas = [Carta(numero, palo) for palo in self.palos for numero in self.numeros if numero != 8 and numero != 9]\n",
    "\n",
    "    def mezclar(self):\n",
    "        random.shuffle(self.cartas)\n",
    "\n",
    "    def repartir(self, cantidad):\n",
    "        return [self.cartas.pop() for _ in range(cantidad)]\n",
    "\n",
    "    def __repr__(self):\n",
    "        return f\"Mazo con {len(self.cartas)} cartas restantes.\""
   ]
  },
  {
   "cell_type": "markdown",
   "metadata": {},
   "source": [
    "**Jugador**: Deben tener un nombre y las cartas que tiene en la mano. Debe acumular los puntos ganados.\n",
    "\n",
    "Nota: Para simplificar el problema, el jugador elige la carta a jugar de forma aleatoria."
   ]
  },
  {
   "cell_type": "code",
   "execution_count": 6,
   "metadata": {},
   "outputs": [
    {
     "name": "stdout",
     "output_type": "stream",
     "text": [
      "None\n"
     ]
    }
   ],
   "source": [
    "class Jugador:\n",
    "    def __init__(self, nombre):\n",
    "        self.nombre = nombre\n",
    "        self.mano = []\n",
    "        self.puntos = 0\n",
    "\n",
    "    def recibir_cartas(self, cartas):\n",
    "        self.mano = cartas\n",
    "\n",
    "    def jugar_carta(self):\n",
    "        return self.mano.pop(random.randint(0, len(self.mano) - 1))\n",
    "\n",
    "    def __repr__(self):\n",
    "        return f\"{self.nombre} con {self.puntos} puntos.\""
   ]
  },
  {
   "cell_type": "markdown",
   "metadata": {},
   "source": [
    "**Partida**: Debe tener dos jugadores, un mazo de cartas y un puntaje. Debe permitir jugar una carta por ronda y definir el ganador de la ronda. Debe permitir jugar hasta que se terminen las cartas del mazo."
   ]
  },
  {
   "cell_type": "code",
   "execution_count": null,
   "metadata": {},
   "outputs": [],
   "source": [
    "class Partida:\n",
    "    def __init__(self, jugador1, jugador2):\n",
    "        self.jugador1 = jugador1\n",
    "        self.jugador2 = jugador2\n",
    "        self.mazo = Mazo()\n",
    "\n",
    "    def jugar_ronda(self):\n",
    "        carta1 = self.jugador1.jugar_carta()\n",
    "        carta2 = self.jugador2.jugar_carta()\n",
    "\n",
    "        print(f\"{self.jugador1.nombre} juega {carta1}\")\n",
    "        print(f\"{self.jugador2.nombre} juega {carta2}\")\n",
    "\n",
    "        if carta1.valor > carta2.valor:\n",
    "            print(f\"Ganador de la ronda: {self.jugador1.nombre}\")\n",
    "            self.jugador1.puntos += 1\n",
    "        elif carta2.valor > carta1.valor:\n",
    "            print(f\"Ganador de la ronda: {self.jugador2.nombre}\")\n",
    "            self.jugador2.puntos += 1\n",
    "        else:\n",
    "            print(\"Empate en la ronda\")\n",
    "\n",
    "    def jugar(self):\n",
    "        while self.jugador1.puntos < 15 and self.jugador2.puntos < 15:\n",
    "            print(\"\\nNueva partida\")\n",
    "            self.mazo = Mazo()\n",
    "            self.mazo.mezclar()\n",
    "            self.jugador1.recibir_cartas(self.mazo.repartir(3))\n",
    "            self.jugador2.recibir_cartas(self.mazo.repartir(3))\n",
    "\n",
    "            for _ in range(3):\n",
    "                self.jugar_ronda()\n",
    "\n",
    "        ganador = self.jugador1 if self.jugador1.puntos >= 15 else self.jugador2\n",
    "        print(f\"\\nEl ganador final es {ganador.nombre} con {ganador.puntos} puntos.\")"
   ]
  }
 ],
 "metadata": {
  "kernelspec": {
   "display_name": "Python 3",
   "language": "python",
   "name": "python3"
  },
  "language_info": {
   "codemirror_mode": {
    "name": "ipython",
    "version": 3
   },
   "file_extension": ".py",
   "mimetype": "text/x-python",
   "name": "python",
   "nbconvert_exporter": "python",
   "pygments_lexer": "ipython3",
   "version": "3.12.5"
  }
 },
 "nbformat": 4,
 "nbformat_minor": 2
}
