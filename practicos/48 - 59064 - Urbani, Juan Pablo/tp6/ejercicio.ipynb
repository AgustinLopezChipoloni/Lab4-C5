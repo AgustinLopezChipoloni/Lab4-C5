{
 "cells": [
  {
   "cell_type": "markdown",
   "metadata": {},
   "source": [
    "# TP6\n",
    "\n",
    "### `Resolver usando Pandas`\n",
    "\n",
    "Resolver los ejercicios del TP3 utilizando la librería Pandas."
   ]
  },
  {
   "cell_type": "markdown",
   "metadata": {},
   "source": [
    "### Ejercicio 1: Cargar Datos de ventas.\n",
    "\n",
    "El archivo datos.dat contiene el registro de las ventas realizadas.\n",
    "\n",
    "Tiene un formato de ancho fijo:\n",
    "- `fecha`:    10 lugares\n",
    "- `producto`: 30 lugares\n",
    "- `precio`:   10 lugares\n",
    "- `cantidad`:  5 lugares\n",
    "\n",
    "Hacer una funcion que cargue los datos en un DataFrame de Pandas."
   ]
  },
  {
   "cell_type": "code",
   "execution_count": 1,
   "metadata": {},
   "outputs": [
    {
     "data": {
      "text/html": [
       "<div>\n",
       "<style scoped>\n",
       "    .dataframe tbody tr th:only-of-type {\n",
       "        vertical-align: middle;\n",
       "    }\n",
       "\n",
       "    .dataframe tbody tr th {\n",
       "        vertical-align: top;\n",
       "    }\n",
       "\n",
       "    .dataframe thead th {\n",
       "        text-align: right;\n",
       "    }\n",
       "</style>\n",
       "<table border=\"1\" class=\"dataframe\">\n",
       "  <thead>\n",
       "    <tr style=\"text-align: right;\">\n",
       "      <th></th>\n",
       "      <th>fecha</th>\n",
       "      <th>producto</th>\n",
       "      <th>precio</th>\n",
       "      <th>cantidad</th>\n",
       "    </tr>\n",
       "  </thead>\n",
       "  <tbody>\n",
       "    <tr>\n",
       "      <th>0</th>\n",
       "      <td>2024-08-27</td>\n",
       "      <td>Mirinda</td>\n",
       "      <td>1510</td>\n",
       "      <td>14</td>\n",
       "    </tr>\n",
       "    <tr>\n",
       "      <th>1</th>\n",
       "      <td>2024-08-27</td>\n",
       "      <td>Mirinda</td>\n",
       "      <td>1560</td>\n",
       "      <td>12</td>\n",
       "    </tr>\n",
       "    <tr>\n",
       "      <th>2</th>\n",
       "      <td>2024-08-28</td>\n",
       "      <td>Torasso</td>\n",
       "      <td>940</td>\n",
       "      <td>8</td>\n",
       "    </tr>\n",
       "    <tr>\n",
       "      <th>3</th>\n",
       "      <td>2024-08-29</td>\n",
       "      <td>Pepsi Cola</td>\n",
       "      <td>1210</td>\n",
       "      <td>10</td>\n",
       "    </tr>\n",
       "    <tr>\n",
       "      <th>4</th>\n",
       "      <td>2024-08-30</td>\n",
       "      <td>Mirinda</td>\n",
       "      <td>1520</td>\n",
       "      <td>1</td>\n",
       "    </tr>\n",
       "  </tbody>\n",
       "</table>\n",
       "</div>"
      ],
      "text/plain": [
       "       fecha    producto  precio  cantidad\n",
       "0 2024-08-27     Mirinda    1510        14\n",
       "1 2024-08-27     Mirinda    1560        12\n",
       "2 2024-08-28     Torasso     940         8\n",
       "3 2024-08-29  Pepsi Cola    1210        10\n",
       "4 2024-08-30     Mirinda    1520         1"
      ]
     },
     "execution_count": 1,
     "metadata": {},
     "output_type": "execute_result"
    }
   ],
   "source": [
    "import pandas as pd\n",
    "\n",
    "def cargar_datos():\n",
    "    # Definir los anchos de las columnas basados en la descripción\n",
    "    column_widths = [10, 30, 10, 5]\n",
    "    column_names = ['fecha', 'producto', 'precio', 'cantidad']\n",
    "    \n",
    "    # Cargar los datos desde el archivo de ancho fijo\n",
    "    df = pd.read_fwf('datos.dat', widths=column_widths, header=None, names=column_names)\n",
    "    \n",
    "    # Convertir 'precio' y 'cantidad' a enteros\n",
    "    df['precio'] = pd.to_numeric(df['precio'], errors='coerce')\n",
    "    df['cantidad'] = pd.to_numeric(df['cantidad'], errors='coerce')\n",
    "    \n",
    "    # Convertir 'fecha' a formato datetime\n",
    "    df['fecha'] = pd.to_datetime(df['fecha'], format='%Y-%m-%d')\n",
    "    \n",
    "    return df\n",
    "\n",
    "datos = cargar_datos()\n",
    "datos.head()  # Mostrar las primeras filas\n"
   ]
  },
  {
   "cell_type": "markdown",
   "metadata": {},
   "source": [
    "### Ejercicio 2: Calcular el total de ventas.\n",
    "Hacer una función que sume los importes vendidos (precio * cantidad) y las cantidades.\n"
   ]
  },
  {
   "cell_type": "code",
   "execution_count": 2,
   "metadata": {},
   "outputs": [
    {
     "name": "stdout",
     "output_type": "stream",
     "text": [
      "Las ventas fueron de $392730.00 en 335 unidades\n"
     ]
    }
   ],
   "source": [
    "def calcular_totales(datos):\n",
    "    # Calcular el importe total (precio * cantidad)\n",
    "    datos['importe'] = datos['precio'] * datos['cantidad']\n",
    "    \n",
    "    # Sumar el importe total y la cantidad total de unidades vendidas\n",
    "    importe_total = datos['importe'].sum()\n",
    "    cantidad_total = datos['cantidad'].sum()\n",
    "    \n",
    "    return importe_total, cantidad_total\n",
    "\n",
    "importe, cantidad = calcular_totales(datos)\n",
    "print(f\"Las ventas fueron de ${importe:.2f} en {cantidad} unidades\")\n"
   ]
  },
  {
   "cell_type": "markdown",
   "metadata": {},
   "source": [
    "### Ejercicio 3: Listar las unidades vendidas.\n",
    "Listar cuántas unidades se vendieron en total para cada producto\n"
   ]
  },
  {
   "cell_type": "code",
   "execution_count": 3,
   "metadata": {},
   "outputs": [
    {
     "name": "stdout",
     "output_type": "stream",
     "text": [
      "producto\n",
      "Coca Cola     57\n",
      "Mirinda       85\n",
      "Pepsi Cola    89\n",
      "Sprite        72\n",
      "Torasso       32\n",
      "Name: cantidad, dtype: int64\n"
     ]
    }
   ],
   "source": [
    "def unidades_vendidas(datos):\n",
    "    # Agrupar por producto y sumar las cantidades\n",
    "    return datos.groupby('producto')['cantidad'].sum()\n",
    "\n",
    "print(unidades_vendidas(datos))\n"
   ]
  },
  {
   "cell_type": "markdown",
   "metadata": {},
   "source": [
    "###  Ejercicio 4: Listar el precio promedio por producto.\n",
    "Hacer un listado del precio promedio por producto.\n"
   ]
  },
  {
   "cell_type": "code",
   "execution_count": 4,
   "metadata": {},
   "outputs": [
    {
     "name": "stdout",
     "output_type": "stream",
     "text": [
      "producto\n",
      "Coca Cola     1072.500000\n",
      "Mirinda       1545.833333\n",
      "Pepsi Cola    1245.000000\n",
      "Sprite         841.428571\n",
      "Torasso        920.000000\n",
      "Name: precio, dtype: float64\n"
     ]
    }
   ],
   "source": [
    "def precio_promedio(datos):\n",
    "    # Agrupar por producto y calcular el precio promedio\n",
    "    return datos.groupby('producto')['precio'].mean()\n",
    "\n",
    "print(precio_promedio(datos))\n"
   ]
  },
  {
   "cell_type": "markdown",
   "metadata": {},
   "source": [
    "### Ejercicio 5: Ranking de productos\n",
    "Realizar un listado de los 3 productos más vendidos ordenados por la cantidad de unidades vendidas (ordenadas de mayor a menor)\n"
   ]
  },
  {
   "cell_type": "code",
   "execution_count": 5,
   "metadata": {},
   "outputs": [
    {
     "name": "stdout",
     "output_type": "stream",
     "text": [
      "producto\n",
      "Pepsi Cola    89\n",
      "Mirinda       85\n",
      "Sprite        72\n",
      "Name: cantidad, dtype: int64\n"
     ]
    }
   ],
   "source": [
    "def ranking_productos(datos, top=3):\n",
    "    # Agrupar por producto y sumar las cantidades, luego ordenar y mostrar el top\n",
    "    return datos.groupby('producto')['cantidad'].sum().sort_values(ascending=False).head(top)\n",
    "\n",
    "print(ranking_productos(datos))\n"
   ]
  },
  {
   "cell_type": "markdown",
   "metadata": {},
   "source": [
    "### Ejercicio 6: Listar las ventas por mes\n",
    "Realizar un listado del total de unidades vendidas por producto separado por mes.\n"
   ]
  },
  {
   "cell_type": "code",
   "execution_count": 6,
   "metadata": {},
   "outputs": [
    {
     "name": "stdout",
     "output_type": "stream",
     "text": [
      "producto    mes\n",
      "Coca Cola   9      57\n",
      "Mirinda     8      27\n",
      "            9      58\n",
      "Pepsi Cola  8      10\n",
      "            9      79\n",
      "Sprite      9      72\n",
      "Torasso     8       8\n",
      "            9      24\n",
      "Name: cantidad, dtype: int64\n"
     ]
    }
   ],
   "source": [
    "def ventas_por_mes(datos):\n",
    "    # Extraer el mes de la fecha y agrupar por producto y mes\n",
    "    datos['mes'] = datos['fecha'].dt.month\n",
    "    return datos.groupby(['producto', 'mes'])['cantidad'].sum()\n",
    "\n",
    "print(ventas_por_mes(datos))\n"
   ]
  },
  {
   "cell_type": "markdown",
   "metadata": {},
   "source": [
    "### Ejercicio 7: Informe general\n",
    "\n",
    "Mostrar un listado de productos ordenados alfabeticamente que contengan el precio promedio, la cantidad de unidades vendidas y el importe total vendido para cada producto"
   ]
  },
  {
   "cell_type": "code",
   "execution_count": 7,
   "metadata": {},
   "outputs": [
    {
     "name": "stdout",
     "output_type": "stream",
     "text": [
      "            precio_promedio  cantidad_vendida  importe_total\n",
      "producto                                                    \n",
      "Coca Cola       1072.500000                57          60780\n",
      "Mirinda         1545.833333                85         131080\n",
      "Pepsi Cola      1245.000000                89         110510\n",
      "Sprite           841.428571                72          61040\n",
      "Torasso          920.000000                32          29320\n"
     ]
    }
   ],
   "source": [
    "def resumen_ventas(datos):\n",
    "    # Agrupar por producto, calcular el precio promedio, las cantidades vendidas y el importe total\n",
    "    resumen = datos.groupby('producto').agg(\n",
    "        precio_promedio=('precio', 'mean'),\n",
    "        cantidad_vendida=('cantidad', 'sum'),\n",
    "        importe_total=('importe', 'sum')\n",
    "    ).sort_index()\n",
    "    \n",
    "    return resumen\n",
    "\n",
    "print(resumen_ventas(datos))\n"
   ]
  },
  {
   "cell_type": "markdown",
   "metadata": {},
   "source": [
    "## `Resolver usando NumPy`\n",
    "## Resolver el ejercicio 2 del tp1 usando NumPy"
   ]
  },
  {
   "cell_type": "markdown",
   "metadata": {},
   "source": [
    "### Ejercicio 8\n",
    "\n",
    "Escribe una función en Python que encuentre los valores de `a`, `b`, y `c` para que la función cuadrática `f(x) = a x^2 + b x + c` pase exactamente por los siguientes puntos:\n",
    "\n",
    "| x  | y  |\n",
    "|---:|---:|\n",
    "|  0 |  0 |\n",
    "|  1 |  8 |\n",
    "|  2 | 12 |\n",
    "|  3 | 12 |\n",
    "|  5 |  0 |\n",
    "\n",
    "### Requisitos:\n",
    "- La función debe explorar posibles valores de `a`, `b`, y `c` utilizando un método de prueba y error.\n",
    "- Debe devolver los valores que hagan que la diferencia entre la función `f(x)` y los valores medidos `y` sea exactamente cero para cada punto.\n",
    "\n",
    "> **Pista**: Los valores de `a`, `b`, y `c` son números pequeños.\n",
    "\n",
    "La idea es implementar el mismo algoritmo que se uso en el TP1 pero usando NumPy en lugar de Python puro."
   ]
  },
  {
   "cell_type": "code",
   "execution_count": 14,
   "metadata": {},
   "outputs": [
    {
     "name": "stdout",
     "output_type": "stream",
     "text": [
      "Los coeficientes son: (np.int64(-2), np.int64(10), np.int64(0))\n"
     ]
    }
   ],
   "source": [
    "import numpy as np\n",
    "\n",
    "# Definir la función cuadrática\n",
    "def f(x, coeficientes):\n",
    "    a, b, c = coeficientes\n",
    "    return a * x**2 + b * x + c\n",
    "\n",
    "# Definir los puntos\n",
    "X = np.array([0, 1, 2, 3, 5])\n",
    "Y = np.array([0, 8, 12, 12, 0])\n",
    "\n",
    "# Función para buscar coeficientes usando prueba y error con NumPy\n",
    "def buscar_coeficientes():\n",
    "    for a in np.arange(-10, 11, 1):\n",
    "        for b in np.arange(-10, 11, 1):\n",
    "            for c in np.arange(-10, 11, 1):\n",
    "                y_pred = f(X, (a, b, c))  # Calcular la predicción para los coeficientes actuales\n",
    "                if np.allclose(y_pred, Y, atol=1e-8):  # Comparar con los valores reales\n",
    "                    return a, b, c\n",
    "    return None\n",
    "\n",
    "# Encontrar los coeficientes\n",
    "coeficientes = buscar_coeficientes()\n",
    "\n",
    "# Imprimir resultado\n",
    "print(f\"Los coeficientes son: {coeficientes}\")\n"
   ]
  },
  {
   "cell_type": "markdown",
   "metadata": {},
   "source": [
    "### Ejercicio 9: Resolver el ejercicio 3 del TP1 usando NumPy\n",
    "Buscar los coeficientes de la función que minimice la suma de los cuadrados de las diferencias entre los valores medidos y los valores de la función.\n",
    "\n",
    "1. Crear un array con los coeficientes elegidos al azar (usar `randint(-10,10,3)`).\n",
    "2. Calcular el valor de la función y el error correspondiente.\n",
    "3. Mientras que el error sea mayor a 1:\n",
    "    1. Definir nuevos coeficientes agregándoles un pequeño valor al azar a los coeficientes actuales (aprendizaje = 0.001).\n",
    "    2. Si el error para los nuevos coeficientes es menor que el anterior, reemplazar los coeficientes actuales por los nuevos.\n"
   ]
  },
  {
   "cell_type": "code",
   "execution_count": 13,
   "metadata": {},
   "outputs": [
    {
     "name": "stdout",
     "output_type": "stream",
     "text": [
      "Coeficientes: [-1.7785334   8.95964558  0.62216648], Error: 0.9999271568786811\n"
     ]
    }
   ],
   "source": [
    "from numpy.random import randint\n",
    "\n",
    "X = np.array([0, 1, 2, 3, 5])\n",
    "Y = np.array([0, 8, 12, 11, 1])  # Valores modificados\n",
    "\n",
    "def buscar_coeficientes():\n",
    "    coeficientes = randint(-10, 10, 3)  # Coeficientes iniciales\n",
    "    aprendizaje = 0.001\n",
    "    error_anterior = error(Y, f(X, coeficientes))\n",
    "    \n",
    "    while error_anterior > 1:\n",
    "        nuevos_coeficientes = coeficientes + np.random.randn(3) * aprendizaje\n",
    "        nuevo_error = error(Y, f(X, nuevos_coeficientes))\n",
    "        \n",
    "        if nuevo_error < error_anterior:\n",
    "            coeficientes = nuevos_coeficientes\n",
    "            error_anterior = nuevo_error\n",
    "    \n",
    "    return coeficientes\n",
    "\n",
    "coeficientes = buscar_coeficientes()\n",
    "print(f\"Coeficientes: {coeficientes}, Error: {error(Y, f(X, coeficientes))}\")\n"
   ]
  }
 ],
 "metadata": {
  "kernelspec": {
   "display_name": "Python 3",
   "language": "python",
   "name": "python3"
  },
  "language_info": {
   "codemirror_mode": {
    "name": "ipython",
    "version": 3
   },
   "file_extension": ".py",
   "mimetype": "text/x-python",
   "name": "python",
   "nbconvert_exporter": "python",
   "pygments_lexer": "ipython3",
   "version": "3.13.0"
  }
 },
 "nbformat": 4,
 "nbformat_minor": 2
}
