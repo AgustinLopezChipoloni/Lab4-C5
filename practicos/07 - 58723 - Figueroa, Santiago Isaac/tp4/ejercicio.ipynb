{
 "cells": [
  {
   "cell_type": "markdown",
   "metadata": {},
   "source": [
    "# Simulación del Truco"
   ]
  },
  {
   "cell_type": "markdown",
   "metadata": {},
   "source": [
    "Las **cartas** deben registra el numero, palo y valor de la carta. \n",
    "El valor debe reflejar la jerarquía de las cartas en el juego del truco."
   ]
  },
  {
   "cell_type": "code",
   "execution_count": 1,
   "metadata": {},
   "outputs": [],
   "source": [
    "def calcular_valor(numero, palo):\n",
    "    valores = {\n",
    "        1: 14,  \n",
    "        2: 9,\n",
    "        3: 10,\n",
    "        4: 1,\n",
    "        5: 2,\n",
    "        6: 3,\n",
    "        7: 7 if palo != \"espada\" and palo != \"oro\" else (13 if palo == \"espada\" else 12),\n",
    "        10: 4,\n",
    "        11: 5,\n",
    "        12: 6\n",
    "    }\n",
    "    return valores.get(numero, numero) \n",
    "class Carta:\n",
    "    def __init__(self, numero, palo):\n",
    "        self.numero = numero\n",
    "        self.palo = palo\n",
    "        self.valor = calcular_valor(numero, palo) \n",
    "\n",
    "    def __str__(self):\n",
    "        return f\"{self.numero} de {self.palo}\"\n",
    "\n",
    "    def __repr__(self):\n",
    "        return f\"Carta({self.numero}, '{self.palo}')\" \n",
    "c = Carta(1, \"oro\")\n"
   ]
  },
  {
   "cell_type": "markdown",
   "metadata": {},
   "source": [
    "**Mazo**: Representan las cartas españolas de 1 al 12, en los palos de oro, copa, espada y basto.\n",
    "\n",
    "Debe existir una función que permita barajar las cartas.\n",
    "y otra función que permita repartir las cartas a los jugadores."
   ]
  },
  {
   "cell_type": "code",
   "execution_count": 2,
   "metadata": {},
   "outputs": [
    {
     "name": "stdout",
     "output_type": "stream",
     "text": [
      "[Carta(3, 'basto'), Carta(5, 'copa'), Carta(11, 'basto')]\n"
     ]
    }
   ],
   "source": [
    "import random\n",
    "\n",
    "class Mazo:\n",
    "    def __init__(self):\n",
    "        self.palos = ['oro', 'copa', 'espada', 'basto']\n",
    "        self.cartas = [Carta(num, palo) for num in range(1, 13) if num != 8 and num != 9 for palo in self.palos]\n",
    "    def mezclar(self):\n",
    "        random.shuffle(self.cartas)\n",
    "    def repartir(self, cantidad):\n",
    "        cartas_repartidas = []\n",
    "        for _ in range(cantidad):\n",
    "            if self.cartas: \n",
    "                cartas_repartidas.append(self.cartas.pop())\n",
    "            else:\n",
    "                print(\"No quedan más cartas, se mezcla de nuevo el mazo.\")\n",
    "                self.mazo_nuevo()  \n",
    "                cartas_repartidas.append(self.cartas.pop())\n",
    "        return cartas_repartidas\n",
    "\n",
    "m = Mazo()\n",
    "m.mezclar()\n",
    "print(m.repartir(3))"
   ]
  },
  {
   "cell_type": "markdown",
   "metadata": {},
   "source": [
    "**Jugador**: Deben tener un nombre y las cartas que tiene en la mano. Debe acumular los puntos ganados.\n",
    "\n",
    "Nota: Para simplificar el problema, el jugador elige la carta a jugar de forma aleatoria."
   ]
  },
  {
   "cell_type": "code",
   "execution_count": 3,
   "metadata": {},
   "outputs": [
    {
     "name": "stdout",
     "output_type": "stream",
     "text": [
      "4 de basto\n"
     ]
    }
   ],
   "source": [
    "class Jugador:\n",
    "    pass\n",
    "    def __init__(self, nombre):\n",
    "        self.nombre = nombre\n",
    "        self.mano = []\n",
    "    def recibir_cartas(self, cartas):\n",
    "        self.mano = cartas\n",
    "    \n",
    "    def jugar_carta(self):\n",
    "        if self.mano:\n",
    "            return self.mano.pop(0)\n",
    "        return None\n",
    "\n",
    "j = Jugador(\"Juan\")\n",
    "j.recibir_cartas(m.repartir(3))\n",
    "print(j.jugar_carta())"
   ]
  },
  {
   "cell_type": "markdown",
   "metadata": {},
   "source": [
    "**Partida**: Debe tener dos jugadores, un mazo de cartas y un puntaje. Debe permitir jugar una carta por ronda y definir el ganador de la ronda. Debe permitir jugar hasta que se terminen las cartas del mazo."
   ]
  },
  {
   "cell_type": "code",
   "execution_count": 4,
   "metadata": {},
   "outputs": [
    {
     "name": "stdout",
     "output_type": "stream",
     "text": [
      "Juan juega: 6 de espada\n",
      "Pedro juega: 6 de copa\n",
      "Empate en la ronda\n",
      "Juan juega: 10 de copa\n",
      "Pedro juega: 2 de basto\n",
      "Pedro gana la ronda\n",
      "Juan juega: 1 de oro\n",
      "Pedro juega: 2 de oro\n",
      "Juan gana la ronda\n",
      "Puntos finales: Juan: 1, Pedro: 1\n",
      "Fin de las 3 rondas, el juego se reinicia.\n",
      "Juan juega: 2 de copa\n",
      "Pedro juega: 1 de espada\n",
      "Pedro gana la ronda\n",
      "Juan juega: 7 de copa\n",
      "Pedro juega: 3 de copa\n",
      "Pedro gana la ronda\n",
      "Juan juega: 11 de espada\n",
      "Pedro juega: 6 de copa\n",
      "Juan gana la ronda\n",
      "Puntos finales: Juan: 2, Pedro: 3\n",
      "Fin de las 3 rondas, el juego se reinicia.\n",
      "Juan juega: 10 de basto\n",
      "Pedro juega: 4 de basto\n",
      "Juan gana la ronda\n",
      "Juan juega: 4 de oro\n",
      "Pedro juega: 10 de copa\n",
      "Pedro gana la ronda\n",
      "Juan juega: 11 de copa\n",
      "Pedro juega: 2 de espada\n",
      "Pedro gana la ronda\n",
      "Puntos finales: Juan: 3, Pedro: 5\n",
      "Fin de las 3 rondas, el juego se reinicia.\n",
      "Juan juega: 7 de oro\n",
      "Pedro juega: 3 de basto\n",
      "Juan gana la ronda\n",
      "Juan juega: 10 de copa\n",
      "Pedro juega: 5 de copa\n",
      "Juan gana la ronda\n",
      "Juan juega: 1 de oro\n",
      "Pedro juega: 2 de oro\n",
      "Juan gana la ronda\n",
      "Puntos finales: Juan: 6, Pedro: 5\n",
      "Fin de las 3 rondas, el juego se reinicia.\n",
      "Juan juega: 7 de oro\n",
      "Pedro juega: 7 de espada\n",
      "Pedro gana la ronda\n",
      "Juan juega: 2 de espada\n",
      "Pedro juega: 12 de oro\n",
      "Juan gana la ronda\n",
      "Juan juega: 10 de espada\n",
      "Pedro juega: 12 de basto\n",
      "Pedro gana la ronda\n",
      "Puntos finales: Juan: 7, Pedro: 7\n",
      "Fin de las 3 rondas, el juego se reinicia.\n",
      "Juan juega: 11 de basto\n",
      "Pedro juega: 2 de basto\n",
      "Pedro gana la ronda\n",
      "Juan juega: 6 de copa\n",
      "Pedro juega: 7 de espada\n",
      "Pedro gana la ronda\n",
      "Juan juega: 2 de oro\n",
      "Pedro juega: 6 de basto\n",
      "Juan gana la ronda\n",
      "Puntos finales: Juan: 8, Pedro: 9\n",
      "Fin de las 3 rondas, el juego se reinicia.\n",
      "Juan juega: 7 de espada\n",
      "Pedro juega: 6 de basto\n",
      "Juan gana la ronda\n",
      "Juan juega: 2 de basto\n",
      "Pedro juega: 7 de basto\n",
      "Juan gana la ronda\n",
      "Juan juega: 11 de oro\n",
      "Pedro juega: 6 de oro\n",
      "Juan gana la ronda\n",
      "Puntos finales: Juan: 11, Pedro: 9\n",
      "Fin de las 3 rondas, el juego se reinicia.\n",
      "Juan juega: 3 de copa\n",
      "Pedro juega: 2 de espada\n",
      "Juan gana la ronda\n",
      "Juan juega: 3 de basto\n",
      "Pedro juega: 4 de espada\n",
      "Juan gana la ronda\n",
      "Juan juega: 1 de copa\n",
      "Pedro juega: 11 de basto\n",
      "Juan gana la ronda\n",
      "Puntos finales: Juan: 14, Pedro: 9\n",
      "Fin de las 3 rondas, el juego se reinicia.\n",
      "Juan juega: 1 de espada\n",
      "Pedro juega: 11 de copa\n",
      "Juan gana la ronda\n",
      "Juan juega: 3 de espada\n",
      "Pedro juega: 7 de espada\n",
      "Pedro gana la ronda\n",
      "Juan juega: 2 de basto\n",
      "Pedro juega: 7 de oro\n",
      "Pedro gana la ronda\n",
      "Puntos finales: Juan: 15, Pedro: 11\n"
     ]
    }
   ],
   "source": [
    "class Partida:\n",
    "    def __init__(self, jugador1, jugador2):\n",
    "        self.j1 = jugador1\n",
    "        self.j2 = jugador2\n",
    "        self.puntos_j1 = 0\n",
    "        self.puntos_j2 = 0\n",
    "\n",
    "    def jugar_ronda(self):\n",
    "\n",
    "        carta1 = self.j1.jugar_carta()\n",
    "        carta2 = self.j2.jugar_carta()\n",
    "\n",
    "        if carta1 and carta2:\n",
    "            print(f\"{self.j1.nombre} juega: {carta1.numero} de {carta1.palo}\")\n",
    "            print(f\"{self.j2.nombre} juega: {carta2.numero} de {carta2.palo}\")\n",
    "\n",
    "            if carta1.valor > carta2.valor:\n",
    "                print(f\"{self.j1.nombre} gana la ronda\")\n",
    "                return 1\n",
    "            elif carta2.valor > carta1.valor:\n",
    "                print(f\"{self.j2.nombre} gana la ronda\")\n",
    "                return 2\n",
    "            else:\n",
    "                print(\"Empate en la ronda\")\n",
    "                return 0  \n",
    "\n",
    "    def jugar(self):\n",
    "        mazo = Mazo()\n",
    "        mazo.mezclar()\n",
    "        while self.puntos_j1 < 15 and self.puntos_j2 < 15: \n",
    "            self.j1.recibir_cartas(mazo.repartir(3))\n",
    "            self.j2.recibir_cartas(mazo.repartir(3))\n",
    "\n",
    "            for _ in range(3):  \n",
    "                ganador = self.jugar_ronda()\n",
    "                if ganador == 1:\n",
    "                    self.puntos_j1 += 1\n",
    "                elif ganador == 2:\n",
    "                    self.puntos_j2 += 1\n",
    "\n",
    "            print(f\"Puntos finales: {self.j1.nombre}: {self.puntos_j1}, {self.j2.nombre}: {self.puntos_j2}\")\n",
    "            if self.puntos_j1 < 15 and self.puntos_j2 < 15:  \n",
    "                print(\"Fin de las 3 rondas, el juego se reinicia.\")\n",
    "                mazo = Mazo()  \n",
    "                mazo.mezclar()\n",
    "        pass\n",
    "\n",
    "p = Partida(Jugador(\"Juan\"), Jugador(\"Pedro\"))\n",
    "p.jugar()"
   ]
  },
  {
   "cell_type": "code",
   "execution_count": null,
   "metadata": {},
   "outputs": [],
   "source": []
  }
 ],
 "metadata": {
  "kernelspec": {
   "display_name": "Python 3",
   "language": "python",
   "name": "python3"
  },
  "language_info": {
   "codemirror_mode": {
    "name": "ipython",
    "version": 3
   },
   "file_extension": ".py",
   "mimetype": "text/x-python",
   "name": "python",
   "nbconvert_exporter": "python",
   "pygments_lexer": "ipython3",
   "version": "3.12.6"
  }
 },
 "nbformat": 4,
 "nbformat_minor": 2
}
