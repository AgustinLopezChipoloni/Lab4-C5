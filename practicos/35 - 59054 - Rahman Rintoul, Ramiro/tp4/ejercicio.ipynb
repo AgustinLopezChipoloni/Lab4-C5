{
 "cells": [
  {
   "cell_type": "markdown",
   "metadata": {},
   "source": [
    "# Simulación del Truco"
   ]
  },
  {
   "cell_type": "markdown",
   "metadata": {},
   "source": [
    "Las **cartas** deben registra el numero, palo y valor de la carta. \n",
    "El valor debe reflejar la jerarquía de las cartas en el juego del truco."
   ]
  },
  {
   "cell_type": "code",
   "execution_count": 9,
   "metadata": {},
   "outputs": [],
   "source": [
    "Cartas = {\n",
    "    (1, \"espada\"): 14, (1, \"basto\"): 13, (7, \"espada\"): 12, (7, \"oro\"): 11\n",
    "}\n",
    "x = {3: 10, 2: 9, 4: 8, 5: 7, 6: 6, 7: 5}\n",
    "y = {10: 4, 11: 3, 12: 2}\n",
    "\n",
    "def calcular_valor(numero, palo):\n",
    "    return Cartas.get((numero, palo), x.get(numero, y.get(numero, 0)))\n",
    "\n",
    "    \n",
    "class Carta:\n",
    "    def __init__(self, numero, palo):\n",
    "        self.numero = numero\n",
    "        self.palo = palo\n",
    "        self.valor = calcular_valor(numero, palo)\n",
    "\n",
    "    def __str__(self):\n",
    "        return f\"{self.palo} de {self.numero} de {self.valor}\"\n",
    "\n"
   ]
  },
  {
   "cell_type": "markdown",
   "metadata": {},
   "source": [
    "**Mazo**: Representan las cartas españolas de 1 al 12, en los palos de oro, copa, espada y basto.\n",
    "\n",
    "Debe existir una función que permita barajar las cartas.\n",
    "y otra función que permita repartir las cartas a los jugadores."
   ]
  },
  {
   "cell_type": "code",
   "execution_count": 14,
   "metadata": {},
   "outputs": [
    {
     "name": "stdout",
     "output_type": "stream",
     "text": [
      "[(11, 'espada'), (9, 'espada'), (11, 'oro')]\n"
     ]
    }
   ],
   "source": [
    "import random as r\n",
    "\n",
    "class Mazo:\n",
    "    def __init__(self):\n",
    "        palos = [\"oro\", \"copa\", \"espada\", \"basto\"]\n",
    "        numeros = list(range(1, 13))\n",
    "        self.cartas = [(numero, palo) for palo in palos for numero in numeros]\n",
    "    def mezclar(self):\n",
    "        r.shuffle(self.cartas)\n",
    "    def repartir(self, cantidad):\n",
    "        return [self.cartas.pop() for _ in range(cantidad)] if cantidad <= len(self.cartas) else None\n",
    "\n",
    "m = Mazo()\n",
    "m.mezclar()\n",
    "print(m.repartir(3))"
   ]
  },
  {
   "cell_type": "markdown",
   "metadata": {},
   "source": [
    "**Jugador**: Deben tener un nombre y las cartas que tiene en la mano. Debe acumular los puntos ganados.\n",
    "\n",
    "Nota: Para simplificar el problema, el jugador elige la carta a jugar de forma aleatoria."
   ]
  },
  {
   "cell_type": "code",
   "execution_count": 26,
   "metadata": {},
   "outputs": [
    {
     "name": "stdout",
     "output_type": "stream",
     "text": [
      "Juan juega la carta: (5, 'copa')\n"
     ]
    }
   ],
   "source": [
    "class Jugador:\n",
    "    \n",
    "    def __init__(self, nombre):\n",
    "        self.nombre = nombre\n",
    "        self.cartas = []\n",
    "        self.puntos = 0\n",
    "    def recibir_cartas(self, cartas):\n",
    "        self.mano = cartas\n",
    "    \n",
    "    def jugar_carta(self):\n",
    "        if self.mano:\n",
    "            carta_jugada = self.mano[0]\n",
    "            self.mano.remove(carta_jugada)\n",
    "            return carta_jugada\n",
    "        return None\n",
    "\n",
    "j = Jugador(\"Juan\")\n",
    "j.recibir_cartas(m.repartir(3))\n",
    "print(f\"{j.nombre} juega la carta: {j.jugar_carta()}\")"
   ]
  },
  {
   "cell_type": "markdown",
   "metadata": {},
   "source": [
    "**Partida**: Debe tener dos jugadores, un mazo de cartas y un puntaje. Debe permitir jugar una carta por ronda y definir el ganador de la ronda. Debe permitir jugar hasta que se terminen las cartas del mazo."
   ]
  },
  {
   "cell_type": "code",
   "execution_count": 12,
   "metadata": {},
   "outputs": [],
   "source": [
    "class Partida:\n",
    "    def __init__(self, jugador1, jugador2):\n",
    "        self.jugador1 = jugador1\n",
    "        self.jugador2 = jugador2\n",
    "        self.Mazo = Mazo()\n",
    "        self.puntos.jugador1 = 0\n",
    "        self.puntos.jugador2 = 0\n",
    "\n",
    "    def jugar_ronda(self):\n",
    "        carta_jugador1 = self.jugador1.jugar_carta()\n",
    "        carta_jugador2 = self.jugador2.jugar_carta()\n",
    "\n",
    "        if carta_jugador1 and carta_jugador2:\n",
    "            if carta_jugador1[0] > carta_jugador2[0]:\n",
    "                self.puntos.jugador1 += 1\n",
    "                return self.jugador1\n",
    "            elif carta_jugador1[0] < carta_jugador2[0]:\n",
    "                self.puntos.jugador2 += 1\n",
    "                return self.jugador2\n",
    "        \n",
    "\n",
    "    def jugar(self):\n",
    "        while self.puntos.jugador1 < 15 and self.puntos.jugador2 < 15:\n",
    "            self.Mazo.mezclar()\n",
    "            self.jugador1.recibir_cartas(self.Mazo.repartir(3))\n",
    "            self.jugador2.recibir_cartas(self.Mazo.repartir(3))\n",
    "\n",
    "            for _ in range(3):\n",
    "                ganador = self.jugar_ronda()\n",
    "                if ganador:\n",
    "                    print(f\"El ganador es {ganador}\")\n",
    "                else:\n",
    "                    print(\"Empate en la ronda\")\n",
    "                    \n",
    "            print(f\"Puntos - {self.jugador1.nombre}: {self.puntos_jugador1}, {self.jugador2.nombre}: {self.puntos_jugador2}\")\n",
    "\n",
    "        # Mientras que ningun jugador acumule 15 puntos.abs\n",
    "        # Mezclar el mazo\n",
    "        # Repartir 3 cartas a cada jugador\n",
    "        # Jugar ronda\n",
    "        # Revisar quien gano la ronda\n",
    "        # Sumar puntos\n",
    "        pass\n",
    "\n",
    "p = Partida(Jugador(\"Juan\"), Jugador(\"Pedro\"))\n",
    "p.jugar()"
   ]
  }
 ],
 "metadata": {
  "kernelspec": {
   "display_name": "Python 3",
   "language": "python",
   "name": "python3"
  },
  "language_info": {
   "codemirror_mode": {
    "name": "ipython",
    "version": 3
   },
   "file_extension": ".py",
   "mimetype": "text/x-python",
   "name": "python",
   "nbconvert_exporter": "python",
   "pygments_lexer": "ipython3",
   "version": "3.11.3"
  }
 },
 "nbformat": 4,
 "nbformat_minor": 2
}
