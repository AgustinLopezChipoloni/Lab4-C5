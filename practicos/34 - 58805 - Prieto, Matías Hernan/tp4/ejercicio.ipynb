{
 "cells": [
  {
   "cell_type": "markdown",
   "metadata": {},
   "source": [
    "# Simulación del Truco"
   ]
  },
  {
   "cell_type": "markdown",
   "metadata": {},
   "source": [
    "Las **cartas** deben registra el numero, palo y valor de la carta. \n",
    "El valor debe reflejar la jerarquía de las cartas en el juego del truco."
   ]
  },
  {
   "cell_type": "code",
   "execution_count": 73,
   "metadata": {},
   "outputs": [
    {
     "name": "stdout",
     "output_type": "stream",
     "text": [
      "El palo oro y el numero 1 es 8\n"
     ]
    }
   ],
   "source": [
    "valores = {\n",
    "        'espada': {1: 14, 7: 12, 3: 10, 2: 9, 12: 7, 11: 6, 10: 5, 6: 3, 5: 2, 4: 1},\n",
    "        'basto': {1: 13, 3: 10, 2: 9, 12: 7, 11: 6, 10: 5, 7: 4, 6: 3, 5: 2, 4: 1},\n",
    "        'oro': {7: 11, 3: 10, 2: 9, 1: 8, 12: 7, 11: 6, 10: 5, 6: 3, 5: 2, 4: 1},\n",
    "        'copa': {3: 10, 2: 9, 1: 8, 12: 7, 11: 6, 10: 5, 7: 4, 6: 3, 5: 2, 4: 1}\n",
    "    }\n",
    "def calcular_valor(numero, palo):\n",
    "   return valores.get(palo,{}).get(numero, 0)\n",
    "class Carta:\n",
    "    def __init__(self, numero, palo):\n",
    "        self.numero = numero\n",
    "        self.palo = palo\n",
    "    def valor(self):\n",
    "        return calcular_valor(self.numero, self.palo)\n",
    "        \n",
    "\n",
    "\n",
    "c = Carta(1, \"oro\")\n",
    "print(f\"El palo {c.palo} y el numero {c.numero} es {c.valor()}\")"
   ]
  },
  {
   "cell_type": "markdown",
   "metadata": {},
   "source": [
    "**Mazo**: Representan las cartas españolas de 1 al 12, en los palos de oro, copa, espada y basto.\n",
    "\n",
    "Debe existir una función que permita barajar las cartas.\n",
    "y otra función que permita repartir las cartas a los jugadores."
   ]
  },
  {
   "cell_type": "code",
   "execution_count": 60,
   "metadata": {},
   "outputs": [
    {
     "name": "stdout",
     "output_type": "stream",
     "text": [
      "[('espada', 11), ('copa', 11), ('espada', 2)]\n"
     ]
    }
   ],
   "source": [
    "import random\n",
    "\n",
    "class Mazo:\n",
    "    def __init__(self):\n",
    "       self.cartas = []\n",
    "       for palo in valores:\n",
    "           for numero in valores[palo]:\n",
    "               self.cartas.append((palo, numero))\n",
    "    def mezclar(self):\n",
    "        \n",
    "        random.shuffle(self.cartas)\n",
    "    def repartir(self, cantidad):\n",
    "        repartir =[]\n",
    "        for _ in range(cantidad):\n",
    "            repartir.append(self.cartas.pop()) \n",
    "        return repartir\n",
    "\n",
    "\n",
    "m = Mazo()\n",
    "m.mezclar()\n",
    "print(m.repartir(3))"
   ]
  },
  {
   "cell_type": "markdown",
   "metadata": {},
   "source": [
    "**Jugador**: Deben tener un nombre y las cartas que tiene en la mano. Debe acumular los puntos ganados.\n",
    "\n",
    "Nota: Para simplificar el problema, el jugador elige la carta a jugar de forma aleatoria."
   ]
  },
  {
   "cell_type": "code",
   "execution_count": 101,
   "metadata": {},
   "outputs": [
    {
     "name": "stdout",
     "output_type": "stream",
     "text": [
      "['Juan', ('oro', 2)]\n"
     ]
    }
   ],
   "source": [
    "class Jugador:\n",
    "    pass\n",
    "    def __init__(self, nombre):\n",
    "        self.nombre = nombre\n",
    "        self.cartas = []\n",
    "    def recibir_cartas(self, cartas):\n",
    "        self.cartas = cartas\n",
    "    \n",
    "    def jugar_carta(self):\n",
    "        jugada = [self.nombre, self.cartas.pop()]\n",
    "        return jugada\n",
    "j = Jugador(\"Juan\")\n",
    "j.recibir_cartas(m.repartir(3))\n",
    "print(j.jugar_carta())"
   ]
  },
  {
   "cell_type": "markdown",
   "metadata": {},
   "source": [
    "**Partida**: Debe tener dos jugadores, un mazo de cartas y un puntaje. Debe permitir jugar una carta por ronda y definir el ganador de la ronda. Debe permitir jugar hasta que se terminen las cartas del mazo."
   ]
  },
  {
   "cell_type": "code",
   "execution_count": 145,
   "metadata": {},
   "outputs": [
    {
     "name": "stdout",
     "output_type": "stream",
     "text": [
      "Pedro gana la ronda, puntaje: 1\n",
      "Pedro gana la ronda, puntaje: 2\n",
      "Pedro gana la ronda, puntaje: 3\n",
      "Juan gana la ronda, puntaje: 1\n",
      "Pedro gana la ronda, puntaje: 4\n",
      "Pedro gana la ronda, puntaje: 5\n",
      "Juan gana la ronda, puntaje: 2\n",
      "Pedro gana la ronda, puntaje: 6\n",
      "Juan gana la ronda, puntaje: 3\n",
      "Pedro gana la ronda, puntaje: 7\n",
      "Juan gana la ronda, puntaje: 4\n",
      "Juan gana la ronda, puntaje: 5\n",
      "Pedro gana la ronda, puntaje: 8\n",
      "Pedro gana la ronda, puntaje: 9\n",
      "Juan gana la ronda, puntaje: 6\n",
      "Juan gana la ronda, puntaje: 7\n",
      "Juan gana la ronda, puntaje: 8\n",
      "Juan gana la ronda, puntaje: 9\n",
      "Pedro gana la ronda, puntaje: 10\n",
      "Pedro gana la ronda, puntaje: 11\n",
      "Pedro gana la ronda, puntaje: 12\n",
      "Juan gana la ronda, puntaje: 10\n",
      "Juan gana la ronda, puntaje: 11\n",
      "Juan gana la ronda, puntaje: 12\n",
      "Pedro gana la ronda, puntaje: 13\n",
      "Juan gana la ronda, puntaje: 13\n",
      "Juan gana la ronda, puntaje: 14\n",
      "Pedro gana la ronda, puntaje: 14\n",
      "Juan gana la ronda, puntaje: 15\n",
      "Juan gana la partida\n"
     ]
    }
   ],
   "source": [
    "class Partida:\n",
    "    def __init__(self, jugador1, jugador2):\n",
    "        self.jugador1 = jugador1\n",
    "        self.jugador2 = jugador2\n",
    "        self.mazo = Mazo()\n",
    "        self.puntos_jugador1 = 0\n",
    "        self.puntos_jugador2 = 0\n",
    "        self.rondas_ganadas_jugador1 = 0\n",
    "        self.rondas_ganadas_jugador2 = 0\n",
    "    def jugar_ronda(self):\n",
    "       jugada1 = self.jugador1.jugar_carta()\n",
    "       jugada2 = self.jugador2.jugar_carta()\n",
    "\n",
    "       total_jugador1=0\n",
    "       for carta in jugada1:\n",
    "            total_jugador1 += calcular_valor(carta[1], carta[0])\n",
    "       total_jugador2=0\n",
    "       for carta in jugada2:\n",
    "            total_jugador2 += calcular_valor(carta[1], carta[0])\n",
    "\n",
    "       if total_jugador1 > total_jugador2:\n",
    "            self.rondas_ganadas_jugador1 += 1\n",
    "            print(f\"{self.jugador1.nombre} gana la ronda, puntaje: {self.rondas_ganadas_jugador1}\")\n",
    "       elif total_jugador2 > total_jugador1:\n",
    "            self.rondas_ganadas_jugador2 += 1\n",
    "            print(f\"{self.jugador2.nombre} gana la ronda, puntaje: {self.rondas_ganadas_jugador2}\")\n",
    "     \n",
    "\n",
    "    def jugar(self):\n",
    "        while self.rondas_ganadas_jugador1 < 15 and self.rondas_ganadas_jugador2 < 15:\n",
    "            \n",
    "            if len(self.mazo.cartas) < 6:\n",
    "                self.mazo = Mazo()\n",
    "                for _ in range(3):  \n",
    "                    self.mazo.mezclar()\n",
    "            self.jugador1.recibir_cartas(self.mazo.repartir(3))\n",
    "            self.jugador2.recibir_cartas(self.mazo.repartir(3))\n",
    "        \n",
    "          \n",
    "            self.jugar_ronda()\n",
    "          \n",
    "        if self.rondas_ganadas_jugador1 >= 15:\n",
    "            print(f\"{self.jugador1.nombre} gana la partida\")\n",
    "        else:\n",
    "            print(f\"{self.jugador2.nombre} gana la partida\")\n",
    "\n",
    "p = Partida(Jugador(\"Juan\"), Jugador(\"Pedro\"))\n",
    "p.jugar()"
   ]
  }
 ],
 "metadata": {
  "kernelspec": {
   "display_name": "Python 3",
   "language": "python",
   "name": "python3"
  },
  "language_info": {
   "codemirror_mode": {
    "name": "ipython",
    "version": 3
   },
   "file_extension": ".py",
   "mimetype": "text/x-python",
   "name": "python",
   "nbconvert_exporter": "python",
   "pygments_lexer": "ipython3",
   "version": "3.11.2"
  }
 },
 "nbformat": 4,
 "nbformat_minor": 2
}
