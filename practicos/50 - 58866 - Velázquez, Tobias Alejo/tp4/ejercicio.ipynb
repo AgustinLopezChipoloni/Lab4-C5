{
 "cells": [
  {
   "cell_type": "markdown",
   "metadata": {},
   "source": [
    "# Simulación del Truco"
   ]
  },
  {
   "cell_type": "markdown",
   "metadata": {},
   "source": [
    "Las **cartas** deben registra el numero, palo y valor de la carta. \n",
    "El valor debe reflejar la jerarquía de las cartas en el juego del truco."
   ]
  },
  {
   "cell_type": "code",
   "execution_count": 19,
   "metadata": {},
   "outputs": [],
   "source": [
    "def calcular_valor(numero, palo):\n",
    "    # Asigna valores según las reglas del Truco\n",
    "    if (numero, palo) == (1, \"espada\"):\n",
    "        return 14\n",
    "    elif (numero, palo) == (1, \"basto\"):\n",
    "        return 13\n",
    "    elif (numero, palo) == (7, \"espada\"):\n",
    "        return 12\n",
    "    elif (numero, palo) == (7, \"oro\"):\n",
    "        return 11\n",
    "    elif numero == 3:\n",
    "        return 10\n",
    "    elif numero == 2:\n",
    "        return 9\n",
    "    elif numero == 1:\n",
    "        return 8\n",
    "    elif numero == 12:\n",
    "        return 7\n",
    "    elif numero == 11:\n",
    "        return 6\n",
    "    elif numero == 10:\n",
    "        return 5\n",
    "    elif numero == 7:\n",
    "        return 4\n",
    "    elif numero == 6:\n",
    "        return 3\n",
    "    elif numero == 5:\n",
    "        return 2\n",
    "    elif numero == 4:\n",
    "        return 1\n",
    "\n",
    "class Carta:\n",
    "    def __init__(self, numero, palo):\n",
    "        self.numero = numero\n",
    "        self.palo = palo\n",
    "        self.valor = calcular_valor(numero, palo)\n",
    "\n",
    "    def __str__(self):\n",
    "        return f\"{self.numero} de {self.palo} (Valor: {self.valor})\"\n"
   ]
  },
  {
   "cell_type": "markdown",
   "metadata": {},
   "source": [
    "**Mazo**: Representan las cartas españolas de 1 al 12, en los palos de oro, copa, espada y basto.\n",
    "\n",
    "Debe existir una función que permita barajar las cartas.\n",
    "y otra función que permita repartir las cartas a los jugadores."
   ]
  },
  {
   "cell_type": "code",
   "execution_count": 21,
   "metadata": {},
   "outputs": [
    {
     "name": "stdout",
     "output_type": "stream",
     "text": [
      "[<__main__.Carta object at 0x0000023AF541F810>, <__main__.Carta object at 0x0000023AF542D7D0>, <__main__.Carta object at 0x0000023AF542EE50>]\n"
     ]
    }
   ],
   "source": [
    "import random\n",
    "\n",
    "class Mazo:\n",
    "    def __init__(self):\n",
    "        palos = [\"espada\", \"basto\", \"copa\", \"oro\"]\n",
    "        numeros = list(range(1, 13))\n",
    "        numeros.remove(8)  # Eliminar 8 y 9 del mazo\n",
    "        numeros.remove(9)\n",
    "        self.cartas = [Carta(numero, palo) for palo in palos for numero in numeros]\n",
    "\n",
    "    def mezclar(self):\n",
    "        random.shuffle(self.cartas)\n",
    "\n",
    "    def repartir(self, cantidad):\n",
    "        mano = [self.cartas.pop() for _ in range(cantidad)]\n",
    "        return mano\n",
    "m = Mazo()\n",
    "m.mezclar()\n",
    "print(m.repartir(3))\n",
    "\n"
   ]
  },
  {
   "cell_type": "markdown",
   "metadata": {},
   "source": [
    "**Jugador**: Deben tener un nombre y las cartas que tiene en la mano. Debe acumular los puntos ganados.\n",
    "\n",
    "Nota: Para simplificar el problema, el jugador elige la carta a jugar de forma aleatoria."
   ]
  },
  {
   "cell_type": "code",
   "execution_count": 22,
   "metadata": {},
   "outputs": [
    {
     "name": "stdout",
     "output_type": "stream",
     "text": [
      "['5 de basto (Valor: 2)', '6 de oro (Valor: 3)', '7 de basto (Valor: 4)']\n"
     ]
    }
   ],
   "source": [
    "class Jugador:\n",
    "    def __init__(self, nombre):\n",
    "        self.nombre = nombre\n",
    "        self.cartas = []\n",
    "\n",
    "    def recibir_cartas(self, cartas):\n",
    "        self.cartas = cartas\n",
    "\n",
    "    def jugar_carta(self):\n",
    "        return self.cartas.pop(random.randint(0, len(self.cartas) - 1))\n",
    "\n",
    "j = Jugador(\"Jugador\")\n",
    "j.recibir_cartas(m.repartir(3))\n",
    "print([str(carta) for carta in j.cartas])\n"
   ]
  },
  {
   "cell_type": "markdown",
   "metadata": {},
   "source": [
    "**Partida**: Debe tener dos jugadores, un mazo de cartas y un puntaje. Debe permitir jugar una carta por ronda y definir el ganador de la ronda. Debe permitir jugar hasta que se terminen las cartas del mazo."
   ]
  },
  {
   "cell_type": "code",
   "execution_count": 23,
   "metadata": {},
   "outputs": [
    {
     "name": "stdout",
     "output_type": "stream",
     "text": [
      "Tobias recibió: ['12 de oro (Valor: 7)', '7 de copa (Valor: 4)', '6 de espada (Valor: 3)']\n",
      "Ñukitas recibió: ['3 de oro (Valor: 10)', '5 de espada (Valor: 2)', '1 de copa (Valor: 8)']\n",
      "\n",
      "Mano 1:\n",
      "Tobias juega 7 de copa (Valor: 4)\n",
      "Ñukitas juega 5 de espada (Valor: 2)\n",
      "Ganador: Tobias\n",
      "\n",
      "Mano 2:\n",
      "Tobias juega 12 de oro (Valor: 7)\n",
      "Ñukitas juega 3 de oro (Valor: 10)\n",
      "Ganador: Ñukitas\n",
      "\n",
      "Mano 3:\n",
      "Tobias juega 6 de espada (Valor: 3)\n",
      "Ñukitas juega 1 de copa (Valor: 8)\n",
      "Ganador: Ñukitas\n"
     ]
    }
   ],
   "source": [
    "class Partida:\n",
    "    def __init__(self, jugador1, jugador2):\n",
    "        self.jugador1 = jugador1\n",
    "        self.jugador2 = jugador2\n",
    "        self.mazo = Mazo()\n",
    "        self.mazo.mezclar()\n",
    "\n",
    "    def jugar_ronda(self):\n",
    "        self.jugador1.recibir_cartas(self.mazo.repartir(3))\n",
    "        self.jugador2.recibir_cartas(self.mazo.repartir(3))\n",
    "        \n",
    "        print(f\"{self.jugador1.nombre} recibió: {[str(c) for c in self.jugador1.cartas]}\")\n",
    "        print(f\"{self.jugador2.nombre} recibió: {[str(c) for c in self.jugador2.cartas]}\")\n",
    "        \n",
    "        for mano in range(3):\n",
    "            carta1 = self.jugador1.jugar_carta()\n",
    "            carta2 = self.jugador2.jugar_carta()\n",
    "            \n",
    "            print(f\"\\nMano {mano+1}:\")\n",
    "            print(f\"{self.jugador1.nombre} juega {carta1}\")\n",
    "            print(f\"{self.jugador2.nombre} juega {carta2}\")\n",
    "            \n",
    "            if carta1.valor > carta2.valor:\n",
    "                print(f\"Ganador: {self.jugador1.nombre}\")\n",
    "            elif carta1.valor < carta2.valor:\n",
    "                print(f\"Ganador: {self.jugador2.nombre}\")\n",
    "            else:\n",
    "                print(\"Empate\")\n",
    "\n",
    "    def jugar(self):\n",
    "        self.jugar_ronda()\n",
    "\n",
    "p = Partida(Jugador(\"Tobias\"), Jugador(\"Ñukitas\"))\n",
    "p.jugar()\n"
   ]
  }
 ],
 "metadata": {
  "kernelspec": {
   "display_name": "Python 3",
   "language": "python",
   "name": "python3"
  },
  "language_info": {
   "codemirror_mode": {
    "name": "ipython",
    "version": 3
   },
   "file_extension": ".py",
   "mimetype": "text/x-python",
   "name": "python",
   "nbconvert_exporter": "python",
   "pygments_lexer": "ipython3",
   "version": "3.11.9"
  }
 },
 "nbformat": 4,
 "nbformat_minor": 2
}
