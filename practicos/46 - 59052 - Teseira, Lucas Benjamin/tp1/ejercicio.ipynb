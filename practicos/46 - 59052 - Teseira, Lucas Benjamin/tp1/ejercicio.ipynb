{
 "cells": [
  {
   "cell_type": "markdown",
   "metadata": {},
   "source": [
    "# Trabajo práctico 1\n",
    "\n"
   ]
  },
  {
   "cell_type": "markdown",
   "metadata": {},
   "source": [
    "## Ejercicio 1 \n",
    "\n",
    "Escribe una función en Python que procese una lista de cadenas de texto y realice las siguientes acciones:\n",
    "\n",
    "1. Tomar una lista de frases y convertir cada frase en una lista de palabras.\n",
    "1. Luego, debe crear una nueva lista que contenga la cantidad de palabras en cada frase.\n",
    "1. Tambien debe crear un lista que contenga la cantidad de caracteres en cada frase.\n",
    "1. Finalmente, debe imprimir cada frase original junto con la cantidad de palabras que contiene.\n",
    "Ejemplo de uso:\n",
    "```python\n",
    "    frases = [\n",
    "        \"Python es un lenguaje de programación\",\n",
    "        \"Me gusta resolver problemas con código\",\n",
    "        \"Las listas y los bucles son muy útiles\"\n",
    "    ]\n",
    "\n",
    "    procesar_frases(frases)\n",
    "```\n",
    "\n",
    "ejemplo de salida:\n",
    "```bash\n",
    "    La frase: \"Python es un...\"\n",
    "    tiene 6 palabras y 38 caracteres\n",
    "```\n"
   ]
  },
  {
   "cell_type": "code",
   "execution_count": 23,
   "metadata": {},
   "outputs": [
    {
     "name": "stdout",
     "output_type": "stream",
     "text": [
      "La frase: \"Pedro pica piedras\"\n",
      "    tiene 3 palabras y 18 caracteres.\n",
      "\n",
      "La frase: \"No me gusta mi vida\"\n",
      "    tiene 5 palabras y 19 caracteres.\n",
      "\n",
      "La frase: \"La ia dominara el mundo\"\n",
      "    tiene 5 palabras y 23 caracteres.\n",
      "\n"
     ]
    }
   ],
   "source": [
    "# \n",
    "def procesar_fra(frases):\n",
    "    palabras_por_frase = [len(frase.split()) for frase in frases]\n",
    "    caracteres_por_frase = [len(frase) for frase in frases]\n",
    "    \n",
    "    for i, frase in enumerate(frases):\n",
    "        print(f'La frase: \"{frase}\"\\n    tiene {palabras_por_frase[i]} palabras y {caracteres_por_frase[i]} caracteres.\\n')\n",
    "\n",
    "frases = [\n",
    "    \t\"Pedro pica piedras\",\n",
    "\t    \"No me gusta mi vida\",\n",
    "\t    \"La ia dominara el mundo\",\n",
    "]\n",
    "\n",
    "procesar_fra(frases)"
   ]
  },
  {
   "cell_type": "markdown",
   "metadata": {},
   "source": [
    "## Ejercicio 2\n",
    "\n",
    "Escribe una función en Python que encuentre los valores de `a`, `b`, y `c` para que la función cuadrática `f(x) = aX^2 + bX + c` pase exactamente por los siguientes puntos:\n",
    "\n",
    "| x  | y  |\n",
    "|---:|---:|\n",
    "|  0 |  0 |\n",
    "|  1 |  8 |\n",
    "|  2 | 12 |\n",
    "|  3 | 12 |\n",
    "|  5 |  0 |\n",
    "\n",
    "### Requisitos:\n",
    "- La función debe explorar posibles valores de `a`, `b`, y `c` utilizando un método de prueba y error.\n",
    "- Debe devolver los valores que hagan que la diferencia entre la función `f(x)` y los valores medidos `y` sea exactamente cero para cada punto.\n",
    "\n",
    "> **Pista**: Los valores de `a`, `b`, y `c` son números pequeños."
   ]
  },
  {
   "cell_type": "code",
   "execution_count": 24,
   "metadata": {},
   "outputs": [
    {
     "name": "stdout",
     "output_type": "stream",
     "text": [
      "Se encontraron los valores encontrados:\n",
      "- a: -2\n",
      "- b: 10\n",
      "- c: 0\n"
     ]
    }
   ],
   "source": [
    "# Implementar\n",
    "\n",
    "def buscarValores(puntos, valoresProbar):\n",
    "    for a in valoresProbar:\n",
    "        for b in valoresProbar: \n",
    "            for c in valoresProbar:\n",
    "                \n",
    "                valoresEncontrados = True\n",
    "                \n",
    "                for x, y in puntos:                 \n",
    "                    fX = a * (x**2) + b * x + c            \n",
    "                    if fX != y:\n",
    "                        valoresEncontrados = False\n",
    "                        break\n",
    "                    \n",
    "                if valoresEncontrados:\n",
    "                    print(\"Se encontraron los valores encontrados:\")\n",
    "                    print(f\"- a: {a}\\n- b: {b}\\n- c: {c}\")\n",
    "                    return\n",
    "                \n",
    "    print(\"NO se encuentran los valores\")                                  \n",
    "\n",
    "# Llamada a la función con los parámetros\n",
    "puntos = [(0, 0), (1, 8), (2, 12), (3, 12), (5, 0)]\n",
    "valoresProbar = range(-15, 15)\n",
    "\n",
    "buscarValores(puntos,valoresProbar)"
   ]
  }
 ],
 "metadata": {
  "kernelspec": {
   "display_name": "Python 3",
   "language": "python",
   "name": "python3"
  },
  "language_info": {
   "codemirror_mode": {
    "name": "ipython",
    "version": 3
   },
   "file_extension": ".py",
   "mimetype": "text/x-python",
   "name": "python",
   "nbconvert_exporter": "python",
   "pygments_lexer": "ipython3",
   "version": "3.10.5"
  }
 },
 "nbformat": 4,
 "nbformat_minor": 2
}
