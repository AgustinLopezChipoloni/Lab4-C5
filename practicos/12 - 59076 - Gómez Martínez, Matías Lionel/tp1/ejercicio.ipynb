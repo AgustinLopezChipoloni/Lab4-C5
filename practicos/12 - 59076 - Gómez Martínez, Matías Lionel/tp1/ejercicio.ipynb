{
 "cells": [
  {
   "cell_type": "markdown",
   "metadata": {},
   "source": [
    "# Trabajo práctico 1\n",
    "\n"
   ]
  },
  {
   "cell_type": "markdown",
   "metadata": {},
   "source": [
    "## Ejercicio 1 \n",
    "\n",
    "Escribe una función en Python que procese una lista de cadenas de texto y realice las siguientes acciones:\n",
    "\n",
    "1. Tomar una lista de frases y convertir cada frase en una lista de palabras.\n",
    "1. Luego, debe crear una nueva lista que contenga la cantidad de palabras en cada frase.\n",
    "1. Tambien debe crear un lista que contenga la cantidad de caracteres en cada frase.\n",
    "1. Finalmente, debe imprimir cada frase original junto con la cantidad de palabras que contiene.\n",
    "Ejemplo de uso:\n",
    "```python\n",
    "    frases = [\n",
    "        \"Python es un lenguaje de programación\",\n",
    "        \"Me gusta resolver problemas con código\",\n",
    "        \"Las listas y los bucles son muy útiles\"\n",
    "    ]\n",
    "\n",
    "    procesar_frases(frases)\n",
    "```\n",
    "\n",
    "ejemplo de salida:\n",
    "```bash\n",
    "    La frase: \"Python es un...\"\n",
    "    tiene 6 palabras y 38 caracteres\n",
    "```\n"
   ]
  },
  {
   "cell_type": "code",
   "execution_count": 19,
   "metadata": {},
   "outputs": [
    {
     "name": "stdout",
     "output_type": "stream",
     "text": [
      "\n",
      "La frace: 'Python es un lenguaje de programación' \n",
      "          Tiene 6 palabras y 32 caracteres\n",
      "\n",
      "\n",
      "La frace: 'Me gusta resolver problemas con código' \n",
      "          Tiene 6 palabras y 33 caracteres\n",
      "\n",
      "\n",
      "La frace: 'Las listas y los bucles son muy útiles' \n",
      "          Tiene 8 palabras y 31 caracteres\n",
      "\n"
     ]
    }
   ],
   "source": [
    "# Implementar\n",
    "frases = [\n",
    "        \"Python es un lenguaje de programación\",\n",
    "        \"Me gusta resolver problemas con código\",\n",
    "        \"Las listas y los bucles son muy útiles\"\n",
    "]\n",
    "\n",
    "def Proceso() :\n",
    "\n",
    "    for e in frases:\n",
    "\n",
    "        palabras = e.split()\n",
    "        letras = list(e.replace(\" \",\"\"))\n",
    "\n",
    "\n",
    "        print(f\"\"\"\\nLa frace: '{e}' \n",
    "          Tiene {len(palabras)} palabras y {len(letras)} caracteres\\n\"\"\")\n",
    "\n",
    "\n",
    "Proceso()"
   ]
  },
  {
   "cell_type": "markdown",
   "metadata": {},
   "source": [
    "## Ejercicio 2\n",
    "\n",
    "Escribe una función en Python que encuentre los valores de `a`, `b`, y `c` para que la función cuadrática `f(x) = aX^2 + bX + c` pase exactamente por los siguientes puntos:\n",
    "\n",
    "| x  | y  |\n",
    "|---:|---:|\n",
    "|  0 |  0 |\n",
    "|  1 |  8 |\n",
    "|  2 | 12 |\n",
    "|  3 | 12 |\n",
    "|  5 |  0 |\n",
    "\n",
    "### Requisitos:\n",
    "- La función debe explorar posibles valores de `a`, `b`, y `c` utilizando un método de prueba y error.\n",
    "- Debe devolver los valores que hagan que la diferencia entre la función `f(x)` y los valores medidos `y` sea exactamente cero para cada punto.\n",
    "\n",
    "> **Pista**: Los valores de `a`, `b`, y `c` son números pequeños."
   ]
  },
  {
   "cell_type": "code",
   "execution_count": 1,
   "metadata": {},
   "outputs": [
    {
     "name": "stdout",
     "output_type": "stream",
     "text": [
      "Coeficientes son: a= -2, b= 10, c= 0\n"
     ]
    }
   ],
   "source": [
    "# Implementar\n",
    "def funcion(x,a,b,c):\n",
    "    res = a*x**2+b*x+c\n",
    "    return res\n",
    "\n",
    "def prueba ():\n",
    "\n",
    "    for a in range (-15,15):\n",
    "        for b in range(-15,15):\n",
    "            for c in range(-15,15):\n",
    "\n",
    "                if (funcion(0,a,b,c)== 0 and\n",
    "                    funcion(1,a,b,c)== 8 and\n",
    "                    funcion(2,a,b,c)== 12 and\n",
    "                    funcion(3,a,b,c)== 12 and\n",
    "                    funcion(5,a,b,c)== 0):\n",
    "                    return a,b,c\n",
    "    return None\n",
    "\n",
    "a,b,c = prueba()\n",
    "\n",
    "print(f\"Coeficientes son: a= {a}, b= {b}, c= {c}\")\n"
   ]
  }
 ],
 "metadata": {
  "kernelspec": {
   "display_name": "Python 3",
   "language": "python",
   "name": "python3"
  },
  "language_info": {
   "codemirror_mode": {
    "name": "ipython",
    "version": 3
   },
   "file_extension": ".py",
   "mimetype": "text/x-python",
   "name": "python",
   "nbconvert_exporter": "python",
   "pygments_lexer": "ipython3",
   "version": "3.11.9"
  }
 },
 "nbformat": 4,
 "nbformat_minor": 2
}
