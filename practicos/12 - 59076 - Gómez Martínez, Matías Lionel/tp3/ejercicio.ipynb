{
 "cells": [
  {
   "cell_type": "markdown",
   "metadata": {},
   "source": [
    "#TP3"
   ]
  },
  {
   "cell_type": "markdown",
   "metadata": {},
   "source": [
    "## Ejercicio 1: Cargar Datos de ventas.\n",
    "\n",
    "El archivo datos.dat contiene el registro de las ventas realizadas.\n",
    "\n",
    "Tiene un formato de ancho fijo:\n",
    "- fecha:    10 lugares\n",
    "- producto: 30 lugares\n",
    "- precio:   10 lugares\n",
    "- cantidad:  5 lugares\n",
    "\n",
    "hacer una funcion que carge los en una lista de diccionarios. \n",
    "\n",
    "nota: con \n",
    "```python\n",
    "lineas = open(\"datos.dat\", \"r\").readlines() \n",
    "```\n",
    "puede obtener la lista de string de todos los datos "
   ]
  },
  {
   "cell_type": "code",
   "execution_count": 112,
   "metadata": {},
   "outputs": [],
   "source": [
    "def cargar_datos():\n",
    "    lineas = open(\"datos.dat\",\"r\").readlines()\n",
    "    producto = {}\n",
    "    datos = []\n",
    "    \n",
    "    for i in lineas:\n",
    "        producto = {\"fecha\":i[:10],\"producto\":i[10:40].replace(\" \",\"\"),\"precio\":i[40:50].replace(\" \",\"\"),\"cantidad\":i[50:55].replace(\" \",\"\")}\n",
    "        datos.append(producto)\n",
    "    return datos\n",
    "datos = cargar_datos()"
   ]
  },
  {
   "cell_type": "markdown",
   "metadata": {},
   "source": [
    "## Ejercicio 2: Calcular el total de ventas.\n",
    "\n",
    "Hacer una funcion que sume los importes vendidos (precio * cantidad) y las cantidades"
   ]
  },
  {
   "cell_type": "code",
   "execution_count": 80,
   "metadata": {},
   "outputs": [
    {
     "name": "stdout",
     "output_type": "stream",
     "text": [
      "Las ventas fueron de $392730.00 en 335 unidades\n"
     ]
    }
   ],
   "source": [
    "def calcular_totales(datos):\n",
    "    totales= {}\n",
    "    cantidad = 0\n",
    "    importe = 0\n",
    "    for i in datos:\n",
    "        p = int(i[\"precio\"])\n",
    "        cantidad += int(i[\"cantidad\"])\n",
    "        importe += p*int(i[\"cantidad\"])\n",
    "    return importe, cantidad\n",
    "\n",
    "importe, cantidad = calcular_totales(datos)\n",
    "\n",
    "print(f\"Las ventas fueron de ${importe:.2f} en {cantidad} unidades\")"
   ]
  },
  {
   "cell_type": "markdown",
   "metadata": {},
   "source": [
    "## Ejercicio 3: Listar las unidades vendidas.\n",
    "\n",
    "Listar cuantas unidades se vendieron en total para cada producto"
   ]
  },
  {
   "cell_type": "code",
   "execution_count": 111,
   "metadata": {},
   "outputs": [
    {
     "name": "stdout",
     "output_type": "stream",
     "text": [
      "{'Mirinda': 85, 'Torasso': 32, 'PepsiCola': 89, 'Sprite': 72, 'CocaCola': 57}\n",
      "Mirinda vendió 85 unidades\n",
      "Torasso vendió 32 unidades\n",
      "PepsiCola vendió 89 unidades\n",
      "Sprite vendió 72 unidades\n",
      "CocaCola vendió 57 unidades\n"
     ]
    }
   ],
   "source": [
    "def unidades_vendidas(datos):\n",
    "    ventas = {}\n",
    "\n",
    "    for i in datos:\n",
    "        producto = i[\"producto\"]\n",
    "        cantidad = int(i[\"cantidad\"])\n",
    "\n",
    "        if(producto in ventas):\n",
    "            ventas[producto] = ventas.get(producto, 0) + cantidad\n",
    "        else:\n",
    "            ventas[producto] = cantidad\n",
    "            \n",
    "    return ventas\n",
    "\n",
    "def listar_ventas(datos):\n",
    "    for producto,ventas in datos.items():\n",
    "     print(f\"{producto} vendió {ventas} unidades\")\n",
    "\n",
    "vendidos = unidades_vendidas(datos)\n",
    "listar_ventas(vendidos)\n"
   ]
  },
  {
   "cell_type": "markdown",
   "metadata": {},
   "source": [
    "##  Ejercicio 4: Listar el precio promedio por producto.\n",
    "\n",
    "Hacer un listado del precio promedio por productos."
   ]
  },
  {
   "cell_type": "code",
   "execution_count": 118,
   "metadata": {},
   "outputs": [
    {
     "name": "stdout",
     "output_type": "stream",
     "text": [
      "Mirinda tiene un promedio de $1545.83\n",
      "Torasso tiene un promedio de $920.00\n",
      "PepsiCola tiene un promedio de $1245.00\n",
      "Sprite tiene un promedio de $841.43\n",
      "CocaCola tiene un promedio de $1072.50\n"
     ]
    }
   ],
   "source": [
    "def precio_promedio(datos):\n",
    "    tPrecio = {}\n",
    "    cProducto = {}\n",
    "    promedio = {}\n",
    "    for e in datos:\n",
    "        producto = e[\"producto\"]\n",
    "        precio = int(e[\"precio\"])\n",
    "\n",
    "        if producto in tPrecio:\n",
    "            tPrecio[producto] += precio\n",
    "            cProducto[producto] += 1\n",
    "        else:\n",
    "            tPrecio[producto] = precio\n",
    "            cProducto[producto] = 1\n",
    "\n",
    "    for producto in tPrecio:\n",
    "        promedio[producto] = tPrecio[producto] / cProducto[producto]\n",
    "\n",
    "    return promedio\n",
    "\n",
    "\n",
    "def listar_precios(datos):\n",
    "    for producto, promedio in datos.items():\n",
    "        print(f\"{producto} tiene un promedio de ${promedio:.2f}\")\n",
    "\n",
    "precio = precio_promedio(datos)\n",
    "listar_precios(precio)"
   ]
  },
  {
   "cell_type": "markdown",
   "metadata": {},
   "source": [
    "### Ejercicio 5: Ranking de productos\n",
    "\n",
    "Realizar un listado de los 3 productos mas vendidos ordenados la cantidad de unidades vendidas (ordenadas de mayor a menor)\n"
   ]
  },
  {
   "cell_type": "code",
   "execution_count": 123,
   "metadata": {},
   "outputs": [
    {
     "name": "stdout",
     "output_type": "stream",
     "text": [
      "{'Mirinda': 85, 'Torasso': 32, 'PepsiCola': 89, 'Sprite': 72, 'CocaCola': 57}\n",
      "while\n",
      "PepsiCola: 89 unidades\n",
      "Mirinda: 85 unidades\n",
      "Sprite: 72 unidades\n"
     ]
    }
   ],
   "source": [
    "def ranking_productos(datos, top=3):    \n",
    "    ventas = unidades_vendidas(datos)\n",
    "    ranking = sorted(ventas.items(), key=lambda x: x[1], reverse=True)[:top]\n",
    "    return ranking\n",
    "\n",
    "def listar_ranking(ranking):\n",
    "    for producto, cantidad in ranking:\n",
    "        print(f\"{producto}: {cantidad} unidades\")\n",
    "\n",
    "ranking = ranking_productos(datos)\n",
    "listar_ranking(ranking)"
   ]
  },
  {
   "cell_type": "markdown",
   "metadata": {},
   "source": [
    "### Ejercicio 6: Listar las ventas por mes\n",
    "\n",
    "Realizar un listado del total de unidades vendidas por productos separada por mes."
   ]
  },
  {
   "cell_type": "code",
   "execution_count": 141,
   "metadata": {},
   "outputs": [
    {
     "name": "stdout",
     "output_type": "stream",
     "text": [
      "Durante el mes de Aug el producto Mirinda vendio 27 unidades\n",
      "Durante el mes de Aug el producto Torasso vendio 8 unidades\n",
      "Durante el mes de Aug el producto PepsiCola vendio 10 unidades\n",
      "Durante el mes de Sep el producto Mirinda vendio 58 unidades\n",
      "Durante el mes de Sep el producto Sprite vendio 72 unidades\n",
      "Durante el mes de Sep el producto CocaCola vendio 57 unidades\n",
      "Durante el mes de Sep el producto PepsiCola vendio 79 unidades\n",
      "Durante el mes de Sep el producto Torasso vendio 24 unidades\n"
     ]
    }
   ],
   "source": [
    "from datetime import datetime\n",
    "\n",
    "def ventas_por_mes(datos):\n",
    "    ventas = {}\n",
    "    for e in datos:\n",
    "        fecha = e[\"fecha\"]\n",
    "        producto = e[\"producto\"]\n",
    "        cantidad = int(e[\"cantidad\"])\n",
    "        mes = fecha[:7]\n",
    "        if mes in ventas:\n",
    "            if producto in ventas[mes]:\n",
    "                ventas[mes][producto] += cantidad\n",
    "            else:\n",
    "                ventas[mes][producto] = cantidad\n",
    "        else:\n",
    "            ventas[mes] = {producto: cantidad}\n",
    "    return ventas\n",
    "\n",
    "def listar_ventas_mensuales(ventas):\n",
    "    for mes, productos in ventas.items():\n",
    "        fechaN = datetime.strptime(mes, \"%Y-%m\")\n",
    "        nMes = fechaN.strftime(\"%b\")\n",
    "        for producto, cantidad in productos.items():\n",
    "            print(f\"Durante el mes de {nMes} el producto {producto} vendio {cantidad} unidades\")\n",
    "    \n",
    "\n",
    "ventas = ventas_por_mes(datos)\n",
    "listar_ventas_mensuales(ventas)"
   ]
  },
  {
   "cell_type": "markdown",
   "metadata": {},
   "source": [
    "### Ejercicio 7: Informe general\n",
    "\n",
    "Mostrar un listado de productos ordenados alfabeticamente que contengan el precio promedio, la cantidad de unidades vendidas y el importe total vendido para cada producto"
   ]
  },
  {
   "cell_type": "code",
   "execution_count": 134,
   "metadata": {},
   "outputs": [
    {
     "name": "stdout",
     "output_type": "stream",
     "text": [
      "{'Mirinda': 85, 'Torasso': 32, 'PepsiCola': 89, 'Sprite': 72, 'CocaCola': 57}\n",
      "Producto | Precio Promedio | Unidades Vendidas | Total\n",
      "CocaCola   | $   1072.50 |    57 | $  61132.50\n",
      "Mirinda    | $   1545.83 |    85 | $ 131395.83\n",
      "PepsiCola  | $   1245.00 |    89 | $ 110805.00\n",
      "Sprite     | $    841.43 |    72 | $  60582.86\n",
      "Torasso    | $    920.00 |    32 | $  29440.00\n"
     ]
    }
   ],
   "source": [
    "def resumen_ventas(datos):\n",
    "    vendidos = unidades_vendidas(datos)\n",
    "    precio = precio_promedio(datos)\n",
    "    total = {}\n",
    "\n",
    "    for producto, cantidad in vendidos.items():\n",
    "        total[producto] = precio[producto] * cantidad\n",
    "    return sorted([(producto, precio[producto], cantidad, total[producto])\n",
    "                   for producto, cantidad in vendidos.items()])\n",
    "\n",
    "\n",
    "\n",
    "def informe_ventas(datos):\n",
    "    print(\"Producto | Precio Promedio | Unidades Vendidas | Total\")\n",
    "    for producto, precio, cantidad, importe in resumen:\n",
    "        print(f\"{producto:10} | ${precio:10.2f} | {cantidad:5} | ${importe:10.2f}\")\n",
    "\n",
    "resumen = resumen_ventas(datos)\n",
    "informe_ventas(resumen)\n"
   ]
  }
 ],
 "metadata": {
  "kernelspec": {
   "display_name": "Python 3",
   "language": "python",
   "name": "python3"
  },
  "language_info": {
   "codemirror_mode": {
    "name": "ipython",
    "version": 3
   },
   "file_extension": ".py",
   "mimetype": "text/x-python",
   "name": "python",
   "nbconvert_exporter": "python",
   "pygments_lexer": "ipython3",
   "version": "3.11.9"
  }
 },
 "nbformat": 4,
 "nbformat_minor": 2
}
