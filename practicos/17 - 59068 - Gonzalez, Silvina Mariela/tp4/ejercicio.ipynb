{
 "cells": [
  {
   "cell_type": "markdown",
   "metadata": {},
   "source": [
    "# Simulación del Truco"
   ]
  },
  {
   "cell_type": "markdown",
   "metadata": {},
   "source": [
    "Las **cartas** deben registra el numero, palo y valor de la carta. \n",
    "El valor debe reflejar la jerarquía de las cartas en el juego del truco."
   ]
  },
  {
   "cell_type": "code",
   "execution_count": 132,
   "metadata": {},
   "outputs": [
    {
     "name": "stdout",
     "output_type": "stream",
     "text": [
      "Carta(número=1, palo='oro', valor=14)\n"
     ]
    }
   ],
   "source": [
    "def calcular_valor(numero, palo):\n",
    "    valores_truco = {\n",
    "        'oro': {1: 14, 2: 13, 3: 12, 4: 5, 5: 6, 6: 7, 7: 8, 10: 9, 11: 10, 12: 11},\n",
    "        'copas': {1: 14, 2: 13, 3: 12, 4: 5, 5: 6, 6: 7, 7: 8, 10: 9, 11: 10, 12: 11},\n",
    "        'espadas': {1: 14, 2: 13, 3: 12, 4: 5, 5: 6, 6: 7, 7: 8, 10: 9, 11: 10, 12: 11},\n",
    "        'bastos': {1: 14, 2: 13, 3: 12, 4: 5, 5: 6, 6: 7, 7: 8, 10: 9, 11: 10, 12: 11},\n",
    "    }\n",
    "    return valores_truco.get(palo, {}).get(numero, 0)\n",
    "\n",
    "class Carta:\n",
    "    def __init__(self, numero, palo):\n",
    "        self.numero = numero\n",
    "        self.palo = palo\n",
    "        self.valor = calcular_valor(numero, palo)\n",
    "\n",
    "    def __repr__(self):\n",
    "        return f\"Carta(número={self.numero}, palo='{self.palo}', valor={self.valor})\"\n",
    "\n",
    "c = Carta(1, \"oro\")\n",
    "print(c)\n"
   ]
  },
  {
   "cell_type": "markdown",
   "metadata": {},
   "source": [
    "**Mazo**: Representan las cartas españolas de 1 al 12, en los palos de oro, copa, espada y basto.\n",
    "\n",
    "Debe existir una función que permita barajar las cartas.\n",
    "y otra función que permita repartir las cartas a los jugadores."
   ]
  },
  {
   "cell_type": "code",
   "execution_count": 133,
   "metadata": {},
   "outputs": [
    {
     "name": "stdout",
     "output_type": "stream",
     "text": [
      "[Carta(número=11, palo='espadas', valor=10), Carta(número=6, palo='copas', valor=7), Carta(número=11, palo='oro', valor=10)]\n"
     ]
    }
   ],
   "source": [
    "import random\n",
    "\n",
    "class Mazo:\n",
    "    def __init__(self):\n",
    "        self.cartas = self.crear_mazo()\n",
    "\n",
    "    def crear_mazo(self):\n",
    "        palos = ['oro', 'copas', 'espadas', 'bastos']\n",
    "        cartas = [Carta(numero, palo) for palo in palos for numero in range(1, 13)]\n",
    "        return cartas\n",
    "\n",
    "    def mezclar(self):\n",
    "        random.shuffle(self.cartas)\n",
    "\n",
    "    def repartir(self, cantidad):\n",
    "        if cantidad > len(self.cartas):\n",
    "            return \"No hay suficientes cartas en el mazo.\"\n",
    "        mano = self.cartas[:cantidad]\n",
    "        #Eliminar cartas que se reparten del mazo\n",
    "        self.cartas = self.cartas[cantidad:]\n",
    "        return mano\n",
    "\n",
    "m = Mazo()\n",
    "m.mezclar()\n",
    "print(m.repartir(3))"
   ]
  },
  {
   "cell_type": "markdown",
   "metadata": {},
   "source": [
    "**Jugador**: Deben tener un nombre y las cartas que tiene en la mano. Debe acumular los puntos ganados.\n",
    "\n",
    "Nota: Para simplificar el problema, el jugador elige la carta a jugar de forma aleatoria."
   ]
  },
  {
   "cell_type": "code",
   "execution_count": 134,
   "metadata": {},
   "outputs": [
    {
     "name": "stdout",
     "output_type": "stream",
     "text": [
      "Cartas en mano de Juan: [Carta(número=4, palo='oro', valor=5), Carta(número=1, palo='bastos', valor=14), Carta(número=9, palo='oro', valor=0)]\n",
      "Juan juega la carta: Carta(número=1, palo='bastos', valor=14)\n",
      "Puntos acumulados: 14\n",
      "Cartas en mano de Pedro: [Carta(número=7, palo='oro', valor=8), Carta(número=2, palo='oro', valor=13), Carta(número=3, palo='copas', valor=12)]\n",
      "Pedro juega la carta: Carta(número=3, palo='copas', valor=12)\n",
      "Puntos acumulados: 12\n"
     ]
    }
   ],
   "source": [
    "class Jugador:\n",
    "    def __init__(self, nombre):\n",
    "        self.nombre = nombre\n",
    "        self.cartas = []\n",
    "        self.puntos = 0\n",
    "\n",
    "    def recibir_cartas(self, cartas):\n",
    "        self.cartas.extend(cartas)\n",
    "\n",
    "    def jugar_carta(self):\n",
    "        if not self.cartas:\n",
    "            return \"No hay cartas en la mano.\"\n",
    "        carta_jugada = random.choice(self.cartas)\n",
    "        self.cartas.remove(carta_jugada)\n",
    "        self.puntos += carta_jugada.valor\n",
    "        return carta_jugada\n",
    "\n",
    "j1 = Jugador(\"Juan\")\n",
    "j1.recibir_cartas(m.repartir(3))\n",
    "print(f\"Cartas en mano de {j1.nombre}: {j1.cartas}\")\n",
    "carta_jugada = j1.jugar_carta()\n",
    "print(f\"{j1.nombre} juega la carta: {carta_jugada}\")\n",
    "print(f\"Puntos acumulados: {j1.puntos}\")\n",
    "\n",
    "j2 = Jugador(\"Pedro\")\n",
    "j2.recibir_cartas(m.repartir(3))\n",
    "print(f\"Cartas en mano de {j2.nombre}: {j2.cartas}\")\n",
    "carta_jugada = j2.jugar_carta()\n",
    "print(f\"{j2.nombre} juega la carta: {carta_jugada}\")\n",
    "print(f\"Puntos acumulados: {j2.puntos}\")"
   ]
  },
  {
   "cell_type": "markdown",
   "metadata": {},
   "source": [
    "**Partida**: Debe tener dos jugadores, un mazo de cartas y un puntaje. Debe permitir jugar una carta por ronda y definir el ganador de la ronda. Debe permitir jugar hasta que se terminen las cartas del mazo."
   ]
  },
  {
   "cell_type": "code",
   "execution_count": 135,
   "metadata": {},
   "outputs": [
    {
     "name": "stdout",
     "output_type": "stream",
     "text": [
      "\n",
      "--- Nueva Ronda ---\n",
      "Juan juega: Carta(número=4, palo='oro', valor=5)\n",
      "Pedro juega: Carta(número=9, palo='espadas', valor=0)\n",
      "Juan gana la ronda!\n",
      "Puntos - Juan: 20, Pedro: 12\n",
      "\n",
      "Juan gana la partida con 20 puntos!\n"
     ]
    }
   ],
   "source": [
    "class Partida:\n",
    "    def __init__(self, jugador1, jugador2):\n",
    "        self.jugador1 = jugador1\n",
    "        self.jugador2 = jugador2\n",
    "        self.mazo = Mazo()\n",
    "        self.mazo.mezclar()\n",
    "\n",
    "    def jugar_ronda(self):\n",
    "        print(f\"\\n--- Nueva Ronda ---\")\n",
    "        carta_jugador1 = self.jugador1.jugar_carta()\n",
    "        carta_jugador2 = self.jugador2.jugar_carta()\n",
    "\n",
    "        print(f\"{self.jugador1.nombre} juega: {carta_jugador1}\")\n",
    "        print(f\"{self.jugador2.nombre} juega: {carta_jugador2}\")\n",
    "\n",
    "        if carta_jugador1.valor > carta_jugador2.valor:\n",
    "            self.jugador1.puntos += 1\n",
    "            print(f\"{self.jugador1.nombre} gana la ronda!\")\n",
    "        elif carta_jugador2.valor > carta_jugador1.valor:\n",
    "            self.jugador2.puntos += 1\n",
    "            print(f\"{self.jugador2.nombre} gana la ronda!\")\n",
    "        else:\n",
    "            print(\"¡Empate en esta ronda!\")\n",
    "\n",
    "    def jugar(self): \n",
    "        while len(self.mazo.cartas) >= 6:\n",
    "            self.mazo.mezclar()\n",
    "            self.jugador1.recibir_cartas(self.mazo.repartir(3))\n",
    "            self.jugador2.recibir_cartas(self.mazo.repartir(3))\n",
    "            self.jugar_ronda()\n",
    "            print(f\"Puntos - {self.jugador1.nombre}: {self.jugador1.puntos}, {self.jugador2.nombre}: {self.jugador2.puntos}\")\n",
    "            if self.jugador1.puntos >= 15 or self.jugador2.puntos >= 15:\n",
    "                break\n",
    "        if self.jugador1.puntos > self.jugador2.puntos:\n",
    "            print(f\"\\n{self.jugador1.nombre} gana la partida con {self.jugador1.puntos} puntos!\")\n",
    "        elif self.jugador2.puntos > self.jugador1.puntos:\n",
    "            print(f\"\\n{self.jugador2.nombre} gana la partida con {self.jugador2.puntos} puntos!\")\n",
    "        else:\n",
    "            print(\"\\n¡La partida termina en empate!\")\n",
    "\n",
    "p = Partida(j1, j2)\n",
    "p.jugar()"
   ]
  }
 ],
 "metadata": {
  "kernelspec": {
   "display_name": "Python 3",
   "language": "python",
   "name": "python3"
  },
  "language_info": {
   "codemirror_mode": {
    "name": "ipython",
    "version": 3
   },
   "file_extension": ".py",
   "mimetype": "text/x-python",
   "name": "python",
   "nbconvert_exporter": "python",
   "pygments_lexer": "ipython3",
   "version": "3.12.6"
  }
 },
 "nbformat": 4,
 "nbformat_minor": 2
}
