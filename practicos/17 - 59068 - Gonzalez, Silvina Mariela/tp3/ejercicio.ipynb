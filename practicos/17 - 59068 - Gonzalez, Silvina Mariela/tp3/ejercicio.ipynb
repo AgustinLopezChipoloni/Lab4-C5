{
 "cells": [
  {
   "cell_type": "markdown",
   "metadata": {},
   "source": [
    "#TP3"
   ]
  },
  {
   "cell_type": "markdown",
   "metadata": {},
   "source": [
    "## Ejercicio 1: Cargar Datos de ventas.\n",
    "\n",
    "El archivo datos.dat contiene el registro de las ventas realizadas.\n",
    "\n",
    "Tiene un formato de ancho fijo:\n",
    "- fecha:    10 lugares\n",
    "- producto: 30 lugares\n",
    "- precio:   10 lugares\n",
    "- cantidad:  5 lugares\n",
    "\n",
    "hacer una funcion que carge los en una lista de diccionarios. \n",
    "\n",
    "nota: con \n",
    "```python\n",
    "lineas = open(\"datos.dat\", \"r\").readlines() \n",
    "```\n",
    "puede obtener la lista de string de todos los datos "
   ]
  },
  {
   "cell_type": "code",
   "execution_count": 91,
   "metadata": {},
   "outputs": [
    {
     "name": "stdout",
     "output_type": "stream",
     "text": [
      "{'fecha': '2024-08-27', 'producto': 'Mirinda', 'cantidad': 1510, 'valor': 14}\n",
      "{'fecha': '2024-08-27', 'producto': 'Mirinda', 'cantidad': 1560, 'valor': 12}\n",
      "{'fecha': '2024-08-28', 'producto': 'Torasso', 'cantidad': 940, 'valor': 8}\n",
      "{'fecha': '2024-08-29', 'producto': 'Pepsi Cola', 'cantidad': 1210, 'valor': 10}\n",
      "{'fecha': '2024-08-30', 'producto': 'Mirinda', 'cantidad': 1520, 'valor': 1}\n",
      "{'fecha': '2024-09-01', 'producto': 'Mirinda', 'cantidad': 1550, 'valor': 15}\n",
      "{'fecha': '2024-09-01', 'producto': 'Sprite', 'cantidad': 810, 'valor': 4}\n",
      "{'fecha': '2024-09-02', 'producto': 'Coca Cola', 'cantidad': 1100, 'valor': 4}\n",
      "{'fecha': '2024-09-02', 'producto': 'Pepsi Cola', 'cantidad': 1220, 'valor': 13}\n",
      "{'fecha': '2024-09-02', 'producto': 'Torasso', 'cantidad': 910, 'valor': 5}\n",
      "{'fecha': '2024-09-02', 'producto': 'Torasso', 'cantidad': 920, 'valor': 3}\n",
      "{'fecha': '2024-09-03', 'producto': 'Coca Cola', 'cantidad': 1020, 'valor': 8}\n",
      "{'fecha': '2024-09-03', 'producto': 'Mirinda', 'cantidad': 1570, 'valor': 7}\n",
      "{'fecha': '2024-09-03', 'producto': 'Mirinda', 'cantidad': 1590, 'valor': 2}\n",
      "{'fecha': '2024-09-04', 'producto': 'Pepsi Cola', 'cantidad': 1220, 'valor': 13}\n",
      "{'fecha': '2024-09-05', 'producto': 'Mirinda', 'cantidad': 1500, 'valor': 3}\n",
      "{'fecha': '2024-09-05', 'producto': 'Pepsi Cola', 'cantidad': 1300, 'valor': 5}\n",
      "{'fecha': '2024-09-06', 'producto': 'Coca Cola', 'cantidad': 1080, 'valor': 1}\n",
      "{'fecha': '2024-09-06', 'producto': 'Sprite', 'cantidad': 860, 'valor': 12}\n",
      "{'fecha': '2024-09-06', 'producto': 'Torasso', 'cantidad': 930, 'valor': 3}\n",
      "{'fecha': '2024-09-07', 'producto': 'Coca Cola', 'cantidad': 1080, 'valor': 14}\n",
      "{'fecha': '2024-09-07', 'producto': 'Sprite', 'cantidad': 870, 'valor': 13}\n",
      "{'fecha': '2024-09-08', 'producto': 'Coca Cola', 'cantidad': 1040, 'valor': 10}\n",
      "{'fecha': '2024-09-08', 'producto': 'Mirinda', 'cantidad': 1580, 'valor': 2}\n",
      "{'fecha': '2024-09-08', 'producto': 'Pepsi Cola', 'cantidad': 1240, 'valor': 9}\n",
      "{'fecha': '2024-09-09', 'producto': 'Mirinda', 'cantidad': 1500, 'valor': 3}\n",
      "{'fecha': '2024-09-09', 'producto': 'Sprite', 'cantidad': 850, 'valor': 9}\n",
      "{'fecha': '2024-09-10', 'producto': 'Mirinda', 'cantidad': 1590, 'valor': 8}\n",
      "{'fecha': '2024-09-10', 'producto': 'Pepsi Cola', 'cantidad': 1250, 'valor': 12}\n",
      "{'fecha': '2024-09-11', 'producto': 'Sprite', 'cantidad': 810, 'valor': 6}\n",
      "{'fecha': '2024-09-11', 'producto': 'Sprite', 'cantidad': 820, 'valor': 14}\n",
      "{'fecha': '2024-09-12', 'producto': 'Coca Cola', 'cantidad': 1080, 'valor': 4}\n",
      "{'fecha': '2024-09-13', 'producto': 'Mirinda', 'cantidad': 1580, 'valor': 5}\n",
      "{'fecha': '2024-09-13', 'producto': 'Pepsi Cola', 'cantidad': 1250, 'valor': 13}\n",
      "{'fecha': '2024-09-14', 'producto': 'Coca Cola', 'cantidad': 1080, 'valor': 15}\n",
      "{'fecha': '2024-09-14', 'producto': 'Pepsi Cola', 'cantidad': 1270, 'valor': 14}\n",
      "{'fecha': '2024-09-15', 'producto': 'Coca Cola', 'cantidad': 1100, 'valor': 1}\n",
      "{'fecha': '2024-09-15', 'producto': 'Mirinda', 'cantidad': 1500, 'valor': 13}\n",
      "{'fecha': '2024-09-15', 'producto': 'Sprite', 'cantidad': 870, 'valor': 14}\n",
      "{'fecha': '2024-09-15', 'producto': 'Torasso', 'cantidad': 900, 'valor': 13}\n"
     ]
    }
   ],
   "source": [
    "def cargar_datos():\n",
    "   datos = []\n",
    "   lineas = open(\"datos.dat\", \"r\").readlines()\n",
    "\n",
    "   for linea in lineas:\n",
    "      linea = linea.strip()\n",
    "      fecha = linea[:10]\n",
    "      producto = linea[10:40].strip() \n",
    "      cantidad = int(linea[40:50].strip())\n",
    "      valor = int(linea[50:].strip())\n",
    "\n",
    "      diccionario = {\n",
    "         'fecha': fecha,\n",
    "         'producto': producto,\n",
    "         'cantidad': cantidad,\n",
    "         'valor': valor\n",
    "      }\n",
    "\n",
    "      datos.append(diccionario)\n",
    "\n",
    "   return datos\n",
    "   \n",
    "datos = cargar_datos()\n",
    "\n",
    "for dato in datos:\n",
    "   print(dato)"
   ]
  },
  {
   "cell_type": "markdown",
   "metadata": {},
   "source": [
    "## Ejercicio 2: Calcular el total de ventas.\n",
    "\n",
    "Hacer una funcion que sume los importes vendidos (precio * cantidad) y las cantidades"
   ]
  },
  {
   "cell_type": "code",
   "execution_count": 92,
   "metadata": {},
   "outputs": [
    {
     "name": "stdout",
     "output_type": "stream",
     "text": [
      "Las ventas fueron de $392730.00 en 47580 unidades\n"
     ]
    }
   ],
   "source": [
    "def calcular_totales(datos):\n",
    "        cantidad = 0\n",
    "        importe = 0\n",
    "\n",
    "        for dato in datos:\n",
    "                importe += dato['valor'] * dato['cantidad']\n",
    "                cantidad += dato['cantidad']\n",
    "        \n",
    "        return importe, cantidad\n",
    "\n",
    "importe, cantidad = calcular_totales(datos)\n",
    "\n",
    "print(f\"Las ventas fueron de ${importe:.2f} en {cantidad} unidades\")"
   ]
  },
  {
   "cell_type": "markdown",
   "metadata": {},
   "source": [
    "## Ejercicio 3: Listar las unidades vendidas.\n",
    "\n",
    "Listar cuantas unidades se vendieron en total para cada producto"
   ]
  },
  {
   "cell_type": "code",
   "execution_count": 93,
   "metadata": {},
   "outputs": [
    {
     "name": "stdout",
     "output_type": "stream",
     "text": [
      "Unidades vendidas por producto:\n",
      "Mirinda: 18550 unidades\n",
      "Torasso: 4600 unidades\n",
      "Pepsi Cola: 9960 unidades\n",
      "Sprite: 5890 unidades\n",
      "Coca Cola: 8580 unidades\n"
     ]
    }
   ],
   "source": [
    "def unidades_vendidas(datos):\n",
    "    unidades = {}\n",
    "\n",
    "    for dato in datos:\n",
    "        producto = dato['producto']\n",
    "        cantidad = dato['cantidad']\n",
    "\n",
    "        if producto in unidades:\n",
    "            unidades[producto] += cantidad\n",
    "        else:\n",
    "            unidades[producto] = cantidad\n",
    "\n",
    "    return unidades\n",
    "\n",
    "def listar_ventas(datos):\n",
    "    ventas = unidades_vendidas(datos)\n",
    "\n",
    "    print(\"Unidades vendidas por producto:\")\n",
    "    for producto, cantidad in ventas.items():\n",
    "        print(f\"{producto}: {cantidad} unidades\")\n",
    "\n",
    "listar_ventas(datos)"
   ]
  },
  {
   "cell_type": "markdown",
   "metadata": {},
   "source": [
    "##  Ejercicio 4: Listar el precio promedio por producto.\n",
    "\n",
    "Hacer un listado del precio promedio por productos."
   ]
  },
  {
   "cell_type": "code",
   "execution_count": 94,
   "metadata": {},
   "outputs": [
    {
     "name": "stdout",
     "output_type": "stream",
     "text": [
      "Precio promedio por producto:\n",
      "Mirinda: $7.07\n",
      "Torasso: $6.37\n",
      "Pepsi Cola: $11.10\n",
      "Sprite: $10.36\n",
      "Coca Cola: $7.08\n"
     ]
    }
   ],
   "source": [
    "def precio_promedio(datos):\n",
    "    total_producto = {}\n",
    "    cantidad_producto = {}\n",
    "\n",
    "    for dato in datos:\n",
    "        producto = dato['producto']\n",
    "        cantidad = dato['cantidad']\n",
    "        valor = dato['valor']\n",
    "\n",
    "        if producto in total_producto:\n",
    "            total_producto[producto] += valor*cantidad\n",
    "            cantidad_producto[producto] += cantidad\n",
    "        else:\n",
    "            total_producto[producto] = valor*cantidad\n",
    "            cantidad_producto[producto] = cantidad\n",
    "\n",
    "    precio_promedio_producto = {\n",
    "        producto: total_producto[producto] / cantidad_producto[producto]\n",
    "        for producto in total_producto\n",
    "    }\n",
    "    return precio_promedio_producto\n",
    "\n",
    "def listar_precios(datos):\n",
    "    print(\"Precio promedio por producto:\")\n",
    "    for producto, precio in datos.items():\n",
    "        print(f\"{producto}: ${precio:,.2f}\")\n",
    "\n",
    "precios = precio_promedio(datos)\n",
    "listar_precios(precios)"
   ]
  },
  {
   "cell_type": "markdown",
   "metadata": {},
   "source": [
    "### Ejercicio 5: Ranking de productos\n",
    "\n",
    "Realizar un listado de los 3 productos mas vendidos ordenados la cantidad de unidades vendidas (ordenadas de mayor a menor)\n"
   ]
  },
  {
   "cell_type": "code",
   "execution_count": 95,
   "metadata": {},
   "outputs": [
    {
     "name": "stdout",
     "output_type": "stream",
     "text": [
      "Ranking productos más vendidos:\n",
      "1. Mirinda: 18550 unidades.\n",
      "2. Pepsi Cola: 9960 unidades.\n",
      "3. Coca Cola: 8580 unidades.\n"
     ]
    }
   ],
   "source": [
    "def ranking_productos(datos):\n",
    "    unidades = {}\n",
    "\n",
    "    for dato in datos:\n",
    "        producto = dato['producto']\n",
    "        cantidad = dato['cantidad']\n",
    "\n",
    "        if producto in unidades:\n",
    "            unidades[producto] += cantidad\n",
    "        else:\n",
    "            unidades[producto] = cantidad\n",
    "    unidades = unidades_vendidas(datos)\n",
    "    ranking = sorted(unidades.items(), key=lambda x : x[1], reverse=True)\n",
    "\n",
    "    return ranking[:3]\n",
    "\n",
    "def listar_ranking(ranking):\n",
    "    print(\"Ranking productos más vendidos:\")\n",
    "    for i, (producto, cantidad) in enumerate(ranking, start=1):\n",
    "        print(f\"{i}. {producto}: {cantidad} unidades.\")\n",
    "\n",
    "ranking = ranking_productos(datos)\n",
    "listar_ranking(ranking)"
   ]
  },
  {
   "cell_type": "markdown",
   "metadata": {},
   "source": [
    "### Ejercicio 6: Listar las ventas por mes\n",
    "\n",
    "Realizar un listado del total de unidades vendidas por productos separada por mes."
   ]
  },
  {
   "cell_type": "code",
   "execution_count": 96,
   "metadata": {},
   "outputs": [
    {
     "name": "stdout",
     "output_type": "stream",
     "text": [
      "Ventas por fecha:\n",
      "\n",
      "Mes: 2024-08\n",
      "Mirinda: $41,380.00\n",
      "Torasso: $7,520.00\n",
      "Pepsi Cola: $12,100.00\n",
      "\n",
      "Mes: 2024-09\n",
      "Mirinda: $89,700.00\n",
      "Sprite: $61,040.00\n",
      "Coca Cola: $60,780.00\n",
      "Pepsi Cola: $98,410.00\n",
      "Torasso: $21,800.00\n"
     ]
    }
   ],
   "source": [
    "def ventas_por_mes(datos):\n",
    "    total_mes = {}\n",
    "\n",
    "    for dato in datos:\n",
    "        fecha = dato['fecha']\n",
    "        cantidad = dato['cantidad']\n",
    "        valor = dato['valor']\n",
    "        producto = dato['producto']\n",
    "\n",
    "        anio_mes = fecha[:7]\n",
    "\n",
    "        if anio_mes not in total_mes:\n",
    "            total_mes[anio_mes] = {}\n",
    "\n",
    "        if producto in total_mes[anio_mes]:\n",
    "            total_mes[anio_mes][producto] += valor*cantidad\n",
    "        else:\n",
    "            total_mes[anio_mes][producto] = valor*cantidad\n",
    "            \n",
    "    return total_mes\n",
    "\n",
    "def listar_ventas_mensuales(ventas):\n",
    "    print(\"Ventas por fecha:\")\n",
    "    for mes, productos in ventas.items():\n",
    "        print(f\"\\nMes: {mes}\")\n",
    "        for producto, precio in productos.items():\n",
    "            print(f\"{producto}: ${precio:,.2f}\")\n",
    "\n",
    "ventas = ventas_por_mes(datos)\n",
    "listar_ventas_mensuales(ventas)"
   ]
  },
  {
   "cell_type": "markdown",
   "metadata": {},
   "source": [
    "### Ejercicio 7: Informe general\n",
    "\n",
    "Mostrar un listado de productos ordenados alfabeticamente que contengan el precio promedio, la cantidad de unidades vendidas y el importe total vendido para cada producto"
   ]
  },
  {
   "cell_type": "code",
   "execution_count": 97,
   "metadata": {},
   "outputs": [
    {
     "name": "stdout",
     "output_type": "stream",
     "text": [
      "Resumen de ventas por producto:\n",
      "Producto             | Unidades | Importe Total | Precio Promedio\n",
      "----------------------------------------------------------------------\n",
      "Coca Cola            | 8580     | $60,780.00    | $7.08\n",
      "Mirinda              | 18550    | $131,080.00    | $7.07\n",
      "Pepsi Cola           | 9960     | $110,510.00    | $11.10\n",
      "Sprite               | 5890     | $61,040.00    | $10.36\n",
      "Torasso              | 4600     | $29,320.00    | $6.37\n"
     ]
    }
   ],
   "source": [
    "def resumen_ventas(datos):\n",
    "    unidades = {}\n",
    "    total_importe = {}\n",
    "    \n",
    "    for dato in datos:\n",
    "        producto = dato['producto']\n",
    "        cantidad = dato['cantidad']\n",
    "        valor = dato['valor']\n",
    "        \n",
    "        if producto in unidades:\n",
    "            unidades[producto] += cantidad\n",
    "            total_importe[producto] += valor * cantidad\n",
    "        else:\n",
    "            unidades[producto] = cantidad\n",
    "            total_importe[producto] = valor * cantidad\n",
    "            \n",
    "    promedios = {producto: total_importe[producto] / unidades[producto] for producto in unidades}\n",
    "    resumen = [(producto, unidades[producto], total_importe[producto], promedios[producto]) for producto in unidades]\n",
    "    resumen.sort(key=lambda x: x[0])\n",
    "    \n",
    "    return resumen\n",
    "\n",
    "def informe_ventas(resumen):\n",
    "    print(\"Resumen de ventas por producto:\")\n",
    "    print(\"Producto             | Unidades | Importe Total | Precio Promedio\")\n",
    "    print(\"-\" * 70)\n",
    "    for producto, cantidad, total, promedio in resumen:\n",
    "        print(f\"{producto:<20} | {cantidad:<8} | ${total:,.2f}    | ${promedio:,.2f}\")\n",
    "\n",
    "resumen = resumen_ventas(datos)\n",
    "informe_ventas(resumen)\n"
   ]
  }
 ],
 "metadata": {
  "kernelspec": {
   "display_name": "Python 3",
   "language": "python",
   "name": "python3"
  },
  "language_info": {
   "codemirror_mode": {
    "name": "ipython",
    "version": 3
   },
   "file_extension": ".py",
   "mimetype": "text/x-python",
   "name": "python",
   "nbconvert_exporter": "python",
   "pygments_lexer": "ipython3",
   "version": "3.12.6"
  }
 },
 "nbformat": 4,
 "nbformat_minor": 2
}
