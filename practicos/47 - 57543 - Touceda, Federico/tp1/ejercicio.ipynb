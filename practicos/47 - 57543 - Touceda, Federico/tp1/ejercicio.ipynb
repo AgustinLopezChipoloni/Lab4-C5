{
 "cells": [
  {
   "cell_type": "markdown",
   "metadata": {},
   "source": [
    "# Trabajo práctico 1\n",
    "\n"
   ]
  },
  {
   "cell_type": "markdown",
   "metadata": {},
   "source": [
    "## Ejercicio 1 \n",
    "\n",
    "Escribe una función en Python que procese una lista de cadenas de texto y realice las siguientes acciones:\n",
    "\n",
    "1. Tomar una lista de frases y convertir cada frase en una lista de palabras.\n",
    "1. Luego, debe crear una nueva lista que contenga la cantidad de palabras en cada frase.\n",
    "1. Tambien debe crear un lista que contenga la cantidad de caracteres en cada frase.\n",
    "1. Finalmente, debe imprimir cada frase original junto con la cantidad de palabras que contiene.\n",
    "Ejemplo de uso:\n",
    "```python\n",
    "    frases = [\n",
    "        \"Python es un lenguaje de programación\",\n",
    "        \"Me gusta resolver problemas con código\",\n",
    "        \"Las listas y los bucles son muy útiles\"\n",
    "    ]\n",
    "\n",
    "    procesar_frases(frases)\n",
    "```\n",
    "\n",
    "ejemplo de salida:\n",
    "```bash\n",
    "    La frase: \"Python es un...\"\n",
    "    tiene 6 palabras y 38 caracteres\n",
    "```\n"
   ]
  },
  {
   "cell_type": "code",
   "execution_count": 1,
   "metadata": {},
   "outputs": [
    {
     "name": "stdout",
     "output_type": "stream",
     "text": [
      "La oración: \"Python es un lenguaje de programación\"\n",
      "Contiene: 6 palabras y 37 caracteres\n",
      "La oración: \"Me gusta resolver problemas con código\"\n",
      "Contiene: 6 palabras y 38 caracteres\n",
      "La oración: \"Las listas y los bucles son muy útiles\"\n",
      "Contiene: 8 palabras y 38 caracteres\n"
     ]
    }
   ],
   "source": [
    "# Implementar\n",
    "def analizar_frases(lista_frases):\n",
    "    cuenta_palabras = []\n",
    "    cuenta_caracteres = []\n",
    "\n",
    "    for oracion in lista_frases:\n",
    "        lista_palabras = oracion.split()\n",
    "        total_palabras = len(lista_palabras)\n",
    "        total_caracteres = len(oracion)\n",
    "\n",
    "        cuenta_palabras.append(total_palabras)\n",
    "        cuenta_caracteres.append(total_caracteres)\n",
    "        \n",
    "        print(f'La oración: \"{oracion}\"')\n",
    "        print(f'Contiene: {total_palabras} palabras y {total_caracteres} caracteres')\n",
    "\n",
    "frases = [\n",
    "    \"Python es un lenguaje de programación\",\n",
    "    \"Me gusta resolver problemas con código\",\n",
    "    \"Las listas y los bucles son muy útiles\"\n",
    "]\n",
    "\n",
    "analizar_frases(frases)\n"
   ]
  },
  {
   "cell_type": "markdown",
   "metadata": {},
   "source": [
    "## Ejercicio 2\n",
    "\n",
    "Escribe una función en Python que encuentre los valores de `a`, `b`, y `c` para que la función cuadrática `f(x) = aX^2 + bX + c` pase exactamente por los siguientes puntos:\n",
    "\n",
    "| x  | y  |\n",
    "|---:|---:|\n",
    "|  0 |  0 |\n",
    "|  1 |  8 |\n",
    "|  2 | 12 |\n",
    "|  3 | 12 |\n",
    "|  5 |  0 |\n",
    "\n",
    "### Requisitos:\n",
    "- La función debe explorar posibles valores de `a`, `b`, y `c` utilizando un método de prueba y error.\n",
    "- Debe devolver los valores que hagan que la diferencia entre la función `f(x)` y los valores medidos `y` sea exactamente cero para cada punto.\n",
    "\n",
    "> **Pista**: Los valores de `a`, `b`, y `c` son números pequeños."
   ]
  },
  {
   "cell_type": "code",
   "execution_count": 2,
   "metadata": {},
   "outputs": [
    {
     "name": "stdout",
     "output_type": "stream",
     "text": [
      "Los coeficientes encontrados son: a = -2, b = 10, c = 0\n"
     ]
    }
   ],
   "source": [
    "# Implementar\n",
    "def calcular_parametros():\n",
    "    puntos = [(0, 0), (1, 8), (2, 12), (3, 12), (5, 0)]\n",
    "    \n",
    "    for coef_a in range(-10, 11):\n",
    "        for coef_b in range(-10, 11):\n",
    "            for coef_c in range(-10, 11):\n",
    "                es_correcto = True\n",
    "                for x_val, y_val in puntos:\n",
    "                    if coef_a * x_val**2 + coef_b * x_val + coef_c != y_val:\n",
    "                        es_correcto = False\n",
    "                        break\n",
    "                \n",
    "                if es_correcto:\n",
    "                    print(f\"Los coeficientes encontrados son: a = {coef_a}, b = {coef_b}, c = {coef_c}\")\n",
    "\n",
    "calcular_parametros()"
   ]
  }
 ],
 "metadata": {
  "kernelspec": {
   "display_name": "Python 3",
   "language": "python",
   "name": "python3"
  },
  "language_info": {
   "codemirror_mode": {
    "name": "ipython",
    "version": 3
   },
   "file_extension": ".py",
   "mimetype": "text/x-python",
   "name": "python",
   "nbconvert_exporter": "python",
   "pygments_lexer": "ipython3",
   "version": "3.11.9"
  }
 },
 "nbformat": 4,
 "nbformat_minor": 2
}
