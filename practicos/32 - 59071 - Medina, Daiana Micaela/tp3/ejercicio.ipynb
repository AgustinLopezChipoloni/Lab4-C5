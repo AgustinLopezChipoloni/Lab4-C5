{
 "cells": [
  {
   "cell_type": "markdown",
   "metadata": {},
   "source": [
    "#TP3"
   ]
  },
  {
   "cell_type": "markdown",
   "metadata": {},
   "source": [
    "## Ejercicio 1: Cargar Datos de ventas.\n",
    "\n",
    "El archivo datos.dat contiene el registro de las ventas realizadas.\n",
    "\n",
    "Tiene un formato de ancho fijo:\n",
    "- fecha:    10 lugares\n",
    "- producto: 30 lugares\n",
    "- precio:   10 lugares\n",
    "- cantidad:  5 lugares\n",
    "\n",
    "hacer una funcion que carge los en una lista de diccionarios. \n",
    "\n",
    "nota: con \n",
    "```python\n",
    "lineas = open(\"datos.dat\", \"r\").readlines() \n",
    "```\n",
    "puede obtener la lista de string de todos los datos "
   ]
  },
  {
   "cell_type": "code",
   "execution_count": 7,
   "metadata": {},
   "outputs": [
    {
     "name": "stdout",
     "output_type": "stream",
     "text": [
      "Fecha: 2024-08-27, Producto: Mirinda, Precio: 1510, Cantidad: 14\n",
      "Fecha: 2024-08-27, Producto: Mirinda, Precio: 1560, Cantidad: 12\n",
      "Fecha: 2024-08-28, Producto: Torasso, Precio: 940, Cantidad: 8\n",
      "Fecha: 2024-08-29, Producto: Pepsi Cola, Precio: 1210, Cantidad: 10\n",
      "Fecha: 2024-08-30, Producto: Mirinda, Precio: 1520, Cantidad: 1\n",
      "Fecha: 2024-09-01, Producto: Mirinda, Precio: 1550, Cantidad: 15\n",
      "Fecha: 2024-09-01, Producto: Sprite, Precio: 810, Cantidad: 4\n",
      "Fecha: 2024-09-02, Producto: Coca Cola, Precio: 1100, Cantidad: 4\n",
      "Fecha: 2024-09-02, Producto: Pepsi Cola, Precio: 1220, Cantidad: 13\n",
      "Fecha: 2024-09-02, Producto: Torasso, Precio: 910, Cantidad: 5\n",
      "Fecha: 2024-09-02, Producto: Torasso, Precio: 920, Cantidad: 3\n",
      "Fecha: 2024-09-03, Producto: Coca Cola, Precio: 1020, Cantidad: 8\n",
      "Fecha: 2024-09-03, Producto: Mirinda, Precio: 1570, Cantidad: 7\n",
      "Fecha: 2024-09-03, Producto: Mirinda, Precio: 1590, Cantidad: 2\n",
      "Fecha: 2024-09-04, Producto: Pepsi Cola, Precio: 1220, Cantidad: 13\n",
      "Fecha: 2024-09-05, Producto: Mirinda, Precio: 1500, Cantidad: 3\n",
      "Fecha: 2024-09-05, Producto: Pepsi Cola, Precio: 1300, Cantidad: 5\n",
      "Fecha: 2024-09-06, Producto: Coca Cola, Precio: 1080, Cantidad: 1\n",
      "Fecha: 2024-09-06, Producto: Sprite, Precio: 860, Cantidad: 12\n",
      "Fecha: 2024-09-06, Producto: Torasso, Precio: 930, Cantidad: 3\n",
      "Fecha: 2024-09-07, Producto: Coca Cola, Precio: 1080, Cantidad: 14\n",
      "Fecha: 2024-09-07, Producto: Sprite, Precio: 870, Cantidad: 13\n",
      "Fecha: 2024-09-08, Producto: Coca Cola, Precio: 1040, Cantidad: 10\n",
      "Fecha: 2024-09-08, Producto: Mirinda, Precio: 1580, Cantidad: 2\n",
      "Fecha: 2024-09-08, Producto: Pepsi Cola, Precio: 1240, Cantidad: 9\n",
      "Fecha: 2024-09-09, Producto: Mirinda, Precio: 1500, Cantidad: 3\n",
      "Fecha: 2024-09-09, Producto: Sprite, Precio: 850, Cantidad: 9\n",
      "Fecha: 2024-09-10, Producto: Mirinda, Precio: 1590, Cantidad: 8\n",
      "Fecha: 2024-09-10, Producto: Pepsi Cola, Precio: 1250, Cantidad: 12\n",
      "Fecha: 2024-09-11, Producto: Sprite, Precio: 810, Cantidad: 6\n",
      "Fecha: 2024-09-11, Producto: Sprite, Precio: 820, Cantidad: 14\n",
      "Fecha: 2024-09-12, Producto: Coca Cola, Precio: 1080, Cantidad: 4\n",
      "Fecha: 2024-09-13, Producto: Mirinda, Precio: 1580, Cantidad: 5\n",
      "Fecha: 2024-09-13, Producto: Pepsi Cola, Precio: 1250, Cantidad: 13\n",
      "Fecha: 2024-09-14, Producto: Coca Cola, Precio: 1080, Cantidad: 15\n",
      "Fecha: 2024-09-14, Producto: Pepsi Cola, Precio: 1270, Cantidad: 14\n",
      "Fecha: 2024-09-15, Producto: Coca Cola, Precio: 1100, Cantidad: 1\n",
      "Fecha: 2024-09-15, Producto: Mirinda, Precio: 1500, Cantidad: 13\n",
      "Fecha: 2024-09-15, Producto: Sprite, Precio: 870, Cantidad: 14\n",
      "Fecha: 2024-09-15, Producto: Torasso, Precio: 900, Cantidad: 13\n"
     ]
    }
   ],
   "source": [
    "def cargar_datos():\n",
    "    with open(\"datos.dat\", \"r\") as archivo:\n",
    "        lineas = archivo.readlines() \n",
    "    lista_diccionarios = [] \n",
    "    \n",
    "   \n",
    "    for linea in lineas:\n",
    "        diccionario = {\n",
    "            \"fecha\": linea[0:10].strip(),    \n",
    "            \"producto\": linea[10:40].strip(),\n",
    "            \"precio\": linea[40:50].strip(),\n",
    "            \"cantidad\": linea[50:55].strip()\n",
    "        }\n",
    "        lista_diccionarios.append(diccionario) \n",
    "    \n",
    "    return lista_diccionarios  \n",
    "\n",
    "datos = cargar_datos()\n",
    "\n",
    "\n",
    "for registro in datos:\n",
    "    print(f\"Fecha: {registro['fecha']}, Producto: {registro['producto']}, Precio: {registro['precio']}, Cantidad: {registro['cantidad']}\")"
   ]
  },
  {
   "cell_type": "markdown",
   "metadata": {},
   "source": [
    "## Ejercicio 2: Calcular el total de ventas.\n",
    "\n",
    "Hacer una funcion que sume los importes vendidos (precio * cantidad) y las cantidades"
   ]
  },
  {
   "cell_type": "code",
   "execution_count": 8,
   "metadata": {},
   "outputs": [
    {
     "name": "stdout",
     "output_type": "stream",
     "text": [
      "Las ventas fueron de $392730.00 en 335 unidades\n"
     ]
    }
   ],
   "source": [
    "def calcular_totales(archivo):\n",
    "   \n",
    "    with open(archivo, \"r\") as f:\n",
    "        lineas = f.readlines()\n",
    "\n",
    "   \n",
    "    importe_total = 0.0\n",
    "    cantidad_total = 0\n",
    "    \n",
    "    \n",
    "    for linea in lineas:\n",
    "       \n",
    "        precio = float(linea[40:50].strip()) \n",
    "        cantidad = int(linea[50:55].strip()) \n",
    "        \n",
    "        \n",
    "        importe_total += precio * cantidad\n",
    "        cantidad_total += cantidad\n",
    "    \n",
    "    \n",
    "    return importe_total, cantidad_total\n",
    "\n",
    "importe, cantidad = calcular_totales(\"datos.dat\")\n",
    "\n",
    "print(f\"Las ventas fueron de ${importe:.2f} en {cantidad} unidades\")"
   ]
  },
  {
   "cell_type": "markdown",
   "metadata": {},
   "source": [
    "## Ejercicio 3: Listar las unidades vendidas.\n",
    "\n",
    "Listar cuantas unidades se vendieron en total para cada producto"
   ]
  },
  {
   "cell_type": "code",
   "execution_count": 9,
   "metadata": {},
   "outputs": [
    {
     "name": "stdout",
     "output_type": "stream",
     "text": [
      "Producto: Mirinda, unidades vendidas: 85\n",
      "Producto: Torasso, unidades vendidas: 32\n",
      "Producto: Pepsi Cola, unidades vendidas: 89\n",
      "Producto: Sprite, unidades vendidas: 72\n",
      "Producto: Coca Cola, unidades vendidas: 57\n"
     ]
    }
   ],
   "source": [
    "def unidades_vendidas():\n",
    "    ventas_por_productos = {}\n",
    "\n",
    "    with open(\"datos.dat\", \"r\") as archivo:\n",
    "        lineas = archivo.readlines()\n",
    "\n",
    "    for linea in lineas:\n",
    "        producto = linea[10:40].strip()        \n",
    "        cantidad = int(linea[50:55].strip())  \n",
    "\n",
    "        \n",
    "        if producto in ventas_por_productos:\n",
    "            ventas_por_productos[producto] += cantidad\n",
    "        else:\n",
    "            ventas_por_productos[producto] = cantidad\n",
    "\n",
    "    return ventas_por_productos  \n",
    "\n",
    "def listar_ventas(ventas):\n",
    "    for producto, cantidad in ventas.items():\n",
    "        print(f\"Producto: {producto}, unidades vendidas: {cantidad}\")\n",
    "\n",
    "ventas = unidades_vendidas()\n",
    "\n",
    "listar_ventas(ventas)"
   ]
  },
  {
   "cell_type": "markdown",
   "metadata": {},
   "source": [
    "##  Ejercicio 4: Listar el precio promedio por producto.\n",
    "\n",
    "Hacer un listado del precio promedio por productos."
   ]
  },
  {
   "cell_type": "code",
   "execution_count": 10,
   "metadata": {},
   "outputs": [
    {
     "name": "stdout",
     "output_type": "stream",
     "text": [
      "Producto: Mirinda, Precio promedio: 1545.83\n",
      "Producto: Torasso, Precio promedio: 920.00\n",
      "Producto: Pepsi Cola, Precio promedio: 1245.00\n",
      "Producto: Sprite, Precio promedio: 841.43\n",
      "Producto: Coca Cola, Precio promedio: 1072.50\n"
     ]
    }
   ],
   "source": [
    "def precio_promedio(datos):\n",
    "    precio_por_producto = {}\n",
    "    \n",
    "  \n",
    "    for registro in datos:\n",
    "        producto = registro[\"producto\"]\n",
    "        precio = float(registro[\"precio\"]) \n",
    "        \n",
    "       \n",
    "        if producto not in precio_por_producto:\n",
    "            precio_por_producto[producto] = []   \n",
    "        \n",
    "\n",
    "        precio_por_producto[producto].append(precio)\n",
    "    \n",
    "    return precio_por_producto\n",
    "\n",
    "def listar_precios(datos):\n",
    " precios_por_producto = precio_promedio(datos) \n",
    "    \n",
    " for producto, precios in precios_por_producto.items():\n",
    "        promedio = sum(precios) / len(precios)  \n",
    "        print(f\"Producto: {producto}, Precio promedio: {promedio:.2f}\")  \n",
    "\n",
    "\n",
    "listar_precios(datos)"
   ]
  },
  {
   "cell_type": "markdown",
   "metadata": {},
   "source": [
    "### Ejercicio 5: Ranking de productos\n",
    "\n",
    "Realizar un listado de los 3 productos mas vendidos ordenados la cantidad de unidades vendidas (ordenadas de mayor a menor)\n"
   ]
  },
  {
   "cell_type": "code",
   "execution_count": 11,
   "metadata": {},
   "outputs": [
    {
     "name": "stdout",
     "output_type": "stream",
     "text": [
      "Producto: Pepsi Cola, Unidades vendidas: 89\n",
      "Producto: Mirinda, Unidades vendidas: 85\n",
      "Producto: Sprite, Unidades vendidas: 72\n"
     ]
    }
   ],
   "source": [
    "def ranking_productos(datos, top=3):\n",
    "    ventas_por_producto = {}\n",
    "        \n",
    "    for registro in datos:\n",
    "        producto = registro[\"producto\"]       \n",
    "        cantidad = int(registro[\"cantidad\"])  \n",
    "        \n",
    "       \n",
    "        if producto not in ventas_por_producto:\n",
    "            ventas_por_producto[producto] = 0\n",
    "        ventas_por_producto[producto] += cantidad\n",
    "\n",
    " \n",
    "    ranking = sorted(ventas_por_producto.items(), key=lambda x: x[1], reverse=True)[:top]\n",
    "    \n",
    "    return ranking\n",
    "def listar_ranking(ranking):\n",
    "     for producto, cantidad in ranking:\n",
    "        print(f\"Producto: {producto}, Unidades vendidas: {cantidad}\")\n",
    "\n",
    "ranking = ranking_productos(datos, top=3)\n",
    "listar_ranking(ranking)"
   ]
  },
  {
   "cell_type": "markdown",
   "metadata": {},
   "source": [
    "### Ejercicio 6: Listar las ventas por mes\n",
    "\n",
    "Realizar un listado del total de unidades vendidas por productos separada por mes."
   ]
  },
  {
   "cell_type": "code",
   "execution_count": 12,
   "metadata": {},
   "outputs": [
    {
     "name": "stdout",
     "output_type": "stream",
     "text": [
      "Producto: Mirinda\n",
      "  Mes: 2024-08, Unidades vendidas: 27\n",
      "  Mes: 2024-09, Unidades vendidas: 58\n",
      "Producto: Torasso\n",
      "  Mes: 2024-08, Unidades vendidas: 8\n",
      "  Mes: 2024-09, Unidades vendidas: 24\n",
      "Producto: Pepsi Cola\n",
      "  Mes: 2024-08, Unidades vendidas: 10\n",
      "  Mes: 2024-09, Unidades vendidas: 79\n",
      "Producto: Sprite\n",
      "  Mes: 2024-09, Unidades vendidas: 72\n",
      "Producto: Coca Cola\n",
      "  Mes: 2024-09, Unidades vendidas: 57\n"
     ]
    }
   ],
   "source": [
    "def ventas_por_mes(datos):\n",
    "    ventas_mensuales = {}\n",
    "\n",
    "    for registro in datos:\n",
    "        producto = registro[\"producto\"]  \n",
    "        cantidad = int(registro[\"cantidad\"])  \n",
    "        fecha = registro[\"fecha\"]  \n",
    "        mes = fecha[:7]  \n",
    "\n",
    "       \n",
    "        if producto not in ventas_mensuales:\n",
    "            ventas_mensuales[producto] = {}\n",
    "\n",
    "       \n",
    "        if mes not in ventas_mensuales[producto]:\n",
    "            ventas_mensuales[producto][mes] = 0\n",
    "\n",
    "     \n",
    "        ventas_mensuales[producto][mes] += cantidad\n",
    "\n",
    "    return ventas_mensuales\n",
    "\n",
    "def listar_ventas_mensuales(ventas):\n",
    "     for producto, ventas_por_mes in ventas.items():\n",
    "        print(f\"Producto: {producto}\")\n",
    "        for mes, cantidad in ventas_por_mes.items():\n",
    "            print(f\"  Mes: {mes}, Unidades vendidas: {cantidad}\")\n",
    "\n",
    "\n",
    "ventas = ventas_por_mes(datos)\n",
    "listar_ventas_mensuales(ventas)"
   ]
  },
  {
   "cell_type": "markdown",
   "metadata": {},
   "source": [
    "### Ejercicio 7: Informe general\n",
    "\n",
    "Mostrar un listado de productos ordenados alfabeticamente que contengan el precio promedio, la cantidad de unidades vendidas y el importe total vendido para cada producto"
   ]
  },
  {
   "cell_type": "code",
   "execution_count": 14,
   "metadata": {},
   "outputs": [
    {
     "name": "stdout",
     "output_type": "stream",
     "text": [
      "Producto: Coca Cola\n",
      "  Precio promedio: 1066.32\n",
      "  Total unidades vendidas: 57\n",
      "  Importe total vendido: 60780.00\n",
      "Producto: Mirinda\n",
      "  Precio promedio: 1542.12\n",
      "  Total unidades vendidas: 85\n",
      "  Importe total vendido: 131080.00\n",
      "Producto: Pepsi Cola\n",
      "  Precio promedio: 1241.69\n",
      "  Total unidades vendidas: 89\n",
      "  Importe total vendido: 110510.00\n",
      "Producto: Sprite\n",
      "  Precio promedio: 847.78\n",
      "  Total unidades vendidas: 72\n",
      "  Importe total vendido: 61040.00\n",
      "Producto: Torasso\n",
      "  Precio promedio: 916.25\n",
      "  Total unidades vendidas: 32\n",
      "  Importe total vendido: 29320.00\n"
     ]
    }
   ],
   "source": [
    "def resumen_ventas(datos):\n",
    "    resumen_por_producto = {}\n",
    "\n",
    "    for registro in datos:\n",
    "        producto = registro[\"producto\"]  \n",
    "        precio = float(registro[\"precio\"]) \n",
    "        cantidad = int(registro[\"cantidad\"])\n",
    "\n",
    "      \n",
    "        if producto not in resumen_por_producto:\n",
    "            resumen_por_producto[producto] = {\"total_precio\": 0, \"total_cantidad\": 0, \"ventas_totales\": 0}\n",
    "\n",
    "  \n",
    "        resumen_por_producto[producto][\"total_precio\"] += precio * cantidad \n",
    "        resumen_por_producto[producto][\"total_cantidad\"] += cantidad\n",
    "        resumen_por_producto[producto][\"ventas_totales\"] += cantidad * precio  \n",
    "\n",
    "\n",
    "    for producto, datos in resumen_por_producto.items():\n",
    "        datos[\"precio_promedio\"] = datos[\"total_precio\"] / datos[\"total_cantidad\"]\n",
    "\n",
    "    return resumen_por_producto\n",
    "\n",
    "def informe_ventas(datos):\n",
    "    productos_ordenados = sorted(resumen.items())\n",
    "\n",
    "    \n",
    "    for producto, datos in productos_ordenados:\n",
    "        print(f\"Producto: {producto}\")\n",
    "        print(f\"  Precio promedio: {datos['precio_promedio']:.2f}\")\n",
    "        print(f\"  Total unidades vendidas: {datos['total_cantidad']}\")\n",
    "        print(f\"  Importe total vendido: {datos['ventas_totales']:.2f}\")\n",
    "\n",
    "resumen = resumen_ventas(datos)\n",
    "informe_ventas(resumen)"
   ]
  }
 ],
 "metadata": {
  "kernelspec": {
   "display_name": "Python 3",
   "language": "python",
   "name": "python3"
  },
  "language_info": {
   "codemirror_mode": {
    "name": "ipython",
    "version": 3
   },
   "file_extension": ".py",
   "mimetype": "text/x-python",
   "name": "python",
   "nbconvert_exporter": "python",
   "pygments_lexer": "ipython3",
   "version": "3.12.2"
  }
 },
 "nbformat": 4,
 "nbformat_minor": 2
}
