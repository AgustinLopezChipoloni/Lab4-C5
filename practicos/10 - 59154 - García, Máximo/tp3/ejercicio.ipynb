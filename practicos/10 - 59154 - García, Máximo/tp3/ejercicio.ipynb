{
 "cells": [
  {
   "cell_type": "markdown",
   "metadata": {},
   "source": [
    "#TP3"
   ]
  },
  {
   "cell_type": "markdown",
   "metadata": {},
   "source": [
    "## Ejercicio 1: Cargar Datos de ventas.\n",
    "\n",
    "El archivo datos.dat contiene el registro de las ventas realizadas.\n",
    "\n",
    "Tiene un formato de ancho fijo:\n",
    "- fecha:    10 lugares\n",
    "- producto: 30 lugares\n",
    "- precio:   10 lugares\n",
    "- cantidad:  5 lugares\n",
    "\n",
    "hacer una funcion que carge los en una lista de diccionarios. \n",
    "\n",
    "nota: con \n",
    "```python\n",
    "lineas = open(\"datos.dat\", \"r\").readlines() \n",
    "```\n",
    "puede obtener la lista de string de todos los datos "
   ]
  },
  {
   "cell_type": "code",
   "execution_count": 5,
   "metadata": {},
   "outputs": [],
   "source": [
    "def cargar_datos():\n",
    "    lineas=open(\"datos.dat\",\"r\").readlines()\n",
    "    datos=[]\n",
    "    for i in lineas:\n",
    "         registro = {\n",
    "            'fecha': i[0:10].strip(),\n",
    "            'producto': i[10:40].strip(),\n",
    "            'precio': float(i[40:50].strip()),\n",
    "            'cantidad': int(i[50:55].strip())\n",
    "        }\n",
    "         \n",
    "    datos.append(registro)\n",
    "    return datos\n",
    "\n",
    "datos = cargar_datos()\n",
    "#print (datos[:10])"
   ]
  },
  {
   "cell_type": "markdown",
   "metadata": {},
   "source": [
    "## Ejercicio 2: Calcular el total de ventas.\n",
    "\n",
    "Hacer una funcion que sume los importes vendidos (precio * cantidad) y las cantidades"
   ]
  },
  {
   "cell_type": "code",
   "execution_count": 6,
   "metadata": {},
   "outputs": [
    {
     "name": "stdout",
     "output_type": "stream",
     "text": [
      "Las ventas fueron de $11700.00 en 13 unidades\n"
     ]
    }
   ],
   "source": [
    "def calcular_totales(datos):\n",
    "    total_importe = 0        \n",
    "    cantidad = 0   \n",
    "    \n",
    "    for venta in datos:\n",
    "        importe = venta['precio'] * venta['cantidad']    \n",
    "        total_importe += importe    \n",
    "        cantidad += venta['cantidad']    \n",
    "    \n",
    "    return total_importe,cantidad   \n",
    "\n",
    "importe, cantidad = calcular_totales(datos)     \n",
    "\n",
    "print(f\"Las ventas fueron de ${importe:.2f} en {cantidad} unidades\")   \n",
    " "
   ]
  },
  {
   "cell_type": "markdown",
   "metadata": {},
   "source": [
    "## Ejercicio 3: Listar las unidades vendidas.\n",
    "\n",
    "Listar cuantas unidades se vendieron en total para cada producto"
   ]
  },
  {
   "cell_type": "code",
   "execution_count": 7,
   "metadata": {},
   "outputs": [
    {
     "name": "stdout",
     "output_type": "stream",
     "text": [
      "Producto: Torasso, Unidades Vendidas: 13\n"
     ]
    }
   ],
   "source": [
    "def unidades_vendidas(datos):\n",
    "    productos={}\n",
    "    \n",
    "    for unidades in datos:\n",
    "        nombre_producto =unidades['producto']\n",
    "        cantidad = unidades['cantidad']\n",
    "        if nombre_producto in productos:\n",
    "            productos[nombre_producto]+=cantidad\n",
    "        else:\n",
    "            productos[nombre_producto]=cantidad\n",
    "    return productos\n",
    "\n",
    "def listar_ventas(ventas):\n",
    "    for producto,cantidad in ventas.items():\n",
    "            print(f\"Producto: {producto}, Unidades Vendidas: {cantidad}\")\n",
    "\n",
    "ventas = unidades_vendidas(datos)\n",
    "listar_ventas(ventas)\n"
   ]
  },
  {
   "cell_type": "markdown",
   "metadata": {},
   "source": [
    "##  Ejercicio 4: Listar el precio promedio por producto.\n",
    "\n",
    "Hacer un listado del precio promedio por productos."
   ]
  },
  {
   "cell_type": "code",
   "execution_count": 8,
   "metadata": {},
   "outputs": [
    {
     "name": "stdout",
     "output_type": "stream",
     "text": [
      "Producto: Torasso, Precio Promedio: $900.00\n"
     ]
    }
   ],
   "source": [
    "def precio_promedio(datos):\n",
    "    precios_por_producto = {}\n",
    "    \n",
    "    for venta in datos:\n",
    "        nombre_producto = venta['producto']\n",
    "        precio = venta['precio']\n",
    "        \n",
    "        if nombre_producto in precios_por_producto:\n",
    "            precios_por_producto[nombre_producto]['total_precio'] += precio\n",
    "            precios_por_producto[nombre_producto]['total_ventas'] += 1\n",
    "        else:\n",
    "            precios_por_producto[nombre_producto] = {'total_precio': precio, 'total_ventas': 1}\n",
    "\n",
    "    precios_promedio = {}\n",
    "    for producto, info in precios_por_producto.items():\n",
    "        precios_promedio[producto] = info['total_precio'] / info['total_ventas']\n",
    "    \n",
    "    return precios_promedio\n",
    "\n",
    "def listar_precios(precios):\n",
    "    for producto, precio_promedio in precios.items():\n",
    "        print(f\"Producto: {producto}, Precio Promedio: ${precio_promedio:.2f}\")\n",
    "\n",
    "precios = precio_promedio(datos)\n",
    "listar_precios(precios)\n"
   ]
  },
  {
   "cell_type": "markdown",
   "metadata": {},
   "source": [
    "### Ejercicio 5: Ranking de productos\n",
    "\n",
    "Realizar un listado de los 3 productos mas vendidos ordenados la cantidad de unidades vendidas (ordenadas de mayor a menor)\n"
   ]
  },
  {
   "cell_type": "code",
   "execution_count": 9,
   "metadata": {},
   "outputs": [
    {
     "name": "stdout",
     "output_type": "stream",
     "text": [
      "Ranking de Productos Más Vendidos:\n",
      "1. Torasso: 13 unidades\n"
     ]
    }
   ],
   "source": [
    "def ranking_productos(datos, top=3):\n",
    "    ventas_por_producto = unidades_vendidas(datos)\n",
    "    \n",
    "    productos_ordenados = sorted(ventas_por_producto.items(), key=lambda x: x[1], reverse=True)\n",
    "    return productos_ordenados[:top]\n",
    "\n",
    "def listar_ranking(ranking):\n",
    "    print(\"Ranking de Productos Más Vendidos:\")\n",
    "    for i, (producto, cantidad) in enumerate(ranking, start=1):\n",
    "        print(f\"{i}. {producto}: {cantidad} unidades\")\n",
    "\n",
    "ranking = ranking_productos(datos)\n",
    "listar_ranking(ranking)"
   ]
  },
  {
   "cell_type": "markdown",
   "metadata": {},
   "source": [
    "### Ejercicio 6: Listar las ventas por mes\n",
    "\n",
    "Realizar un listado del total de unidades vendidas por productos separada por mes."
   ]
  },
  {
   "cell_type": "code",
   "execution_count": 11,
   "metadata": {},
   "outputs": [
    {
     "name": "stdout",
     "output_type": "stream",
     "text": [
      "Ventas del mes 2024-09:\n",
      "  Torasso: 13 unidades\n",
      "\n"
     ]
    }
   ],
   "source": [
    "def ventas_por_mes(datos):\n",
    "    ventas_mensuales = {}\n",
    "    \n",
    "    for venta in datos:\n",
    "        fecha = venta['fecha']\n",
    "        mes = fecha[:7]  \n",
    "        producto = venta['producto']\n",
    "        cantidad = venta['cantidad']\n",
    "        \n",
    "        if mes not in ventas_mensuales:\n",
    "            ventas_mensuales[mes] = {}\n",
    "\n",
    "        if producto not in ventas_mensuales[mes]:\n",
    "            ventas_mensuales[mes][producto] = 0\n",
    "\n",
    "        ventas_mensuales[mes][producto] += cantidad\n",
    "    \n",
    "    return ventas_mensuales\n",
    "\n",
    "def listar_ventas_mensuales(ventas):\n",
    "    for mes, productos in ventas.items():\n",
    "        print(f\"Ventas del mes {mes}:\")\n",
    "        for producto, cantidad in productos.items():\n",
    "            print(f\"  {producto}: {cantidad} unidades\")\n",
    "        print()  \n",
    "\n",
    "ventas = ventas_por_mes(datos)\n",
    "listar_ventas_mensuales(ventas)\n"
   ]
  },
  {
   "cell_type": "markdown",
   "metadata": {},
   "source": [
    "### Ejercicio 7: Informe general\n",
    "\n",
    "Mostrar un listado de productos ordenados alfabeticamente que contengan el precio promedio, la cantidad de unidades vendidas y el importe total vendido para cada producto"
   ]
  },
  {
   "cell_type": "code",
   "execution_count": 1,
   "metadata": {},
   "outputs": [
    {
     "ename": "NameError",
     "evalue": "name 'datos' is not defined",
     "output_type": "error",
     "traceback": [
      "\u001b[1;31m---------------------------------------------------------------------------\u001b[0m",
      "\u001b[1;31mNameError\u001b[0m                                 Traceback (most recent call last)",
      "Cell \u001b[1;32mIn[1], line 41\u001b[0m\n\u001b[0;32m     38\u001b[0m     \u001b[38;5;28;01mfor\u001b[39;00m producto, info \u001b[38;5;129;01min\u001b[39;00m productos_ordenados:\n\u001b[0;32m     39\u001b[0m         \u001b[38;5;28mprint\u001b[39m(\u001b[38;5;124mf\u001b[39m\u001b[38;5;124m\"\u001b[39m\u001b[38;5;132;01m{\u001b[39;00mproducto\u001b[38;5;132;01m:\u001b[39;00m\u001b[38;5;124m<20\u001b[39m\u001b[38;5;132;01m}\u001b[39;00m\u001b[38;5;132;01m{\u001b[39;00minfo[\u001b[38;5;124m'\u001b[39m\u001b[38;5;124mprecio_promedio\u001b[39m\u001b[38;5;124m'\u001b[39m]\u001b[38;5;132;01m:\u001b[39;00m\u001b[38;5;124m<20.2f\u001b[39m\u001b[38;5;132;01m}\u001b[39;00m\u001b[38;5;132;01m{\u001b[39;00minfo[\u001b[38;5;124m'\u001b[39m\u001b[38;5;124mcantidad_total\u001b[39m\u001b[38;5;124m'\u001b[39m]\u001b[38;5;132;01m:\u001b[39;00m\u001b[38;5;124m<20\u001b[39m\u001b[38;5;132;01m}\u001b[39;00m\u001b[38;5;132;01m{\u001b[39;00minfo[\u001b[38;5;124m'\u001b[39m\u001b[38;5;124mimporte_total\u001b[39m\u001b[38;5;124m'\u001b[39m]\u001b[38;5;132;01m:\u001b[39;00m\u001b[38;5;124m<20.2f\u001b[39m\u001b[38;5;132;01m}\u001b[39;00m\u001b[38;5;124m\"\u001b[39m)\n\u001b[1;32m---> 41\u001b[0m resumen \u001b[38;5;241m=\u001b[39m resumen_ventas(\u001b[43mdatos\u001b[49m)\n\u001b[0;32m     42\u001b[0m informe_ventas(resumen)\n",
      "\u001b[1;31mNameError\u001b[0m: name 'datos' is not defined"
     ]
    }
   ],
   "source": [
    "def resumen_ventas(datos):\n",
    "    productos = {}\n",
    "    \n",
    "    for venta in datos:\n",
    "        producto = venta['producto']\n",
    "        precio = venta['precio']\n",
    "        cantidad = venta['cantidad']\n",
    "    \n",
    "        if producto not in productos:\n",
    "            productos[producto] = {\n",
    "                'total_precio': 0,\n",
    "                'total_ventas': 0,\n",
    "                'total_cantidad': 0,\n",
    "                'importe_total': 0\n",
    "            }\n",
    "     \n",
    "        productos[producto]['total_precio'] += precio\n",
    "        productos[producto]['total_ventas'] += 1\n",
    "        productos[producto]['total_cantidad'] += cantidad\n",
    "        productos[producto]['importe_total'] += precio * cantidad\n",
    " \n",
    "    resumen = {}\n",
    "    for producto, info in productos.items():\n",
    "        precio_promedio = info['total_precio'] / info['total_ventas']\n",
    "        resumen[producto] = {\n",
    "            'precio_promedio': precio_promedio,\n",
    "            'cantidad_total': info['total_cantidad'],\n",
    "            'importe_total': info['importe_total']\n",
    "        }\n",
    "    \n",
    "    return resumen\n",
    "\n",
    "def informe_ventas(resumen): \n",
    "    productos_ordenados = sorted(resumen.items())\n",
    "    \n",
    "    print(\"Informe de Ventas:\")\n",
    "    print(f\"{'Producto':<20}{'Precio Promedio':<20}{'Unidades Vendidas':<20}{'Importe Total':<20}\")\n",
    "    for producto, info in productos_ordenados:\n",
    "        print(f\"{producto:<20}{info['precio_promedio']:<20.2f}{info['cantidad_total']:<20}{info['importe_total']:<20.2f}\")\n",
    "\n",
    "resumen = resumen_ventas(datos)\n",
    "informe_ventas(resumen)\n"
   ]
  }
 ],
 "metadata": {
  "kernelspec": {
   "display_name": "Python 3",
   "language": "python",
   "name": "python3"
  },
  "language_info": {
   "codemirror_mode": {
    "name": "ipython",
    "version": 3
   },
   "file_extension": ".py",
   "mimetype": "text/x-python",
   "name": "python",
   "nbconvert_exporter": "python",
   "pygments_lexer": "ipython3",
   "version": "3.12.5"
  }
 },
 "nbformat": 4,
 "nbformat_minor": 2
}
