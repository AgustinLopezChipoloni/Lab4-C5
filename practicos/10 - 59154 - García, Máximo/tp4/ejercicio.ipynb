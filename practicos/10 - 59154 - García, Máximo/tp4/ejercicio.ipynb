{
 "cells": [
  {
   "cell_type": "markdown",
   "metadata": {},
   "source": [
    "# Simulación del Truco"
   ]
  },
  {
   "cell_type": "markdown",
   "metadata": {},
   "source": [
    "Las **cartas** deben registra el numero, palo y valor de la carta. \n",
    "El valor debe reflejar la jerarquía de las cartas en el juego del truco."
   ]
  },
  {
   "cell_type": "code",
   "execution_count": 63,
   "metadata": {},
   "outputs": [],
   "source": [
    "def calcular_valor(numero, palo): \n",
    "    jerarquia = {  \n",
    "        (1, 'Espadas'): 14, \n",
    "        (1, 'Bastos'): 13,  \n",
    "        (7, 'Espadas'): 12,   \n",
    "        (7, 'Oros'): 11,     \n",
    "        (3, 'Oros'): 10, (3, 'Copas'): 10, (3, 'Espadas'): 10, (3, 'Bastos'): 10,   \n",
    "        (2, 'Oros'): 9, (2, 'Copas'): 9, (2, 'Espadas'): 9, (2, 'Bastos'): 9, \n",
    "        (1, 'Oros'): 8, (1, 'Copas'): 8,    \n",
    "        (12, 'Oros'): 7, (12, 'Copas'): 7, (12, 'Espadas'): 7, (12, 'Bastos'): 7, \n",
    "        (11, 'Oros'): 6, (11, 'Copas'): 6, (11, 'Espadas'): 6, (11, 'Bastos'): 6,      \n",
    "        (10, 'Oros'): 5, (10, 'Copas'): 5, (10, 'Espadas'): 5, (10, 'Bastos'): 5, \n",
    "        (7, 'Copas'): 4, (7, 'Bastos'): 4, \n",
    "        (6, 'Oros'): 3, (6, 'Copas'): 3, (6, 'Espadas'): 3, (6, 'Bastos'): 3, \n",
    "        (5, 'Oros'): 2, (5, 'Copas'): 2, (5, 'Espadas'): 2, (5, 'Bastos'): 2, \n",
    "        (4, 'Oros'): 1, (4, 'Copas'): 1, (4, 'Espadas'): 1, (4, 'Bastos'): 1 \n",
    "    }  \n",
    "    return jerarquia.get((numero, palo), 0)    \n",
    "class Carta:   \n",
    "    def __init__(self, numero, palo):       \n",
    "        self.numero = numero     \n",
    "        self.palo = palo     \n",
    "        self.valor = calcular_valor(numero, palo)      \n",
    "\n",
    "    def __str__(self):  \n",
    "        return f\"{self.numero} de {self.palo} (valor: {self.valor})\"   \n",
    " \n",
    "    def __lt__(self, other):    \n",
    "        return self.valor < other.valor  \n",
    " \n",
    "    def __eq__(self, other):     \n",
    "        return self.valor == other.valor    "
   ]
  },
  {
   "cell_type": "markdown",
   "metadata": {},
   "source": [
    "**Mazo**: Representan las cartas españolas de 1 al 12, en los palos de oro, copa, espada y basto.\n",
    "\n",
    "Debe existir una función que permita barajar las cartas.\n",
    "y otra función que permita repartir las cartas a los jugadores."
   ]
  },
  {
   "cell_type": "code",
   "execution_count": 64,
   "metadata": {},
   "outputs": [
    {
     "name": "stdout",
     "output_type": "stream",
     "text": [
      "1 de Oros (valor: 8)\n",
      "2 de Oros (valor: 9)\n",
      "3 de Oros (valor: 10)\n"
     ]
    }
   ],
   "source": [
    "class Mazo:\n",
    "    def __init__(self):\n",
    "        palos = ['Oros', 'Copas', 'Espadas', 'Bastos']     \n",
    "        numeros = [1, 2, 3, 4, 5, 6, 7, 10, 11, 12]      \n",
    "        self.cartas = [Carta(numero, palo) for palo in palos for numero in numeros]         \n",
    "      \n",
    "    def mezclar(self):\n",
    "        n = len(self.cartas)   \n",
    "        for i in range(n - 1, 0, -1):  \n",
    "            j = i % n     \n",
    "            self.cartas[i], self.cartas[j] = self.cartas[j], self.cartas[i]   \n",
    "    def repartir(self, cantidad):    \n",
    "        mano = self.cartas[:cantidad]  \n",
    "        self.cartas = self.cartas[cantidad:] \n",
    "        return mano   \n",
    "m = Mazo()  \n",
    "m.mezclar()     \n",
    "cartas_repartidas = m.repartir(3)   \n",
    "for carta in cartas_repartidas:   \n",
    "    print(carta)     \n"
   ]
  },
  {
   "cell_type": "markdown",
   "metadata": {},
   "source": [
    "**Jugador**: Deben tener un nombre y las cartas que tiene en la mano. Debe acumular los puntos ganados.\n",
    "\n",
    "Nota: Para simplificar el problema, el jugador elige la carta a jugar de forma aleatoria."
   ]
  },
  {
   "cell_type": "code",
   "execution_count": 65,
   "metadata": {},
   "outputs": [
    {
     "name": "stdout",
     "output_type": "stream",
     "text": [
      "Maxi juega la carta: 1 de Oros (valor: 8)\n",
      "Cartas restantes: ['2 de Oros (valor: 9)', '3 de Oros (valor: 10)']\n"
     ]
    }
   ],
   "source": [
    "\n",
    "class Jugador:\n",
    "    def __init__(self, nombre):   \n",
    "        self.nombre = nombre    \n",
    "        self.mano = [] \n",
    "        self.puntos = 0      \n",
    "   \n",
    "    def recibir_cartas(self, cartas):  \n",
    "        self.mano = cartas  \n",
    "   \n",
    "    def jugar_carta(self):  \n",
    "        if self.mano:   \n",
    "            indice = len(self.mano) % len(self.mano)   \n",
    "            carta_jugada = self.mano[indice] \n",
    "            self.mano.remove(carta_jugada)    \n",
    "            return carta_jugada\n",
    "        else: \n",
    "            return None   \n",
    "    def ganar_ronda(self): \n",
    "        self.puntos += 1   \n",
    "m = Mazo()  \n",
    "m.mezclar()   \n",
    "  \n",
    "j = Jugador(\"Maxi\") \n",
    "j.recibir_cartas(m.repartir(3))  \n",
    "print(f\"{j.nombre} juega la carta: {j.jugar_carta()}\")   \n",
    "print(f\"Cartas restantes: {[str(carta) for carta in j.mano]}\")   \n"
   ]
  },
  {
   "cell_type": "markdown",
   "metadata": {},
   "source": [
    "**Partida**: Debe tener dos jugadores, un mazo de cartas y un puntaje. Debe permitir jugar una carta por ronda y definir el ganador de la ronda. Debe permitir jugar hasta que se terminen las cartas del mazo."
   ]
  },
  {
   "cell_type": "code",
   "execution_count": 66,
   "metadata": {},
   "outputs": [
    {
     "name": "stdout",
     "output_type": "stream",
     "text": [
      "Maxi juega: 1 de Oros (valor: 8)\n",
      "Mateo juega: 4 de Oros (valor: 1)\n",
      "¡Maxi gana esta ronda!\n",
      "Maxi juega: 2 de Oros (valor: 9)\n",
      "Mateo juega: 5 de Oros (valor: 2)\n",
      "¡Maxi gana esta ronda!\n",
      "Maxi juega: 3 de Oros (valor: 10)\n",
      "Mateo juega: 6 de Oros (valor: 3)\n",
      "¡Maxi gana esta ronda!\n",
      "Estado del juego: Maxi tiene 3 puntos, y Mateo tiene 0 puntos.\n",
      "Maxi juega: 7 de Oros (valor: 11)\n",
      "Mateo juega: 12 de Oros (valor: 7)\n",
      "¡Maxi gana esta ronda!\n",
      "Maxi juega: 10 de Oros (valor: 5)\n",
      "Mateo juega: 1 de Copas (valor: 8)\n",
      "¡Mateo se lleva la victoria en esta ronda!\n",
      "Maxi juega: 11 de Oros (valor: 6)\n",
      "Mateo juega: 2 de Copas (valor: 9)\n",
      "¡Mateo se lleva la victoria en esta ronda!\n",
      "Estado del juego: Maxi tiene 4 puntos, y Mateo tiene 2 puntos.\n",
      "Maxi juega: 3 de Copas (valor: 10)\n",
      "Mateo juega: 6 de Copas (valor: 3)\n",
      "¡Maxi gana esta ronda!\n",
      "Maxi juega: 4 de Copas (valor: 1)\n",
      "Mateo juega: 7 de Copas (valor: 4)\n",
      "¡Mateo se lleva la victoria en esta ronda!\n",
      "Maxi juega: 5 de Copas (valor: 2)\n",
      "Mateo juega: 10 de Copas (valor: 5)\n",
      "¡Mateo se lleva la victoria en esta ronda!\n",
      "Estado del juego: Maxi tiene 5 puntos, y Mateo tiene 4 puntos.\n",
      "Maxi juega: 11 de Copas (valor: 6)\n",
      "Mateo juega: 2 de Espadas (valor: 9)\n",
      "¡Mateo se lleva la victoria en esta ronda!\n",
      "Maxi juega: 12 de Copas (valor: 7)\n",
      "Mateo juega: 3 de Espadas (valor: 10)\n",
      "¡Mateo se lleva la victoria en esta ronda!\n",
      "Maxi juega: 1 de Espadas (valor: 14)\n",
      "Mateo juega: 4 de Espadas (valor: 1)\n",
      "¡Maxi gana esta ronda!\n",
      "Estado del juego: Maxi tiene 6 puntos, y Mateo tiene 6 puntos.\n",
      "Maxi juega: 5 de Espadas (valor: 2)\n",
      "Mateo juega: 10 de Espadas (valor: 5)\n",
      "¡Mateo se lleva la victoria en esta ronda!\n",
      "Maxi juega: 6 de Espadas (valor: 3)\n",
      "Mateo juega: 11 de Espadas (valor: 6)\n",
      "¡Mateo se lleva la victoria en esta ronda!\n",
      "Maxi juega: 7 de Espadas (valor: 12)\n",
      "Mateo juega: 12 de Espadas (valor: 7)\n",
      "¡Maxi gana esta ronda!\n",
      "Estado del juego: Maxi tiene 7 puntos, y Mateo tiene 8 puntos.\n",
      "Maxi juega: 1 de Bastos (valor: 13)\n",
      "Mateo juega: 4 de Bastos (valor: 1)\n",
      "¡Maxi gana esta ronda!\n",
      "Maxi juega: 2 de Bastos (valor: 9)\n",
      "Mateo juega: 5 de Bastos (valor: 2)\n",
      "¡Maxi gana esta ronda!\n",
      "Maxi juega: 3 de Bastos (valor: 10)\n",
      "Mateo juega: 6 de Bastos (valor: 3)\n",
      "¡Maxi gana esta ronda!\n",
      "Estado del juego: Maxi tiene 10 puntos, y Mateo tiene 8 puntos.\n",
      "¡Maxi es el campeón de la partida\n"
     ]
    }
   ],
   "source": [
    "class Partida:\n",
    "    def __init__(self, jugador1, jugador2):  \n",
    "        self.jugador_1 = jugador1 \n",
    "        self.jugador_2 = jugador2  \n",
    "        self.mazo_cartas = Mazo()    \n",
    "        self.mazo_cartas.mezclar()  \n",
    "  \n",
    "    def jugar_ronda(self):    \n",
    "        carta_jugador_1 = self.jugador_1.jugar_carta()       \n",
    "        carta_jugador_2 = self.jugador_2.jugar_carta()   \n",
    "        if carta_jugador_1 is None or carta_jugador_2 is None:       \n",
    "            print(\"Uno de los jugadores no tiene cartas para jugar. La ronda termina.\")\n",
    "            return                          \n",
    "\n",
    "        print(f\"{self.jugador_1.nombre} juega: {carta_jugador_1}\")\n",
    "        print(f\"{self.jugador_2.nombre} juega: {carta_jugador_2}\")\n",
    " \n",
    "        if carta_jugador_1.valor > carta_jugador_2.valor: \n",
    "            print(f\"¡{self.jugador_1.nombre} gana esta ronda!\") \n",
    "            self.jugador_1.puntos += 1 \n",
    "        elif carta_jugador_2.valor > carta_jugador_1.valor:   \n",
    "            print(f\"¡{self.jugador_2.nombre} se lleva la victoria en esta ronda!\")   \n",
    "            self.jugador_2.puntos += 1    \n",
    "        else:   \n",
    "            print(\"¡Empate!\")  \n",
    "  \n",
    "    def jugar(self):       \n",
    "        while len(self.mazo_cartas.cartas) >= 6:        \n",
    "             \n",
    "            self.jugador_1.recibir_cartas(self.mazo_cartas.repartir(3))     \n",
    "            self.jugador_2.recibir_cartas(self.mazo_cartas.repartir(3))          \n",
    "\n",
    "            for _ in range(3):    \n",
    "                self.jugar_ronda()     \n",
    " \n",
    "            print(f\"Estado del juego: {self.jugador_1.nombre} tiene {self.jugador_1.puntos} puntos, \"  \n",
    "                  f\"y {self.jugador_2.nombre} tiene {self.jugador_2.puntos} puntos.\")      \n",
    "        if self.jugador_1.puntos > self.jugador_2.puntos:  \n",
    "            print(f\"¡{self.jugador_1.nombre} es el campeón de la partida\")      \n",
    "        elif self.jugador_2.puntos > self.jugador_1.puntos:      \n",
    "            print(f\"¡{self.jugador_2.nombre} se corona como el ganador de la partida\")     \n",
    "        else:     \n",
    "            print(\"La partida termina en un empate\")          \n",
    "partida_actual = Partida(Jugador(\"Maxi\"), Jugador(\"Mateo\"))      \n",
    "partida_actual.jugar() \n",
    " "
   ]
  }
 ],
 "metadata": {
  "kernelspec": {
   "display_name": "Python 3",
   "language": "python",
   "name": "python3"
  },
  "language_info": {
   "codemirror_mode": {
    "name": "ipython",
    "version": 3
   },
   "file_extension": ".py",
   "mimetype": "text/x-python",
   "name": "python",
   "nbconvert_exporter": "python",
   "pygments_lexer": "ipython3",
   "version": "3.12.5"
  }
 },
 "nbformat": 4,
 "nbformat_minor": 2
}
