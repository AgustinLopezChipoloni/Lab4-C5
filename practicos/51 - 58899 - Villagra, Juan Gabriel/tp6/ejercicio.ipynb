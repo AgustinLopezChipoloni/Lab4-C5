{
 "cells": [
  {
   "cell_type": "markdown",
   "metadata": {},
   "source": [
    "# TP6\n",
    "\n",
    "### `Resolver usando Pandas`\n",
    "\n",
    "Resolver los ejercicios del TP3 utilizando la librería Pandas."
   ]
  },
  {
   "cell_type": "markdown",
   "metadata": {},
   "source": [
    "### Ejercicio 1: Cargar Datos de ventas.\n",
    "\n",
    "El archivo datos.dat contiene el registro de las ventas realizadas.\n",
    "\n",
    "Tiene un formato de ancho fijo:\n",
    "- `fecha`:    10 lugares\n",
    "- `producto`: 30 lugares\n",
    "- `precio`:   10 lugares\n",
    "- `cantidad`:  5 lugares\n",
    "\n",
    "Hacer una funcion que cargue los datos en un DataFrame de Pandas."
   ]
  },
  {
   "cell_type": "code",
   "execution_count": 51,
   "metadata": {},
   "outputs": [],
   "source": [
    "import pandas as pd\n",
    "\n",
    "def cargar_datos():\n",
    "    colspecs = [(0, 10), (10, 40), (40, 50), (50, 55)]\n",
    "    df = pd.read_fwf('datos.dat', colspecs=colspecs, header=None, names=['fecha', 'producto', 'precio', 'cantidad'])\n",
    "    df['precio'] = pd.to_numeric(df['precio'], errors='coerce')\n",
    "    df['cantidad'] = pd.to_numeric(df['cantidad'], errors='coerce')\n",
    "\n",
    "    return df\n",
    "\n",
    "datos_df = cargar_datos()"
   ]
  },
  {
   "cell_type": "markdown",
   "metadata": {},
   "source": [
    "### Ejercicio 2: Calcular el total de ventas.\n",
    "Hacer una función que sume los importes vendidos (precio * cantidad) y las cantidades.\n"
   ]
  },
  {
   "cell_type": "code",
   "execution_count": 52,
   "metadata": {},
   "outputs": [
    {
     "name": "stdout",
     "output_type": "stream",
     "text": [
      "Las ventas fueron de: $392730.00 en 335 unidades\n"
     ]
    }
   ],
   "source": [
    "def calcular_totales(df):\n",
    "    total_p = (df['precio'] * df['cantidad']).sum()\n",
    "    total_c = df['cantidad'].sum()\n",
    "    return total_p, total_c\n",
    "\n",
    "importe, cantidad = calcular_totales(datos_df)\n",
    "\n",
    "print(f\"Las ventas fueron de: ${importe:.2f} en {cantidad} unidades\")"
   ]
  },
  {
   "cell_type": "markdown",
   "metadata": {},
   "source": [
    "### Ejercicio 3: Listar las unidades vendidas.\n",
    "Listar cuántas unidades se vendieron en total para cada producto\n"
   ]
  },
  {
   "cell_type": "code",
   "execution_count": 65,
   "metadata": {},
   "outputs": [
    {
     "name": "stdout",
     "output_type": "stream",
     "text": [
      "Producto: 'Coca Cola'\n",
      "Unidades vendidas: 57\n",
      "\n",
      "Producto: 'Mirinda'\n",
      "Unidades vendidas: 85\n",
      "\n",
      "Producto: 'Pepsi Cola'\n",
      "Unidades vendidas: 89\n",
      "\n",
      "Producto: 'Sprite'\n",
      "Unidades vendidas: 72\n",
      "\n",
      "Producto: 'Torasso'\n",
      "Unidades vendidas: 32\n",
      "\n"
     ]
    }
   ],
   "source": [
    "def unidades_vendidas(df):\n",
    "    ventas = df.groupby('producto')['cantidad'].sum()\n",
    "    return ventas\n",
    "\n",
    "def listar_ventas(ventas):\n",
    "    for producto, cantidad in ventas.items():\n",
    "        print(f\"Producto: '{producto}'\")\n",
    "        print(f\"Unidades vendidas: {cantidad}\")\n",
    "        print()\n",
    "\n",
    "ventas = unidades_vendidas(datos_df)\n",
    "listar_ventas(ventas)"
   ]
  },
  {
   "cell_type": "markdown",
   "metadata": {},
   "source": [
    "###  Ejercicio 4: Listar el precio promedio por producto.\n",
    "Hacer un listado del precio promedio por producto.\n"
   ]
  },
  {
   "cell_type": "code",
   "execution_count": 66,
   "metadata": {},
   "outputs": [
    {
     "name": "stdout",
     "output_type": "stream",
     "text": [
      "Producto: 'Coca Cola'\n",
      "Precio promedio: $1066.32\n",
      "\n",
      "Producto: 'Mirinda'\n",
      "Precio promedio: $1542.12\n",
      "\n",
      "Producto: 'Pepsi Cola'\n",
      "Precio promedio: $1241.69\n",
      "\n",
      "Producto: 'Sprite'\n",
      "Precio promedio: $847.78\n",
      "\n",
      "Producto: 'Torasso'\n",
      "Precio promedio: $916.25\n",
      "\n"
     ]
    },
    {
     "name": "stderr",
     "output_type": "stream",
     "text": [
      "C:\\Users\\Estudiante\\AppData\\Local\\Temp\\ipykernel_3096\\1804145980.py:2: DeprecationWarning: DataFrameGroupBy.apply operated on the grouping columns. This behavior is deprecated, and in a future version of pandas the grouping columns will be excluded from the operation. Either pass `include_groups=False` to exclude the groupings or explicitly select the grouping columns after groupby to silence this warning.\n",
      "  acumulado = df.groupby('producto', group_keys=False).apply(lambda x: pd.Series({\n"
     ]
    }
   ],
   "source": [
    "def precios_promedio(df):\n",
    "    acumulado = df.groupby('producto', group_keys=False).apply(lambda x: pd.Series({\n",
    "        'total_precio': (x['precio'] * x['cantidad']).sum(),\n",
    "        'total_cantidad': x['cantidad'].sum()\n",
    "    }))\n",
    "    \n",
    "    acumulado['precio_promedio'] = acumulado['total_precio'] / acumulado['total_cantidad']\n",
    "    return acumulado['precio_promedio']\n",
    "\n",
    "def listar_precios_promedio(precios_promedio):\n",
    "    for producto, promedio in precios_promedio.items():\n",
    "        print(f\"Producto: '{producto}'\")\n",
    "        print(f\"Precio promedio: ${promedio:.2f}\")\n",
    "        print()\n",
    "\n",
    "precios_promedio = precios_promedio(datos_df)\n",
    "listar_precios_promedio(precios_promedio)"
   ]
  },
  {
   "cell_type": "markdown",
   "metadata": {},
   "source": [
    "### Ejercicio 5: Ranking de productos\n",
    "Realizar un listado de los 3 productos más vendidos ordenados por la cantidad de unidades vendidas (ordenadas de mayor a menor)\n"
   ]
  },
  {
   "cell_type": "code",
   "execution_count": 67,
   "metadata": {},
   "outputs": [
    {
     "name": "stdout",
     "output_type": "stream",
     "text": [
      "Top 3 productos más vendidos:\n",
      "1. Pepsi Cola: 89 unidades\n",
      "2. Mirinda: 85 unidades\n",
      "3. Sprite: 72 unidades\n"
     ]
    }
   ],
   "source": [
    "def ranking_productos(df, top=3):\n",
    "    ventas_productos = df.groupby('producto')['cantidad'].sum()\n",
    "    ranking = ventas_productos.nlargest(top)\n",
    "    return ranking\n",
    "\n",
    "def listar_ranking(ranking):\n",
    "    print(f\"Top {len(ranking)} productos más vendidos:\")\n",
    "    for i, (producto, cantidad) in enumerate(ranking.items(), start=1):\n",
    "        print(f\"{i}. {producto}: {cantidad} unidades\")\n",
    "\n",
    "ranking = ranking_productos(datos_df)\n",
    "listar_ranking(ranking)"
   ]
  },
  {
   "cell_type": "markdown",
   "metadata": {},
   "source": [
    "### Ejercicio 6: Listar las ventas por mes\n",
    "Realizar un listado del total de unidades vendidas por producto separado por mes.\n"
   ]
  },
  {
   "cell_type": "code",
   "execution_count": 61,
   "metadata": {},
   "outputs": [
    {
     "name": "stdout",
     "output_type": "stream",
     "text": [
      "Producto: 'Coca Cola'\n",
      "  Mes: 08 -> Unidades vendidas: 0\n",
      "  Mes: 09 -> Unidades vendidas: 57\n",
      "\n",
      "Producto: 'Mirinda'\n",
      "  Mes: 08 -> Unidades vendidas: 27\n",
      "  Mes: 09 -> Unidades vendidas: 58\n",
      "\n",
      "Producto: 'Pepsi Cola'\n",
      "  Mes: 08 -> Unidades vendidas: 10\n",
      "  Mes: 09 -> Unidades vendidas: 79\n",
      "\n",
      "Producto: 'Sprite'\n",
      "  Mes: 08 -> Unidades vendidas: 0\n",
      "  Mes: 09 -> Unidades vendidas: 72\n",
      "\n",
      "Producto: 'Torasso'\n",
      "  Mes: 08 -> Unidades vendidas: 8\n",
      "  Mes: 09 -> Unidades vendidas: 24\n",
      "\n"
     ]
    }
   ],
   "source": [
    "def ventas_por_mes(df):\n",
    "    df['fecha'] = pd.to_datetime(df['fecha'])\n",
    "    df['mes'] = df['fecha'].dt.month.astype(str).str.zfill(2)  # Formatear mes con ceros a la izquierda\n",
    "    \n",
    "    ventas = df.groupby(['producto', 'mes'])['cantidad'].sum().unstack(fill_value=0)\n",
    "    return ventas\n",
    "\n",
    "def listar_ventas_mensuales(ventas):\n",
    "    for producto, meses in ventas.iterrows():\n",
    "        print(f\"Producto: '{producto}'\")\n",
    "        for mes, total in meses.items():\n",
    "            print(f\"  Mes: {mes} -> Unidades vendidas: {total}\")\n",
    "        print()\n",
    "ventas = ventas_por_mes(datos_df)\n",
    "listar_ventas_mensuales(ventas)"
   ]
  },
  {
   "cell_type": "markdown",
   "metadata": {},
   "source": [
    "### Ejercicio 7: Informe general\n",
    "\n",
    "Mostrar un listado de productos ordenados alfabeticamente que contengan el precio promedio, la cantidad de unidades vendidas y el importe total vendido para cada producto"
   ]
  },
  {
   "cell_type": "code",
   "execution_count": 63,
   "metadata": {},
   "outputs": [
    {
     "name": "stdout",
     "output_type": "stream",
     "text": [
      "Producto        Precio Promedio      Cantidad   Importe Total  \n",
      "------------------------------------------------------------\n",
      "\n",
      "-Coca Cola       $1,066.32               57.0     $60,780.00\n",
      "\n",
      "-Mirinda         $1,542.12               85.0     $131,080.00\n",
      "\n",
      "-Pepsi Cola      $1,241.69               89.0     $110,510.00\n",
      "\n",
      "-Sprite          $847.78                 72.0     $61,040.00\n",
      "\n",
      "-Torasso         $916.25                 32.0     $29,320.00\n",
      "\n",
      "------------------------------------------------------------\n"
     ]
    }
   ],
   "source": [
    "def resumen_ventas(df):\n",
    "    resumen = df.groupby('producto').agg(\n",
    "        total_cantidad=('cantidad', 'sum'),\n",
    "        total_importe=('precio', lambda x: (x * df.loc[x.index, 'cantidad']).sum()),\n",
    "        num_registros=('cantidad', 'count')\n",
    "    )\n",
    "    resumen['precio_promedio'] = resumen['total_importe'] / resumen['total_cantidad']\n",
    "    return resumen\n",
    "\n",
    "def informe_ventas(resumen):\n",
    "    informe = resumen.sort_index()\n",
    "    \n",
    "    print(f\"{'Producto':<15} {'Precio Promedio':<20} {'Cantidad':<10} {'Importe Total':<15}\")\n",
    "    print(f'-' * 60)\n",
    "    print()\n",
    "    for producto, datos in informe.iterrows():\n",
    "        print(f\"-{producto:<15} ${datos['precio_promedio']:<22,.2f} {datos['total_cantidad']:<8} ${datos['total_importe']:,.2f}\")\n",
    "        print()\n",
    "    print(f\"-\" * 60)\n",
    "\n",
    "resumen = resumen_ventas(datos_df)\n",
    "informe_ventas(resumen)"
   ]
  },
  {
   "cell_type": "markdown",
   "metadata": {},
   "source": [
    "## `Resolver usando NumPy`\n",
    "## Resolver el ejercicio 2 del tp1 usando NumPy"
   ]
  },
  {
   "cell_type": "markdown",
   "metadata": {},
   "source": [
    "### Ejercicio 8\n",
    "\n",
    "Escribe una función en Python que encuentre los valores de `a`, `b`, y `c` para que la función cuadrática `f(x) = a x^2 + b x + c` pase exactamente por los siguientes puntos:\n",
    "\n",
    "| x  | y  |\n",
    "|---:|---:|\n",
    "|  0 |  0 |\n",
    "|  1 |  8 |\n",
    "|  2 | 12 |\n",
    "|  3 | 12 |\n",
    "|  5 |  0 |\n",
    "\n",
    "### Requisitos:\n",
    "- La función debe explorar posibles valores de `a`, `b`, y `c` utilizando un método de prueba y error.\n",
    "- Debe devolver los valores que hagan que la diferencia entre la función `f(x)` y los valores medidos `y` sea exactamente cero para cada punto.\n",
    "\n",
    "> **Pista**: Los valores de `a`, `b`, y `c` son números pequeños.\n",
    "\n",
    "La idea es implementar el mismo algoritmo que se uso en el TP1 pero usando NumPy en lugar de Python puro."
   ]
  },
  {
   "cell_type": "code",
   "execution_count": 68,
   "metadata": {},
   "outputs": [
    {
     "name": "stdout",
     "output_type": "stream",
     "text": [
      "Valores encontrados: a = -2, b = 10, c = 0\n"
     ]
    }
   ],
   "source": [
    "import numpy as np\n",
    "\n",
    "puntos = np.array([(0, 0), (1, 8), (2, 12), (3, 12), (5, 0)])\n",
    "\n",
    "def f_cuadratica(a, b, c, x):\n",
    "    return a * x ** 2 + b * x + c\n",
    "\n",
    "x_vals = puntos[:, 0]\n",
    "y_real_vals = puntos[:, 1]\n",
    "\n",
    "for a in range(-10, 11):\n",
    "    for b in range(-10, 11):\n",
    "        for c in range(-10, 11):\n",
    "            y_calculado = f_cuadratica(a, b, c, x_vals)\n",
    "            if np.array_equal(y_calculado, y_real_vals):\n",
    "                print(f\"Valores encontrados: a = {a}, b = {b}, c = {c}\")"
   ]
  },
  {
   "cell_type": "markdown",
   "metadata": {},
   "source": [
    "### Ejercicio 9: Resolver el ejercicio 3 del TP1 usando NumPy\n",
    "Buscar los coeficientes de la función que minimice la suma de los cuadrados de las diferencias entre los valores medidos y los valores de la función.\n",
    "\n",
    "1. Crear un array con los coeficientes elegidos al azar (usar `randint(-10,10,3)`).\n",
    "2. Calcular el valor de la función y el error correspondiente.\n",
    "3. Mientras que el error sea mayor a 1:\n",
    "    1. Definir nuevos coeficientes agregándoles un pequeño valor al azar a los coeficientes actuales (aprendizaje = 0.001).\n",
    "    2. Si el error para los nuevos coeficientes es menor que el anterior, reemplazar los coeficientes actuales por los nuevos.\n"
   ]
  },
  {
   "cell_type": "code",
   "execution_count": 83,
   "metadata": {},
   "outputs": [
    {
     "name": "stdout",
     "output_type": "stream",
     "text": [
      "Coeficientes encontrados: [-1.79401811  9.02219284  0.60383085]\n"
     ]
    }
   ],
   "source": [
    "import numpy as np\n",
    "from numpy.random import randint, uniform\n",
    "\n",
    "def f(x, coeficientes):\n",
    "    a, b, c = coeficientes\n",
    "    return a * x ** 2 + b * x + c\n",
    "\n",
    "def error(y, y_pred):\n",
    "    return np.sum((y - y_pred) ** 2)\n",
    "\n",
    "def buscar_coeficientes():\n",
    "    X = np.array([0, 1, 2, 3, 5])\n",
    "    Y = np.array([0, 8, 12, 11, 1])\n",
    "    coeficientes = randint(-10, 10, 3)\n",
    "    y_pred = f(X, coeficientes)\n",
    "    error_actual = error(Y, y_pred)\n",
    "\n",
    "    aprendizaje = 0.1\n",
    "\n",
    "    while error_actual > 1:\n",
    "        nuevos_coeficientes = coeficientes + uniform(-aprendizaje, aprendizaje, 3)\n",
    "\n",
    "        y_pred_nueva = f(X, nuevos_coeficientes)\n",
    "        nuevo_error = error(Y, y_pred_nueva)\n",
    "\n",
    "        if nuevo_error < error_actual:\n",
    "            coeficientes = nuevos_coeficientes\n",
    "            error_actual = nuevo_error\n",
    "    return coeficientes\n",
    "\n",
    "coeficientes = buscar_coeficientes()\n",
    "print(\"Coeficientes encontrados:\", coeficientes)"
   ]
  }
 ],
 "metadata": {
  "kernelspec": {
   "display_name": "Python 3",
   "language": "python",
   "name": "python3"
  },
  "language_info": {
   "codemirror_mode": {
    "name": "ipython",
    "version": 3
   },
   "file_extension": ".py",
   "mimetype": "text/x-python",
   "name": "python",
   "nbconvert_exporter": "python",
   "pygments_lexer": "ipython3",
   "version": "3.12.5"
  }
 },
 "nbformat": 4,
 "nbformat_minor": 2
}
