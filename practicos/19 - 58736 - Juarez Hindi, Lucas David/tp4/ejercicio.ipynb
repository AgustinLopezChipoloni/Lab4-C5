{
 "cells": [
  {
   "cell_type": "markdown",
   "metadata": {},
   "source": [
    "# Simulación del Truco"
   ]
  },
  {
   "cell_type": "markdown",
   "metadata": {},
   "source": [
    "Las **cartas** deben registra el numero, palo y valor de la carta. \n",
    "El valor debe reflejar la jerarquía de las cartas en el juego del truco."
   ]
  },
  {
   "cell_type": "code",
   "execution_count": null,
   "metadata": {},
   "outputs": [],
   "source": []
  },
  {
   "cell_type": "code",
   "execution_count": 4,
   "metadata": {},
   "outputs": [],
   "source": [
    "def calcular_valor(numero, palo):\n",
    "    \n",
    "    valores_truco = {\n",
    "        1: 14,  \n",
    "        3: 13,  \n",
    "        12: 12,  \n",
    "        11: 11,  \n",
    "        10: 10,  \n",
    "        7: 7,    \n",
    "        6: 6,    \n",
    "        5: 5,    \n",
    "        4: 4,    \n",
    "        2: 2     \n",
    "    }\n",
    "    \n",
    "    return valores_truco.get(numero, 0)\n",
    "\n",
    "class Carta:\n",
    "    def __init__(self, numero, palo):\n",
    "        self.numero = numero\n",
    "        self.palo = palo\n",
    "        self.valor = calcular_valor(numero, palo)  # Calculamos el valor usando la función\n",
    "    \n",
    "    def __str__(self):\n",
    "        return f\"{self.numero} de {self.palo} (Valor: {self.valor})\"\n",
    "\n",
    "c = Carta(1, \"oros\")\n",
    "print(c)\n"
   ]
  },
  {
   "cell_type": "markdown",
   "metadata": {},
   "source": [
    "**Mazo**: Representan las cartas españolas de 1 al 12, en los palos de oro, copa, espada y basto.\n",
    "\n",
    "Debe existir una función que permita barajar las cartas.\n",
    "y otra función que permita repartir las cartas a los jugadores."
   ]
  },
  {
   "cell_type": "code",
   "execution_count": 5,
   "metadata": {},
   "outputs": [
    {
     "name": "stdout",
     "output_type": "stream",
     "text": [
      "None\n"
     ]
    }
   ],
   "source": [
    "import random\n",
    "\n",
    "class Mazo:\n",
    "    def __init__(self):\n",
    "\n",
    "        numeros = [1, 2, 3, 4, 5, 6, 7, 10, 11, 12]\n",
    "        palos = [\"oros\", \"copas\", \"espadas\", \"bastos\"]\n",
    "        \n",
    "        self.cartas = [Carta(numero, palo) for numero in numeros for palo in palos]\n",
    "\n",
    "    def mezclar(self):\n",
    "\n",
    "        random.shuffle(self.cartas)\n",
    "    \n",
    "    def repartir(self, cantidad):\n",
    "\n",
    "        return [self.cartas.pop() for _ in range(cantidad)]  \n",
    "\n",
    "\n",
    "m = Mazo()\n",
    "m.mezclar()\n",
    "cartas_repartidas = m.repartir(3)\n",
    "for carta in cartas_repartidas:\n",
    "    print(carta)\n"
   ]
  },
  {
   "cell_type": "markdown",
   "metadata": {},
   "source": [
    "**Jugador**: Deben tener un nombre y las cartas que tiene en la mano. Debe acumular los puntos ganados.\n",
    "\n",
    "Nota: Para simplificar el problema, el jugador elige la carta a jugar de forma aleatoria."
   ]
  },
  {
   "cell_type": "code",
   "execution_count": 6,
   "metadata": {},
   "outputs": [
    {
     "name": "stdout",
     "output_type": "stream",
     "text": [
      "None\n"
     ]
    }
   ],
   "source": [
    "import random\n",
    "\n",
    "class Jugador:\n",
    "    def __init__(self, nombre):\n",
    "        self.nombre = nombre         \n",
    "        self.mano = []               \n",
    "        self.puntos = 0              \n",
    "\n",
    "    def recibir_cartas(self, cartas):\n",
    "        self.mano = cartas\n",
    "\n",
    "    def jugar_carta(self):\n",
    "        carta_elegida = random.choice(self.mano)\n",
    "        self.mano.remove(carta_elegida)\n",
    "        return carta_elegida\n",
    "    \n",
    "    def __str__(self):\n",
    "        return f\"{self.nombre} (Puntos: {self.puntos})\"\n",
    "\n",
    "j = Jugador(\"Juan\")\n",
    "m = Mazo()      \n",
    "m.mezclar()     \n",
    "j.recibir_cartas(m.repartir(3))  \n",
    "print(j.jugar_carta())  \n"
   ]
  },
  {
   "cell_type": "markdown",
   "metadata": {},
   "source": [
    "**Partida**: Debe tener dos jugadores, un mazo de cartas y un puntaje. Debe permitir jugar una carta por ronda y definir el ganador de la ronda. Debe permitir jugar hasta que se terminen las cartas del mazo."
   ]
  },
  {
   "cell_type": "code",
   "execution_count": null,
   "metadata": {},
   "outputs": [],
   "source": [
    "class Partida:\n",
    "    def __init__(self, jugador1, jugador2):\n",
    "        self.jugador1 = jugador1    \n",
    "        self.jugador2 = jugador2    \n",
    "        self.mazo = Mazo()          \n",
    "        self.mazo.mezclar()         \n",
    "\n",
    "    def jugar_ronda(self):\n",
    "        carta_jugador1 = self.jugador1.jugar_carta()\n",
    "        carta_jugador2 = self.jugador2.jugar_carta()\n",
    "\n",
    "        print(f\"{self.jugador1.nombre} juega: {carta_jugador1}\")\n",
    "        print(f\"{self.jugador2.nombre} juega: {carta_jugador2}\")\n",
    "        \n",
    "        if carta_jugador1.valor > carta_jugador2.valor:\n",
    "            print(f\"Gana la ronda {self.jugador1.nombre}\")\n",
    "            self.jugador1.puntos += 1\n",
    "        elif carta_jugador1.valor < carta_jugador2.valor:\n",
    "            print(f\"Gana la ronda {self.jugador2.nombre}\")\n",
    "            self.jugador2.puntos += 1\n",
    "        else:\n",
    "            print(\"La ronda es un empate\")\n",
    "        \n",
    "        print(f\"Puntaje: {self.jugador1.nombre}: {self.jugador1.puntos}, {self.jugador2.nombre}: {self.jugador2.puntos}\")\n",
    "        print(\"-\" * 40)\n",
    "\n",
    "    def jugar(self):\n",
    "        while self.jugador1.puntos < 15 and self.jugador2.puntos < 15:\n",
    "            self.jugador1.recibir_cartas(self.mazo.repartir(3))\n",
    "            self.jugador2.recibir_cartas(self.mazo.repartir(3))\n",
    "            \n",
    "            for _ in range(3):\n",
    "                self.jugar_ronda()\n",
    "            \n",
    "            if len(self.mazo.cartas) < 6:\n",
    "                print(\"Se han terminado las cartas del mazo\")\n",
    "                break\n",
    "\n",
    "        if self.jugador1.puntos >= 15:\n",
    "            print(f\"{self.jugador1.nombre} ha ganado la partida!\")\n",
    "        elif self.jugador2.puntos >= 15:\n",
    "            print(f\"{self.jugador2.nombre} ha ganado la partida!\")\n",
    "        else:\n",
    "            print(\"El juego terminó sin un ganador.\")\n",
    "\n",
    "\n",
    "p = Partida(Jugador(\"Juan\"), Jugador(\"Pedro\"))\n",
    "p.jugar()\n"
   ]
  }
 ],
 "metadata": {
  "kernelspec": {
   "display_name": "Python 3",
   "language": "python",
   "name": "python3"
  },
  "language_info": {
   "codemirror_mode": {
    "name": "ipython",
    "version": 3
   },
   "file_extension": ".py",
   "mimetype": "text/x-python",
   "name": "python",
   "nbconvert_exporter": "python",
   "pygments_lexer": "ipython3",
   "version": "3.12.5"
  }
 },
 "nbformat": 4,
 "nbformat_minor": 2
}
