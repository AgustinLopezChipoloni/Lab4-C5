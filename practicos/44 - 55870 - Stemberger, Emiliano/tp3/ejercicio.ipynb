{
 "cells": [
  {
   "cell_type": "markdown",
   "metadata": {},
   "source": [
    "#TP3"
   ]
  },
  {
   "cell_type": "markdown",
   "metadata": {},
   "source": [
    "## Ejercicio 1: Cargar Datos de ventas.\n",
    "\n",
    "El archivo datos.dat contiene el registro de las ventas realizadas.\n",
    "\n",
    "Tiene un formato de ancho fijo:\n",
    "- fecha:    10 lugares\n",
    "- producto: 30 lugares\n",
    "- precio:   10 lugares\n",
    "- cantidad:  5 lugares\n",
    "\n",
    "hacer una funcion que carge los en una lista de diccionarios. \n",
    "\n",
    "nota: con \n",
    "```python\n",
    "lineas = open(\"datos.dat\", \"r\").readlines() \n",
    "```\n",
    "puede obtener la lista de string de todos los datos "
   ]
  },
  {
   "cell_type": "code",
   "execution_count": 90,
   "metadata": {},
   "outputs": [
    {
     "name": "stdout",
     "output_type": "stream",
     "text": [
      "{'fecha': '2024-08-27', 'producto': 'Mirinda', 'precio': 1510.0, 'cantidad': 14}\n",
      "{'fecha': '2024-08-27', 'producto': 'Mirinda', 'precio': 1560.0, 'cantidad': 12}\n",
      "{'fecha': '2024-08-28', 'producto': 'Torasso', 'precio': 940.0, 'cantidad': 8}\n",
      "{'fecha': '2024-08-29', 'producto': 'Pepsi Cola', 'precio': 1210.0, 'cantidad': 10}\n",
      "{'fecha': '2024-08-30', 'producto': 'Mirinda', 'precio': 1520.0, 'cantidad': 1}\n",
      "{'fecha': '2024-09-01', 'producto': 'Mirinda', 'precio': 1550.0, 'cantidad': 15}\n",
      "{'fecha': '2024-09-01', 'producto': 'Sprite', 'precio': 810.0, 'cantidad': 4}\n",
      "{'fecha': '2024-09-02', 'producto': 'Coca Cola', 'precio': 1100.0, 'cantidad': 4}\n",
      "{'fecha': '2024-09-02', 'producto': 'Pepsi Cola', 'precio': 1220.0, 'cantidad': 13}\n",
      "{'fecha': '2024-09-02', 'producto': 'Torasso', 'precio': 910.0, 'cantidad': 5}\n",
      "{'fecha': '2024-09-02', 'producto': 'Torasso', 'precio': 920.0, 'cantidad': 3}\n",
      "{'fecha': '2024-09-03', 'producto': 'Coca Cola', 'precio': 1020.0, 'cantidad': 8}\n",
      "{'fecha': '2024-09-03', 'producto': 'Mirinda', 'precio': 1570.0, 'cantidad': 7}\n",
      "{'fecha': '2024-09-03', 'producto': 'Mirinda', 'precio': 1590.0, 'cantidad': 2}\n",
      "{'fecha': '2024-09-04', 'producto': 'Pepsi Cola', 'precio': 1220.0, 'cantidad': 13}\n",
      "{'fecha': '2024-09-05', 'producto': 'Mirinda', 'precio': 1500.0, 'cantidad': 3}\n",
      "{'fecha': '2024-09-05', 'producto': 'Pepsi Cola', 'precio': 1300.0, 'cantidad': 5}\n",
      "{'fecha': '2024-09-06', 'producto': 'Coca Cola', 'precio': 1080.0, 'cantidad': 1}\n",
      "{'fecha': '2024-09-06', 'producto': 'Sprite', 'precio': 860.0, 'cantidad': 12}\n",
      "{'fecha': '2024-09-06', 'producto': 'Torasso', 'precio': 930.0, 'cantidad': 3}\n",
      "{'fecha': '2024-09-07', 'producto': 'Coca Cola', 'precio': 1080.0, 'cantidad': 14}\n",
      "{'fecha': '2024-09-07', 'producto': 'Sprite', 'precio': 870.0, 'cantidad': 13}\n",
      "{'fecha': '2024-09-08', 'producto': 'Coca Cola', 'precio': 1040.0, 'cantidad': 10}\n",
      "{'fecha': '2024-09-08', 'producto': 'Mirinda', 'precio': 1580.0, 'cantidad': 2}\n",
      "{'fecha': '2024-09-08', 'producto': 'Pepsi Cola', 'precio': 1240.0, 'cantidad': 9}\n",
      "{'fecha': '2024-09-09', 'producto': 'Mirinda', 'precio': 1500.0, 'cantidad': 3}\n",
      "{'fecha': '2024-09-09', 'producto': 'Sprite', 'precio': 850.0, 'cantidad': 9}\n",
      "{'fecha': '2024-09-10', 'producto': 'Mirinda', 'precio': 1590.0, 'cantidad': 8}\n",
      "{'fecha': '2024-09-10', 'producto': 'Pepsi Cola', 'precio': 1250.0, 'cantidad': 12}\n",
      "{'fecha': '2024-09-11', 'producto': 'Sprite', 'precio': 810.0, 'cantidad': 6}\n",
      "{'fecha': '2024-09-11', 'producto': 'Sprite', 'precio': 820.0, 'cantidad': 14}\n",
      "{'fecha': '2024-09-12', 'producto': 'Coca Cola', 'precio': 1080.0, 'cantidad': 4}\n",
      "{'fecha': '2024-09-13', 'producto': 'Mirinda', 'precio': 1580.0, 'cantidad': 5}\n",
      "{'fecha': '2024-09-13', 'producto': 'Pepsi Cola', 'precio': 1250.0, 'cantidad': 13}\n",
      "{'fecha': '2024-09-14', 'producto': 'Coca Cola', 'precio': 1080.0, 'cantidad': 15}\n",
      "{'fecha': '2024-09-14', 'producto': 'Pepsi Cola', 'precio': 1270.0, 'cantidad': 14}\n",
      "{'fecha': '2024-09-15', 'producto': 'Coca Cola', 'precio': 1100.0, 'cantidad': 1}\n",
      "{'fecha': '2024-09-15', 'producto': 'Mirinda', 'precio': 1500.0, 'cantidad': 13}\n",
      "{'fecha': '2024-09-15', 'producto': 'Sprite', 'precio': 870.0, 'cantidad': 14}\n",
      "{'fecha': '2024-09-15', 'producto': 'Torasso', 'precio': 900.0, 'cantidad': 13}\n"
     ]
    }
   ],
   "source": [
    "def cargar_datos():\n",
    "    ventas = []\n",
    "    field_info = {\n",
    "        'fecha': 10,\n",
    "        'producto': 30,\n",
    "        'precio': 10,\n",
    "        'cantidad': 5\n",
    "    }\n",
    "\n",
    "    with open('datos.dat', 'r') as archivo:\n",
    "        for linea in archivo:\n",
    "            inicio = 0\n",
    "            registro = {}\n",
    "            for campo, ancho in field_info.items():\n",
    "                final = inicio + ancho\n",
    "                dato = linea[inicio:final].strip()\n",
    "                \n",
    "                if campo == 'precio':\n",
    "                    dato = float(dato)\n",
    "                elif campo == 'cantidad':\n",
    "                    dato = int(dato)\n",
    "                    \n",
    "                registro[campo] = dato\n",
    "                inicio = final\n",
    "            ventas.append(registro)\n",
    "    \n",
    "    return ventas\n",
    "\n",
    "datos = cargar_datos()\n",
    "for item in datos:\n",
    "    print(f'{item}')"
   ]
  },
  {
   "cell_type": "markdown",
   "metadata": {},
   "source": [
    "## Ejercicio 2: Calcular el total de ventas.\n",
    "\n",
    "Hacer una funcion que sume los importes vendidos (precio * cantidad) y las cantidades"
   ]
  },
  {
   "cell_type": "code",
   "execution_count": 91,
   "metadata": {},
   "outputs": [
    {
     "name": "stdout",
     "output_type": "stream",
     "text": [
      "Las ventas fueron de $392,730.00 en 335 unidades\n"
     ]
    }
   ],
   "source": [
    "def calcular_totales(datos):\n",
    "    total_precio = 0\n",
    "    total_cantidad = 0\n",
    "\n",
    "    for registro in datos:\n",
    "        precio_por_cantidad = registro['precio'] * registro['cantidad']\n",
    "        total_precio += precio_por_cantidad\n",
    "        total_cantidad += registro['cantidad']\n",
    "\n",
    "    return total_precio, total_cantidad\n",
    "\n",
    "importe, cantidad = calcular_totales(datos)\n",
    "\n",
    "print(f\"Las ventas fueron de ${importe:,.2f} en {cantidad} unidades\")"
   ]
  },
  {
   "cell_type": "markdown",
   "metadata": {},
   "source": [
    "## Ejercicio 3: Listar las unidades vendidas.\n",
    "\n",
    "Listar cuantas unidades se vendieron en total para cada producto"
   ]
  },
  {
   "cell_type": "code",
   "execution_count": 92,
   "metadata": {},
   "outputs": [
    {
     "name": "stdout",
     "output_type": "stream",
     "text": [
      "Producto: Mirinda, Unidades vendidas: 85\n",
      "Producto: Torasso, Unidades vendidas: 32\n",
      "Producto: Pepsi Cola, Unidades vendidas: 89\n",
      "Producto: Sprite, Unidades vendidas: 72\n",
      "Producto: Coca Cola, Unidades vendidas: 57\n"
     ]
    }
   ],
   "source": [
    "def unidades_vendidas(datos):\n",
    "    ventas_por_producto = {}\n",
    "    \n",
    "    for venta in datos:\n",
    "        producto = venta['producto']\n",
    "        cantidad = venta['cantidad']\n",
    "        \n",
    "        if producto in ventas_por_producto:\n",
    "            ventas_por_producto[producto] += cantidad\n",
    "        else:       \n",
    "            ventas_por_producto[producto] = cantidad\n",
    "    \n",
    "    return ventas_por_producto\n",
    "def listar_ventas(datos):\n",
    "    for producto, cantidad in ventas.items():\n",
    "        print(f\"Producto: {producto}, Unidades vendidas: {cantidad}\")\n",
    "\n",
    "ventas = unidades_vendidas(datos)\n",
    "listar_ventas(ventas)\n"
   ]
  },
  {
   "cell_type": "markdown",
   "metadata": {},
   "source": [
    "##  Ejercicio 4: Listar el precio promedio por producto.\n",
    "\n",
    "Hacer un listado del precio promedio por productos."
   ]
  },
  {
   "cell_type": "code",
   "execution_count": 93,
   "metadata": {},
   "outputs": [
    {
     "name": "stdout",
     "output_type": "stream",
     "text": [
      "Producto: Mirinda, Precio promedio: $1542.12\n",
      "Producto: Torasso, Precio promedio: $916.25\n",
      "Producto: Pepsi Cola, Precio promedio: $1241.69\n",
      "Producto: Sprite, Precio promedio: $847.78\n",
      "Producto: Coca Cola, Precio promedio: $1066.32\n"
     ]
    }
   ],
   "source": [
    "def precio_promedio(datos):\n",
    "    precios_por_producto = {}\n",
    "    cantidades_por_producto = {}\n",
    "    \n",
    "    for venta in datos:\n",
    "        producto = venta['producto']\n",
    "        precio = venta['precio']\n",
    "        cantidad = venta['cantidad']\n",
    "        \n",
    "        if producto in precios_por_producto:\n",
    "            precios_por_producto[producto] += precio * cantidad\n",
    "            cantidades_por_producto[producto] += cantidad\n",
    "        else:\n",
    "            \n",
    "            precios_por_producto[producto] = precio * cantidad\n",
    "            cantidades_por_producto[producto] = cantidad\n",
    "\n",
    "    promedios = {producto: precios_por_producto[producto] / cantidades_por_producto[producto] \n",
    "            for producto in precios_por_producto}\n",
    "    \n",
    "    return promedios\n",
    "\n",
    "def listar_precios(datos):\n",
    "    for producto, precio_prom in precios.items():\n",
    "        print(f\"Producto: {producto}, Precio promedio: ${precio_prom:.2f}\")\n",
    "\n",
    "precios = precio_promedio(datos)\n",
    "listar_precios(precios)"
   ]
  },
  {
   "cell_type": "markdown",
   "metadata": {},
   "source": [
    "### Ejercicio 5: Ranking de productos\n",
    "\n",
    "Realizar un listado de los 3 productos mas vendidos ordenados la cantidad de unidades vendidas (ordenadas de mayor a menor)\n"
   ]
  },
  {
   "cell_type": "code",
   "execution_count": 94,
   "metadata": {},
   "outputs": [
    {
     "name": "stdout",
     "output_type": "stream",
     "text": [
      "Ranking de productos más vendidos:\n",
      "1. Pepsi Cola: 89 unidades\n",
      "2. Mirinda: 85 unidades\n",
      "3. Sprite: 72 unidades\n"
     ]
    }
   ],
   "source": [
    "def ranking_productos(datos, top=3):\n",
    "    ventas_totales = {}\n",
    "    \n",
    "    for venta in datos:\n",
    "        producto = venta['producto']\n",
    "        cantidad = venta['cantidad']\n",
    "        \n",
    "        if producto in ventas_totales:\n",
    "            ventas_totales[producto] += cantidad\n",
    "        else:\n",
    "            ventas_totales[producto] = cantidad\n",
    "    \n",
    "    ranking = sorted(ventas_totales.items(), key=lambda x: x[1], reverse=True)\n",
    "\n",
    "    return ranking[:top]\n",
    "\n",
    "def listar_ranking(ranking):\n",
    "    print(\"Ranking de productos más vendidos:\")\n",
    "    for i, (producto, cantidad) in enumerate(ranking, 1):\n",
    "        print(f\"{i}. {producto}: {cantidad} unidades\")\n",
    "\n",
    "ranking = ranking_productos(datos)\n",
    "listar_ranking(ranking)"
   ]
  },
  {
   "cell_type": "markdown",
   "metadata": {},
   "source": [
    "### Ejercicio 6: Listar las ventas por mes\n",
    "\n",
    "Realizar un listado del total de unidades vendidas por productos separada por mes."
   ]
  },
  {
   "cell_type": "code",
   "execution_count": 95,
   "metadata": {},
   "outputs": [
    {
     "name": "stdout",
     "output_type": "stream",
     "text": [
      "Producto: Mirinda\n",
      "  Mes: 2024-08, Unidades vendidas: 27\n",
      "  Mes: 2024-09, Unidades vendidas: 58\n",
      "Producto: Torasso\n",
      "  Mes: 2024-08, Unidades vendidas: 8\n",
      "  Mes: 2024-09, Unidades vendidas: 24\n",
      "Producto: Pepsi Cola\n",
      "  Mes: 2024-08, Unidades vendidas: 10\n",
      "  Mes: 2024-09, Unidades vendidas: 79\n",
      "Producto: Sprite\n",
      "  Mes: 2024-09, Unidades vendidas: 72\n",
      "Producto: Coca Cola\n",
      "  Mes: 2024-09, Unidades vendidas: 57\n"
     ]
    }
   ],
   "source": [
    "def ventas_por_mes(datos):\n",
    "    ventas_mensuales = {}\n",
    "\n",
    "    for registro in datos:\n",
    "        producto = registro[\"producto\"]  \n",
    "        cantidad = int(registro[\"cantidad\"])  \n",
    "        fecha = registro[\"fecha\"]  \n",
    "        mes = fecha[:7]  \n",
    "\n",
    "\n",
    "        if producto not in ventas_mensuales:\n",
    "            ventas_mensuales[producto] = {}\n",
    "\n",
    "\n",
    "        if mes not in ventas_mensuales[producto]:\n",
    "            ventas_mensuales[producto][mes] = 0\n",
    "\n",
    "\n",
    "        ventas_mensuales[producto][mes] += cantidad\n",
    "\n",
    "    return ventas_mensuales\n",
    "\n",
    "def listar_ventas_mensuales(ventas):\n",
    "    for producto, ventas_por_mes in ventas.items():\n",
    "        print(f\"Producto: {producto}\")\n",
    "        for mes, cantidad in ventas_por_mes.items():\n",
    "            print(f\"  Mes: {mes}, Unidades vendidas: {cantidad}\")\n",
    "\n",
    "ventas = ventas_por_mes(datos)\n",
    "listar_ventas_mensuales(ventas)"
   ]
  },
  {
   "cell_type": "markdown",
   "metadata": {},
   "source": [
    "### Ejercicio 7: Informe general\n",
    "\n",
    "Mostrar un listado de productos ordenados alfabeticamente que contengan el precio promedio, la cantidad de unidades vendidas y el importe total vendido para cada producto"
   ]
  },
  {
   "cell_type": "code",
   "execution_count": 96,
   "metadata": {},
   "outputs": [
    {
     "name": "stdout",
     "output_type": "stream",
     "text": [
      "Producto: Coca Cola\n",
      "  Precio promedio: 1066.32\n",
      "  Total unidades vendidas: 57\n",
      "  Importe total vendido: 60780.00\n",
      "Producto: Mirinda\n",
      "  Precio promedio: 1542.12\n",
      "  Total unidades vendidas: 85\n",
      "  Importe total vendido: 131080.00\n",
      "Producto: Pepsi Cola\n",
      "  Precio promedio: 1241.69\n",
      "  Total unidades vendidas: 89\n",
      "  Importe total vendido: 110510.00\n",
      "Producto: Sprite\n",
      "  Precio promedio: 847.78\n",
      "  Total unidades vendidas: 72\n",
      "  Importe total vendido: 61040.00\n",
      "Producto: Torasso\n",
      "  Precio promedio: 916.25\n",
      "  Total unidades vendidas: 32\n",
      "  Importe total vendido: 29320.00\n"
     ]
    }
   ],
   "source": [
    "def resumen_ventas(datos):\n",
    "    resumen_por_producto = {}\n",
    "\n",
    "    for registro in datos:\n",
    "        producto = registro[\"producto\"]  \n",
    "        precio = float(registro[\"precio\"]) \n",
    "        cantidad = int(registro[\"cantidad\"])\n",
    "\n",
    "\n",
    "        if producto not in resumen_por_producto:\n",
    "            resumen_por_producto[producto] = {\"total_precio\": 0, \"total_cantidad\": 0, \"ventas_totales\": 0}\n",
    "\n",
    "\n",
    "        resumen_por_producto[producto][\"total_precio\"] += precio * cantidad \n",
    "        resumen_por_producto[producto][\"total_cantidad\"] += cantidad\n",
    "        resumen_por_producto[producto][\"ventas_totales\"] += cantidad * precio  \n",
    "\n",
    "\n",
    "    for producto, datos in resumen_por_producto.items():\n",
    "        datos[\"precio_promedio\"] = datos[\"total_precio\"] / datos[\"total_cantidad\"]\n",
    "\n",
    "    return resumen_por_producto\n",
    "\n",
    "def informe_ventas(datos):\n",
    "    productos_ordenados = sorted(resumen.items())\n",
    "\n",
    "    \n",
    "    for producto, datos in productos_ordenados:\n",
    "        print(f\"Producto: {producto}\")\n",
    "        print(f\"  Precio promedio: {datos['precio_promedio']:.2f}\")\n",
    "        print(f\"  Total unidades vendidas: {datos['total_cantidad']}\")\n",
    "        print(f\"  Importe total vendido: {datos['ventas_totales']:.2f}\")\n",
    "\n",
    "resumen = resumen_ventas(datos)\n",
    "informe_ventas(resumen)\n"
   ]
  }
 ],
 "metadata": {
  "kernelspec": {
   "display_name": "Python 3",
   "language": "python",
   "name": "python3"
  },
  "language_info": {
   "codemirror_mode": {
    "name": "ipython",
    "version": 3
   },
   "file_extension": ".py",
   "mimetype": "text/x-python",
   "name": "python",
   "nbconvert_exporter": "python",
   "pygments_lexer": "ipython3",
   "version": "3.12.7"
  }
 },
 "nbformat": 4,
 "nbformat_minor": 2
}
