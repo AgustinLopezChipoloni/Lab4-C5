{
 "cells": [
  {
   "cell_type": "markdown",
   "metadata": {},
   "source": [
    "# Trabajo práctico 1\n",
    "\n"
   ]
  },
  {
   "cell_type": "markdown",
   "metadata": {},
   "source": [
    "## Ejercicio 1 \n",
    "\n",
    "Escribe una función en Python que procese una lista de cadenas de texto y realice las siguientes acciones:\n",
    "\n",
    "1. Tomar una lista de frases y convertir cada frase en una lista de palabras.\n",
    "1. Luego, debe crear una nueva lista que contenga la cantidad de palabras en cada frase.\n",
    "1. Tambien debe crear un lista que contenga la cantidad de caracteres en cada frase.\n",
    "1. Finalmente, debe imprimir cada frase original junto con la cantidad de palabras que contiene.\n",
    "Ejemplo de uso:\n",
    "```python\n",
    "    frases = [\n",
    "        \"Python es un lenguaje de programación\",\n",
    "        \"Me gusta resolver problemas con código\",\n",
    "        \"Las listas y los bucles son muy útiles\"\n",
    "    ]\n",
    "\n",
    "    procesar_frases(frases)\n",
    "```\n",
    "\n",
    "ejemplo de salida:\n",
    "```bash\n",
    "    La frase: \"Python es un...\"\n",
    "    tiene 6 palabras y 38 caracteres\n",
    "```\n"
   ]
  },
  {
   "cell_type": "code",
   "execution_count": 4,
   "metadata": {},
   "outputs": [
    {
     "name": "stdout",
     "output_type": "stream",
     "text": [
      "La frase Python es un lenguaje de programación\n",
      "Tiene 6 palabas y 37 caracteres\n",
      "La frase Me gusta resolver problemas con código\n",
      "Tiene 6 palabas y 38 caracteres\n",
      "La frase Las listas y los bucles son muy utiles\n",
      "Tiene 8 palabas y 38 caracteres\n"
     ]
    }
   ],
   "source": [
    "frases=[\"Python es un lenguaje de programación\",\n",
    "        \"Me gusta resolver problemas con código\",\n",
    "        \"Las listas y los bucles son muy utiles\"    \n",
    "    ]\n",
    "lista_palabras= [ ]\n",
    "for frase in frases:\n",
    "    lista_palabras.append(frase.split())\n",
    "\n",
    "cantidad_caracteres = [ ]\n",
    "for caracter in frases:\n",
    "    cantidad_caracteres.append(len(caracter))\n",
    "\n",
    "cantidad_palabras=[ ]\n",
    "for palabra in lista_palabras:\n",
    "    cantidad_palabras.append(len(palabra))\n",
    "\n",
    "def imprimir():\n",
    "    for i,frase in enumerate(frases):\n",
    "        print(f'La frase {frase}')\n",
    "        print(f'Tiene {cantidad_palabras[i]} palabas y {cantidad_caracteres[i]} caracteres')\n",
    "\n",
    "\n",
    "imprimir()"
   ]
  },
  {
   "cell_type": "markdown",
   "metadata": {},
   "source": [
    "## Ejercicio 2\n",
    "\n",
    "Escribe una función en Python que encuentre los valores de `a`, `b`, y `c` para que la función cuadrática `f(x) = aX^2 + bX + c` pase exactamente por los siguientes puntos:\n",
    "\n",
    "| x  | y  |\n",
    "|---:|---:|\n",
    "|  0 |  0 |\n",
    "|  1 |  8 |\n",
    "|  2 | 12 |\n",
    "|  3 | 12 |\n",
    "|  5 |  0 |\n",
    "\n",
    "### Requisitos:\n",
    "- La función debe explorar posibles valores de `a`, `b`, y `c` utilizando un método de prueba y error.\n",
    "- Debe devolver los valores que hagan que la diferencia entre la función `f(x)` y los valores medidos `y` sea exactamente cero para cada punto.\n",
    "\n",
    "> **Pista**: Los valores de `a`, `b`, y `c` son números pequeños."
   ]
  },
  {
   "cell_type": "code",
   "execution_count": 1,
   "metadata": {},
   "outputs": [
    {
     "name": "stdout",
     "output_type": "stream",
     "text": [
      "Solución encontrada a = -2.0, b = 10.0, c = -0.5\n"
     ]
    }
   ],
   "source": [
    "import numpy as np\n",
    "\n",
    "puntos_x = [0, 1, 2, 3, 5]\n",
    "puntos_y = [0, 8, 12, 12, 0]\n",
    "\n",
    "def evaluar_funcion(a, b, c, x):\n",
    "    return a * x**2 + b * x + c\n",
    "\n",
    "rango = np.arange(-12, 12, 0.5)  \n",
    "\n",
    "contador = 0\n",
    "\n",
    "for a in rango:\n",
    "    for b in rango:\n",
    "        for c in rango:\n",
    "            contador += 1    \n",
    "\n",
    "            solucion = True  \n",
    "                \n",
    "            for i in range(len(puntos_x)):\n",
    "                x = puntos_x[i]\n",
    "                y_esperado = puntos_y[i]\n",
    "                y_calculado = evaluar_funcion(a, b, c, x)\n",
    "                       \n",
    "                if abs(y_calculado - y_esperado) > 0.5: \n",
    "                    solucion = False\n",
    "                    break \n",
    "        \n",
    "            if solucion:\n",
    "                print(f\"Solución encontrada a = {a}, b = {b}, c = {c}\")\n",
    "                break\n",
    "        if solucion:\n",
    "            break\n",
    "    if solucion:\n",
    "        break\n",
    "\n"
   ]
  }
 ],
 "metadata": {
  "kernelspec": {
   "display_name": "Python 3",
   "language": "python",
   "name": "python3"
  },
  "language_info": {
   "codemirror_mode": {
    "name": "ipython",
    "version": 3
   },
   "file_extension": ".py",
   "mimetype": "text/x-python",
   "name": "python",
   "nbconvert_exporter": "python",
   "pygments_lexer": "ipython3",
   "version": "3.13.0"
  }
 },
 "nbformat": 4,
 "nbformat_minor": 2
}
