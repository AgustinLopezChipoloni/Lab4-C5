{
 "cells": [
  {
   "cell_type": "markdown",
   "metadata": {},
   "source": [
    "# Simulación del Truco"
   ]
  },
  {
   "cell_type": "markdown",
   "metadata": {},
   "source": [
    "Las **cartas** deben registra el numero, palo y valor de la carta. \n",
    "El valor debe reflejar la jerarquía de las cartas en el juego del truco."
   ]
  },
  {
   "cell_type": "code",
   "execution_count": 12,
   "metadata": {},
   "outputs": [
    {
     "name": "stdout",
     "output_type": "stream",
     "text": [
      "cartas registradas\n"
     ]
    }
   ],
   "source": [
    "def calcular_valor(numero, palo):\n",
    "   jerarquia = {\n",
    "        (1,\"espada\"):14,\n",
    "        (1,\"basto\"):13,\n",
    "        (7,\"espada\"):12,\n",
    "        (7,\"oro\"):11,\n",
    "        (3,\"oro\"):10,(3,\"espada\"):10,(3,\"basto\"):10,(3,\"copa\"):10,\n",
    "        (2,\"oro\"):9,(2,\"espada\"):9,(2,\"basto\"):9,(2,\"copa\"):9,\n",
    "        (1,\"oro\"):8,(1,\"copa\"):8,\n",
    "        (12,\"oro\"):7,(12,\"espada\"):7,(12,\"basto\"):7,(12,\"copa\"):7,\n",
    "        (11,\"oro\"):6,(11,\"espada\"):6,(11,\"basto\"):6,(11,\"copa\"):6,\n",
    "        (10,\"oro\"):5,(10,\"espada\"):5,(10,\"basto\"):5,(10,\"copa\"):5,\n",
    "        (7,\"basto\"):4,(7,\"copa\"):4,\n",
    "        (6,\"oro\"):3,(6,\"espada\"):3,(6,\"basto\"):3,(6,\"copa\"):3,\n",
    "        (5,\"oro\"):2,(5,\"espada\"):2,(5,\"basto\"):2,(5,\"copa\"):2,\n",
    "        (4,\"oro\"):1,(4,\"espada\"):1,(4,\"basto\"):1,(4,\"copa\"):1,\n",
    "}\n",
    "   return jerarquia.get((numero,palo),0)\n",
    "class Carta:\n",
    "    def __init__(self, numero, palo):\n",
    "        self.numero = numero\n",
    "        self.palo = palo\n",
    "        self.valor = calcular_valor(numero,palo)\n",
    "    def __repr__(self):\n",
    "        return f\"{self.numero} de {self.palo} (Valor: {self.valor})\"\n",
    "\n",
    "c = Carta(1, \"oro\")\n",
    "print(\"cartas registradas\")"
   ]
  },
  {
   "cell_type": "markdown",
   "metadata": {},
   "source": [
    "**Mazo**: Representan las cartas españolas de 1 al 12, en los palos de oro, copa, espada y basto.\n",
    "\n",
    "Debe existir una función que permita barajar las cartas.\n",
    "y otra función que permita repartir las cartas a los jugadores."
   ]
  },
  {
   "cell_type": "code",
   "execution_count": 13,
   "metadata": {},
   "outputs": [
    {
     "name": "stdout",
     "output_type": "stream",
     "text": [
      "[2 de espada (Valor: 9), 1 de basto (Valor: 13), 3 de copa (Valor: 10)]\n"
     ]
    }
   ],
   "source": [
    "import random\n",
    "\n",
    "class Mazo:\n",
    "    def __init__(self):\n",
    "        palos = [\"oro\", \"copa\", \"espada\", \"basto\"]\n",
    "        numeros = list(range(1, 13)) \n",
    "        self.cartas = [Carta(numero, palo) for numero in numeros for palo in palos]\n",
    "    def mezclar(self):\n",
    "         random.shuffle(self.cartas)\n",
    "    def repartir(self, cantidad):\n",
    "        cartas_repartidas = self.cartas[:cantidad]\n",
    "        self.cartas = self.cartas[cantidad:]  \n",
    "        return cartas_repartidas\n",
    "\n",
    "m = Mazo()\n",
    "m.mezclar()\n",
    "print(m.repartir(3))"
   ]
  },
  {
   "cell_type": "markdown",
   "metadata": {},
   "source": [
    "**Jugador**: Deben tener un nombre y las cartas que tiene en la mano. Debe acumular los puntos ganados.\n",
    "\n",
    "Nota: Para simplificar el problema, el jugador elige la carta a jugar de forma aleatoria."
   ]
  },
  {
   "cell_type": "code",
   "execution_count": 14,
   "metadata": {},
   "outputs": [
    {
     "name": "stdout",
     "output_type": "stream",
     "text": [
      "2 de copa (Valor: 9)\n"
     ]
    }
   ],
   "source": [
    "class Jugador:\n",
    "    pass\n",
    "    def __init__(self, nombre):\n",
    "        self.nombre = nombre\n",
    "        self.cartas = []\n",
    "        self.puntos = 0\n",
    "    def recibir_cartas(self, cartas):\n",
    "        self.cartas = cartas\n",
    "    def jugar_carta(self):\n",
    "        carta_elegida = random.choice(self.cartas)\n",
    "        self.cartas.remove(carta_elegida) \n",
    "        return carta_elegida\n",
    "    def __repr__(self):\n",
    "        return f\"Jugador: {self.nombre}, Puntos: {self.puntos}\"\n",
    "j = Jugador(\"jose\")\n",
    "j.recibir_cartas(m.repartir(3))\n",
    "print(j.jugar_carta())"
   ]
  },
  {
   "cell_type": "markdown",
   "metadata": {},
   "source": [
    "**Partida**: Debe tener dos jugadores, un mazo de cartas y un puntaje. Debe permitir jugar una carta por ronda y definir el ganador de la ronda. Debe permitir jugar hasta que se terminen las cartas del mazo."
   ]
  },
  {
   "cell_type": "code",
   "execution_count": 15,
   "metadata": {},
   "outputs": [
    {
     "name": "stdout",
     "output_type": "stream",
     "text": [
      "Jose juega: 1 de basto (Valor: 13)\n",
      "Paulo juega: 9 de oro (Valor: 0)\n",
      "Jose gana la ronda\n",
      "Jose juega: 5 de basto (Valor: 2)\n",
      "Paulo juega: 4 de espada (Valor: 1)\n",
      "Jose gana la ronda\n",
      "Jose juega: 6 de copa (Valor: 3)\n",
      "Paulo juega: 11 de basto (Valor: 6)\n",
      "Paulo gana la ronda\n",
      "Puntaje: Jose: 2, Paulo: 1\n",
      "Jose juega: 2 de basto (Valor: 9)\n",
      "Paulo juega: 4 de basto (Valor: 1)\n",
      "Jose gana la ronda\n",
      "Jose juega: 10 de oro (Valor: 5)\n",
      "Paulo juega: 5 de oro (Valor: 2)\n",
      "Jose gana la ronda\n",
      "Jose juega: 11 de oro (Valor: 6)\n",
      "Paulo juega: 7 de basto (Valor: 4)\n",
      "Jose gana la ronda\n",
      "Puntaje: Jose: 5, Paulo: 1\n",
      "Jose juega: 3 de oro (Valor: 10)\n",
      "Paulo juega: 10 de espada (Valor: 5)\n",
      "Jose gana la ronda\n",
      "Jose juega: 12 de basto (Valor: 7)\n",
      "Paulo juega: 12 de espada (Valor: 7)\n",
      "Empate en la ronda\n",
      "Jose juega: 7 de copa (Valor: 4)\n",
      "Paulo juega: 3 de basto (Valor: 10)\n",
      "Paulo gana la ronda\n",
      "Puntaje: Jose: 6, Paulo: 2\n",
      "Jose juega: 2 de oro (Valor: 9)\n",
      "Paulo juega: 3 de copa (Valor: 10)\n",
      "Paulo gana la ronda\n",
      "Jose juega: 4 de oro (Valor: 1)\n",
      "Paulo juega: 1 de copa (Valor: 8)\n",
      "Paulo gana la ronda\n",
      "Jose juega: 7 de espada (Valor: 12)\n",
      "Paulo juega: 9 de espada (Valor: 0)\n",
      "Jose gana la ronda\n",
      "Puntaje: Jose: 7, Paulo: 4\n",
      "Jose juega: 6 de oro (Valor: 3)\n",
      "Paulo juega: 3 de espada (Valor: 10)\n",
      "Paulo gana la ronda\n",
      "Jose juega: 8 de espada (Valor: 0)\n",
      "Paulo juega: 8 de copa (Valor: 0)\n",
      "Empate en la ronda\n",
      "Jose juega: 8 de basto (Valor: 0)\n",
      "Paulo juega: 10 de copa (Valor: 5)\n",
      "Paulo gana la ronda\n",
      "Puntaje: Jose: 7, Paulo: 6\n",
      "Jose juega: 2 de espada (Valor: 9)\n",
      "Paulo juega: 8 de oro (Valor: 0)\n",
      "Jose gana la ronda\n",
      "Jose juega: 10 de basto (Valor: 5)\n",
      "Paulo juega: 1 de oro (Valor: 8)\n",
      "Paulo gana la ronda\n",
      "Jose juega: 11 de copa (Valor: 6)\n",
      "Paulo juega: 11 de espada (Valor: 6)\n",
      "Empate en la ronda\n",
      "Puntaje: Jose: 8, Paulo: 7\n",
      "Jose juega: 2 de copa (Valor: 9)\n",
      "Paulo juega: 6 de espada (Valor: 3)\n",
      "Jose gana la ronda\n",
      "Jose juega: 5 de copa (Valor: 2)\n",
      "Paulo juega: 9 de basto (Valor: 0)\n",
      "Jose gana la ronda\n",
      "Jose juega: 12 de oro (Valor: 7)\n",
      "Paulo juega: 6 de basto (Valor: 3)\n",
      "Jose gana la ronda\n",
      "Puntaje: Jose: 11, Paulo: 7\n",
      "Jose juega: 12 de copa (Valor: 7)\n",
      "Paulo juega: 1 de espada (Valor: 14)\n",
      "Paulo gana la ronda\n",
      "Jose juega: 7 de oro (Valor: 11)\n",
      "Paulo juega: 9 de copa (Valor: 0)\n",
      "Jose gana la ronda\n",
      "Jose juega: 4 de copa (Valor: 1)\n",
      "Paulo juega: 5 de espada (Valor: 2)\n",
      "Paulo gana la ronda\n",
      "Puntaje: Jose: 12, Paulo: 9\n",
      "Jose gana la partida!\n"
     ]
    }
   ],
   "source": [
    "class Partida:\n",
    "    def __init__(self, jugador1, jugador2):\n",
    "        self.jugador1 = jugador1\n",
    "        self.jugador2 = jugador2\n",
    "        self.mazo = Mazo()\n",
    "        self.mazo.mezclar()\n",
    "\n",
    "    def jugar_ronda(self):\n",
    "        carta_j1 = self.jugador1.jugar_carta()\n",
    "        carta_j2 = self.jugador2.jugar_carta()\n",
    "\n",
    "        print(f\"{self.jugador1.nombre} juega: {carta_j1}\")\n",
    "        print(f\"{self.jugador2.nombre} juega: {carta_j2}\")\n",
    "\n",
    "        if carta_j1.valor > carta_j2.valor:\n",
    "            print(f\"{self.jugador1.nombre} gana la ronda\")\n",
    "            self.jugador1.puntos += 1\n",
    "        elif carta_j2.valor > carta_j1.valor:\n",
    "            print(f\"{self.jugador2.nombre} gana la ronda\")\n",
    "            self.jugador2.puntos += 1\n",
    "        else:\n",
    "            print(\"Empate en la ronda\")\n",
    "\n",
    "    def jugar(self):\n",
    "        while len(self.mazo.cartas) >= 6:\n",
    "            \n",
    "            self.jugador1.recibir_cartas(self.mazo.repartir(3))\n",
    "            self.jugador2.recibir_cartas(self.mazo.repartir(3))\n",
    "\n",
    "            for _ in range(3):\n",
    "                self.jugar_ronda()\n",
    "\n",
    "            print(f\"Puntaje: {self.jugador1.nombre}: {self.jugador1.puntos}, {self.jugador2.nombre}: {self.jugador2.puntos}\")\n",
    "\n",
    "        if self.jugador1.puntos > self.jugador2.puntos:\n",
    "            print(f\"{self.jugador1.nombre} gana la partida!\")\n",
    "        elif self.jugador2.puntos > self.jugador1.puntos:\n",
    "            print(f\"{self.jugador2.nombre} gana la partida!\")\n",
    "        else:\n",
    "            print(\"La partida termina en empate\")\n",
    "\n",
    "p = Partida(Jugador(\"Jose\"), Jugador(\"Paulo\"))\n",
    "p.jugar()"
   ]
  }
 ],
 "metadata": {
  "kernelspec": {
   "display_name": "Python 3",
   "language": "python",
   "name": "python3"
  },
  "language_info": {
   "codemirror_mode": {
    "name": "ipython",
    "version": 3
   },
   "file_extension": ".py",
   "mimetype": "text/x-python",
   "name": "python",
   "nbconvert_exporter": "python",
   "pygments_lexer": "ipython3",
   "version": "3.12.5"
  }
 },
 "nbformat": 4,
 "nbformat_minor": 2
}
