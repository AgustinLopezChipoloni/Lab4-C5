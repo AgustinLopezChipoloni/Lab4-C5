{
 "cells": [
  {
   "cell_type": "markdown",
   "metadata": {},
   "source": [
    "# Simulación del Truco"
   ]
  },
  {
   "cell_type": "markdown",
   "metadata": {},
   "source": [
    "Las **cartas** deben registra el numero, palo y valor de la carta. \n",
    "El valor debe reflejar la jerarquía de las cartas en el juego del truco."
   ]
  },
  {
   "cell_type": "code",
   "execution_count": 2,
   "metadata": {},
   "outputs": [
    {
     "name": "stdout",
     "output_type": "stream",
     "text": [
      "1 de oro\n"
     ]
    }
   ],
   "source": [
    "def calcular_valor(numero, palo):\n",
    "    if numero == 1 and palo == \"espada\":\n",
    "        return 14\n",
    "    elif numero == 1 and palo == \"basto\":\n",
    "        return 13\n",
    "    elif numero == 7 and palo == \"espada\":\n",
    "        return 12\n",
    "    elif numero == 7 and palo == \"oro\":\n",
    "        return 11\n",
    "    elif numero == 3:\n",
    "        return 10\n",
    "    elif numero == 2:\n",
    "        return 9\n",
    "    elif numero == 1 and palo in [\"copa\", \"oro\"]:\n",
    "        return 8\n",
    "    elif numero == 12:\n",
    "        return 7\n",
    "    elif numero == 11:\n",
    "        return 6\n",
    "    elif numero == 10:\n",
    "        return 5\n",
    "    elif numero == 7 and palo in [\"basto\", \"copa\"]:\n",
    "        return 4\n",
    "    elif numero == 6:\n",
    "        return 3\n",
    "    elif numero == 5:\n",
    "        return 2\n",
    "    elif numero == 4:\n",
    "        return 1\n",
    "    else:\n",
    "        return 0\n",
    "        \n",
    "class Carta:\n",
    "    def __init__(self, numero, palo):\n",
    "        self.numero = numero\n",
    "        self.palo = palo\n",
    "        self.valor = calcular_valor(numero, palo)\n",
    "\n",
    "    def __str__(self):\n",
    "        return f\"{self.numero} de {self.palo}\"\n",
    "\n",
    "    def __repr__(self):\n",
    "        return self.__str__()\n",
    "\n",
    "c = Carta(1, \"oro\")\n",
    "print(c)"
   ]
  },
  {
   "cell_type": "markdown",
   "metadata": {},
   "source": [
    "**Mazo**: Representan las cartas españolas de 1 al 12, en los palos de oro, copa, espada y basto.\n",
    "\n",
    "Debe existir una función que permita barajar las cartas.\n",
    "y otra función que permita repartir las cartas a los jugadores."
   ]
  },
  {
   "cell_type": "code",
   "execution_count": 4,
   "metadata": {},
   "outputs": [
    {
     "name": "stdout",
     "output_type": "stream",
     "text": [
      "[10 de copa, 11 de copa, 10 de oro]\n"
     ]
    }
   ],
   "source": [
    "import random\n",
    "\n",
    "class Mazo:\n",
    "    def __init__(self):\n",
    "        palos = [\"oro\", \"copa\", \"espada\", \"basto\"]\n",
    "        numeros = [1, 2, 3, 4, 5, 6, 7, 10, 11, 12]\n",
    "\n",
    "        self.cartas = [Carta(numero, palo) for palo in palos for numero in numeros] \n",
    "        \n",
    "    def mezclar(self):\n",
    "\n",
    "        random.shuffle(self.cartas)\n",
    "        \n",
    "    def repartir(self, cantidad):\n",
    "\n",
    "        cartas_repartidas = self.cartas[:cantidad]\n",
    "        self.cartas = self.cartas[cantidad:]\n",
    "        return cartas_repartidas\n",
    "\n",
    "m = Mazo()\n",
    "m.mezclar()\n",
    "print(m.repartir(3))"
   ]
  },
  {
   "cell_type": "markdown",
   "metadata": {},
   "source": [
    "**Jugador**: Deben tener un nombre y las cartas que tiene en la mano. Debe acumular los puntos ganados.\n",
    "\n",
    "Nota: Para simplificar el problema, el jugador elige la carta a jugar de forma aleatoria."
   ]
  },
  {
   "cell_type": "code",
   "execution_count": 5,
   "metadata": {},
   "outputs": [
    {
     "name": "stdout",
     "output_type": "stream",
     "text": [
      "Cartas en la mano de Juan: ['6 de oro', '2 de basto', '5 de copa']\n",
      "cartas jugada: 6 de oro\n"
     ]
    }
   ],
   "source": [
    "class Jugador:\n",
    "    pass\n",
    "    def __init__(self, nombre):\n",
    "        self.nombre = nombre\n",
    "        self.mano = []\n",
    "        self.puntos = 0\n",
    "        \n",
    "    def recibir_cartas(self, cartas):\n",
    "        self.mano = cartas\n",
    "    \n",
    "    def jugar_carta(self):\n",
    "        if self.mano:\n",
    "            carta_jugada = self.mano.pop(0)\n",
    "            return carta_jugada\n",
    "        return None\n",
    "\n",
    "    def __str__(self):\n",
    "        return f\"Jugador {self.nombre} con {self.puntos} puntos\"\n",
    "\n",
    "j = Jugador(\"Juan\")\n",
    "j.recibir_cartas(m.repartir(3))\n",
    "print(f\"Cartas en la mano de {j.nombre}: {[str(carta) for carta in j.mano]}\")\n",
    "print(f\"cartas jugada: {j.jugar_carta()}\")"
   ]
  },
  {
   "cell_type": "markdown",
   "metadata": {},
   "source": [
    "**Partida**: Debe tener dos jugadores, un mazo de cartas y un puntaje. Debe permitir jugar una carta por ronda y definir el ganador de la ronda. Debe permitir jugar hasta que se terminen las cartas del mazo."
   ]
  },
  {
   "cell_type": "code",
   "execution_count": null,
   "metadata": {},
   "outputs": [],
   "source": [
    "class Partida:\n",
    "    def __init__(self, jugador1, jugador2):\n",
    "        self.jugador1 = jugador1\n",
    "        self.jugador2 = jugador2\n",
    "        self.mazo = Mazo()\n",
    "        self.puntos_jugador1 = 0\n",
    "        self.puntos_jugador2 = 0\n",
    "        \n",
    "    def jugar_ronda(self):\n",
    "        manos_ganadas_jugador1 = 0\n",
    "        manos_ganadas_jugador2 = 0\n",
    "\n",
    "        for _ in range(3):\n",
    "            carta_jugador1 = self.jugador1.jugar_carta()\n",
    "            carta_jugador2 = self.jugador2.jugar_carta()\n",
    "\n",
    "            if carta_jugador1 is None or carta_jugador2 is None:\n",
    "                return False\n",
    "\n",
    "            print(f\"{self.jugador1.nombre} juega: {carta_jugador1}\")\n",
    "            print(f\"{self.jugador2.nombre} juega: {carta_jugador2}\")\n",
    "\n",
    "            if carta_jugador1.valor > carta_jugador2.valor:\n",
    "                manos_ganadas_jugador1 +=1\n",
    "            elif carta_jugador1.valor < carta_jugador2.valor:\n",
    "                manos_ganadas_jugador2 += 1\n",
    "\n",
    "        if manos_ganadas_jugador1 > manos_ganadas_jugador2:\n",
    "            self.puntos_jugador1 += 1 \n",
    "            print(f\"{self.jugador1.nombre} gana la ronda!\")\n",
    "        elif manos_ganadas_jugador1 < manos_ganadas_jugador2:\n",
    "            self.puntos_jugador2 += 1\n",
    "            print(f\"{self.jugador2.nombre} gana la ronda!\")\n",
    "\n",
    "        print(f\"Puntos: {self.jugador1.nombre} {self.puntos_jugador1} - {self.jugador2.nombre} {self.puntos_jugador2}\\n\")\n",
    "        return True\n",
    "        \n",
    "    def jugar(self):\n",
    "        while self.puntos_jugador1 < 15 and self.puntos_jugador2 <15:\n",
    "            if len(self.mazo.cartas) < 6:\n",
    "                self.mazo = Mazo()\n",
    "                self.mazo.mezclar()\n",
    "\n",
    "            self.jugador1.recibir_cartas(self.mazo.repartir(3))\n",
    "            self.jugador2.recibir_cartas(self.mazo.repartir(3))\n",
    "\n",
    "            if not self.jugar_ronda():\n",
    "                break\n",
    "\n",
    "        if self.puntos_jugador1 == 15:\n",
    "            print(f\"{self.jugador1.nombre} Gana la partida con 15 puntos!\")\n",
    "        elif self.puntos_jugador2 == 15:\n",
    "            print(f\"{self.jugador2.nombre} Gana la partida con 15 puntos!\")\n",
    "\n",
    "p = Partida(Jugador(\"Juan\"), Jugador(\"Pedro\"))\n",
    "p.jugar()"
   ]
  }
 ],
 "metadata": {
  "kernelspec": {
   "display_name": "Python 3 (ipykernel)",
   "language": "python",
   "name": "python3"
  },
  "language_info": {
   "codemirror_mode": {
    "name": "ipython",
    "version": 3
   },
   "file_extension": ".py",
   "mimetype": "text/x-python",
   "name": "python",
   "nbconvert_exporter": "python",
   "pygments_lexer": "ipython3",
   "version": "3.12.5"
  }
 },
 "nbformat": 4,
 "nbformat_minor": 4
}
